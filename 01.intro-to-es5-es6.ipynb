{
 "cells": [
  {
   "cell_type": "markdown",
   "id": "ef52d75e",
   "metadata": {},
   "source": [
    "# Introduction to JavaScript ES5/ES6\n",
    "\n",
    "Fundamental JavaScript concepts from ES5 and ES6 with practical examples."
   ]
  },
  {
   "cell_type": "markdown",
   "id": "3a2045ea",
   "metadata": {},
   "source": [
    "## 1. Key Characteristics\n",
    "\n",
    "- **Untyped (Dynamic Typing)**: Variables don't have fixed types\n",
    "- **Lazy Evaluation**: Short-circuit evaluation\n",
    "- **Single-threaded Event Loop**: Event-driven architecture"
   ]
  },
  {
   "cell_type": "code",
   "execution_count": null,
   "id": "1bb72bc5",
   "metadata": {},
   "outputs": [],
   "source": [
    "// Dynamic typing\n",
    "let x = 42;\n",
    "console.log(typeof x);\n",
    "x = \"hello\";\n",
    "console.log(typeof x);\n",
    "\n",
    "// Lazy evaluation\n",
    "let result = true || (console.log(\"This won't execute\"), false);\n",
    "console.log(result);"
   ]
  },
  {
   "cell_type": "code",
   "execution_count": null,
   "id": "3fa7475f",
   "metadata": {},
   "outputs": [],
   "source": [
    "// Event loop\n",
    "console.log(\"1 - Start\");\n",
    "\n",
    "setTimeout(() => {\n",
    "    console.log(\"2 - Async operation\");\n",
    "}, 0);\n",
    "\n",
    "console.log(\"3 - End\");"
   ]
  },
  {
   "cell_type": "markdown",
   "id": "8dc88a28",
   "metadata": {},
   "source": [
    "## 2. Variable Hoisting and Scoping"
   ]
  },
  {
   "cell_type": "code",
   "execution_count": 4,
   "id": "2a8f448f",
   "metadata": {},
   "outputs": [
    {
     "name": "stdout",
     "output_type": "stream",
     "text": [
      "undefined\n",
      "undefined\n",
      "100\n",
      "50\n"
     ]
    }
   ],
   "source": [
    "function fun3() {\n",
    "    console.log(v);        // undefined (hoisted)\n",
    "    console.log(this);\n",
    "    var v = 100;\n",
    "    console.log(v);        // 100\n",
    "    \n",
    "    do {\n",
    "        // x = 10;            // global, not recommended! may fail in Deno\n",
    "        let y = 100;\n",
    "    } while(v-- > 0);\n",
    "\n",
    "    // console.log(y);     // Error: y not defined\n",
    "    \n",
    "    {\n",
    "        let y = 50;\n",
    "        console.log(y);    // 50\n",
    "    }\n",
    "    // console.log(y);     // Error: y not defined\n",
    "}\n",
    "\n",
    "fun3();"
   ]
  },
  {
   "cell_type": "code",
   "execution_count": 3,
   "id": "1294d7ca",
   "metadata": {},
   "outputs": [
    {
     "name": "stdout",
     "output_type": "stream",
     "text": [
      "I'm function-scoped\n"
     ]
    }
   ],
   "source": [
    "// var vs let vs const\n",
    "if (true) {\n",
    "    var varVar = \"I'm function-scoped\";\n",
    "    let letVar = \"I'm block-scoped\";\n",
    "    const constVar = \"I'm block-scoped and constant\";\n",
    "}\n",
    "\n",
    "console.log(varVar);     // Accessible\n",
    "// console.log(letVar);  // Error\n",
    "// console.log(constVar); // Error"
   ]
  },
  {
   "cell_type": "markdown",
   "id": "func_hoist",
   "metadata": {},
   "source": [
    "## 3. Function Hoisting"
   ]
  },
  {
   "cell_type": "code",
   "execution_count": 6,
   "id": "func_hoist_code",
   "metadata": {},
   "outputs": [
    {
     "name": "stdout",
     "output_type": "stream",
     "text": [
      "some code runs here\n",
      "undefined\n",
      "!!!!!\n"
     ]
    }
   ],
   "source": [
    "function smart() {\n",
    "    // funfun();            // Error: funfun is not a function\n",
    "\n",
    "    console.log(\"some code runs here\");\n",
    "    console.log(funfun); // undefined\n",
    "\n",
    "    var funfun = function () {\n",
    "        console.log(\"!!!!!\");\n",
    "    }\n",
    "\n",
    "    funfun();            // Works\n",
    "}\n",
    "\n",
    "smart();"
   ]
  },
  {
   "cell_type": "markdown",
   "id": "92df6b7e",
   "metadata": {},
   "source": [
    "## 4. Basics: Variables, Arithmetic, Functions"
   ]
  },
  {
   "cell_type": "code",
   "execution_count": 7,
   "id": "8a26ffa0",
   "metadata": {},
   "outputs": [
    {
     "name": "stdout",
     "output_type": "stream",
     "text": [
      "30\n",
      "10\n",
      "200\n",
      "2\n",
      "0\n",
      "100\n",
      "11\n"
     ]
    }
   ],
   "source": [
    "let x = 10;\n",
    "const y = 20;\n",
    "var z = 30;\n",
    "\n",
    "console.log(x + y);      // 30\n",
    "console.log(y - x);      // 10\n",
    "console.log(x * y);      // 200\n",
    "console.log(y / x);      // 2\n",
    "console.log(y % x);      // 0\n",
    "console.log(x ** 2);     // 100\n",
    "console.log(++x);        // 11"
   ]
  },
  {
   "cell_type": "markdown",
   "id": "5313b601",
   "metadata": {},
   "source": [
    "### 4a. Function Declaraion"
   ]
  },
  {
   "cell_type": "code",
   "execution_count": 8,
   "id": "6e478d32",
   "metadata": {},
   "outputs": [
    {
     "name": "stdout",
     "output_type": "stream",
     "text": [
      "8\n",
      "15\n"
     ]
    }
   ],
   "source": [
    "// Function declaration\n",
    "function add(a, b) {\n",
    "    return a + b;\n",
    "}\n",
    "\n",
    "// Function expression\n",
    "const multiply = function(a, b) {\n",
    "    return a * b;\n",
    "};\n",
    "\n",
    "console.log(add(5, 3));       // 8\n",
    "console.log(multiply(5, 3));  // 15"
   ]
  },
  {
   "cell_type": "markdown",
   "id": "bd5207ed",
   "metadata": {},
   "source": [
    "## 5. Arrow Functions"
   ]
  },
  {
   "cell_type": "code",
   "execution_count": null,
   "id": "e646032f",
   "metadata": {},
   "outputs": [],
   "source": [
    "const add = (a, b) => a + b;\n",
    "const square = x => x * x;\n",
    "const greet = () => \"Hello!\";\n",
    "\n",
    "console.log(add(5, 3));    // 8\n",
    "console.log(square(4));    // 16\n",
    "console.log(greet());      // \"Hello!\"\n",
    "\n",
    "const complex = (a, b) => {\n",
    "    const sum = a + b;\n",
    "    const product = a * b;\n",
    "    return { sum, product };\n",
    "};\n",
    "\n",
    "console.log(complex(1, 5));  // { sum: 6, product: 5 }"
   ]
  },
  {
   "cell_type": "markdown",
   "id": "arrow_this",
   "metadata": {},
   "source": [
    "## 6. Arrow Functions and 'this' Context"
   ]
  },
  {
   "cell_type": "code",
   "execution_count": null,
   "id": "90b47ab6",
   "metadata": {},
   "outputs": [],
   "source": [
    "const obj = {\n",
    "    value: 42,\n",
    "    moreobj: {\n",
    "        a: 10,\n",
    "        fn: function() { \n",
    "            console.log(this);  // moreobj\n",
    "        },\n",
    "        lmbd: () => { \n",
    "            console.log(this);  // global/undefined\n",
    "        }\n",
    "    },\n",
    "    regFun: function() {\n",
    "        console.log(\"Regular function this:\", this.value);\n",
    "    },\n",
    "    arrFun: () => {\n",
    "        console.log(\"Arrow function this:\", this.value);\n",
    "    }\n",
    "};\n",
    "\n",
    "obj.moreobj.fn();\n",
    "obj.moreobj.lmbd();\n",
    "obj.regFun();      // 42\n",
    "obj.arrFun();      // undefined"
   ]
  },
  {
   "cell_type": "markdown",
   "id": "closures",
   "metadata": {},
   "source": [
    "## 7. Closures and Private State"
   ]
  },
  {
   "cell_type": "code",
   "execution_count": null,
   "id": "closures_code",
   "metadata": {},
   "outputs": [],
   "source": [
    "function s1(initval) {\n",
    "    let cnt = initval;\n",
    "    \n",
    "    let myfun = function() {\n",
    "        return cnt++;\n",
    "    }\n",
    "\n",
    "    let setfun = function(nvar) {\n",
    "        cnt = nvar;\n",
    "    }\n",
    "\n",
    "    return [myfun, setfun];\n",
    "}\n",
    "\n",
    "let [gen, setnew] = s1(100);\n",
    "\n",
    "console.log(gen());    // 100\n",
    "console.log(gen());    // 101\n",
    "setnew(200);\n",
    "console.log(gen());    // 200"
   ]
  },
  {
   "cell_type": "markdown",
   "id": "53a0554e",
   "metadata": {},
   "source": [
    "## 8. IIFE and Anonymous Functions"
   ]
  },
  {
   "cell_type": "code",
   "execution_count": null,
   "id": "99646f16",
   "metadata": {},
   "outputs": [],
   "source": [
    "// Anonymous function\n",
    "setTimeout(function() {\n",
    "    console.log(\"Anonymous function\");\n",
    "}, 100);\n",
    "\n",
    "setTimeout(() => {\n",
    "    console.log(\"Anonymous arrow function\");\n",
    "}, 100);"
   ]
  },
  {
   "cell_type": "code",
   "execution_count": null,
   "id": "b4007843",
   "metadata": {},
   "outputs": [],
   "source": [
    "// IIFE (Immediately Invoked Function Expression)\n",
    "(function() {\n",
    "    const private = \"I'm private!\";\n",
    "    console.log(\"IIFE executed:\", private);\n",
    "})();\n",
    "\n",
    "// IIFE with parameters\n",
    "(function(name) {\n",
    "    console.log(\"Hello, \" + name + \"!\");\n",
    "})(\"World\");\n",
    "\n",
    "// Arrow IIFE\n",
    "(() => {\n",
    "    console.log(\"Arrow IIFE\");\n",
    "})();\n",
    "\n",
    "// IIFE returning value\n",
    "const result = (function() {\n",
    "    return 42;\n",
    "})();\n",
    "console.log(\"IIFE result:\", result);"
   ]
  },
  {
   "cell_type": "code",
   "execution_count": null,
   "id": "iife_lec2",
   "metadata": {},
   "outputs": [],
   "source": [
    "// IIFE for private scope\n",
    "(function () {\n",
    "    const x = [1, 2, 3];\n",
    "    let baloon = 'нищо съществено';\n",
    "    let baba = 'Мойта баба';\n",
    "\n",
    "    const y = ((x, y, z, c) => { \n",
    "        baba = 'Нещо друго';\n",
    "        y = 'нов балон';\n",
    "        x[0] = x[1] + x[2];\n",
    "    });\n",
    "\n",
    "    y(x, baloon);\n",
    "\n",
    "    console.log(baba);  // 'Нещо друго'\n",
    "    console.log(x);     // [5, 2, 3]\n",
    "})();"
   ]
  },
  {
   "cell_type": "markdown",
   "id": "constructor",
   "metadata": {},
   "source": [
    "## 9. Constructor Functions and 'new'"
   ]
  },
  {
   "cell_type": "code",
   "execution_count": null,
   "id": "constructor_code",
   "metadata": {},
   "outputs": [],
   "source": [
    "function FunFun() {\n",
    "    this.something = \"yes !\";\n",
    "\n",
    "    this.arrfun = () => {\n",
    "        console.log(this.something);\n",
    "    }\n",
    "\n",
    "    this.regfun = function () {\n",
    "        console.log(this.something);\n",
    "    }\n",
    "}\n",
    "\n",
    "let objX = FunFun();      // Without 'new'\n",
    "let obj = new FunFun();   // With 'new'\n",
    "obj.arrfun();             // \"yes !\"\n",
    "obj.regfun();             // \"yes !\""
   ]
  },
  {
   "cell_type": "markdown",
   "id": "binding",
   "metadata": {},
   "source": [
    "## 10. Context Binding: bind(), call(), apply()"
   ]
  },
  {
   "cell_type": "code",
   "execution_count": null,
   "id": "binding_code",
   "metadata": {},
   "outputs": [],
   "source": [
    "let myctx = { \n",
    "    something: 10,\n",
    "    else: \"is here\"\n",
    "}\n",
    "\n",
    "function FunFun() {\n",
    "    this.something = \"yes !\";\n",
    "    this.arrfun = () => { console.log(this.something); }\n",
    "    this.regfun = function () { console.log(this.something); }\n",
    "}\n",
    "\n",
    "let obj = new FunFun();\n",
    "\n",
    "const arrBound = obj.arrfun.bind(myctx);\n",
    "const regBound = obj.regfun.bind(myctx);\n",
    "arrBound();  // \"yes !\" (arrow ignores bind)\n",
    "regBound();  // 10"
   ]
  },
  {
   "cell_type": "code",
   "execution_count": null,
   "id": "call_apply",
   "metadata": {},
   "outputs": [],
   "source": [
    "// call() and apply()\n",
    "function newFun(x, y) {\n",
    "    console.log(this.a + 10);\n",
    "    console.log(x, y);\n",
    "}\n",
    "\n",
    "const ctxctx = { a: 10, b: 20 };\n",
    "\n",
    "newFun.call(ctxctx, \"baba\", \"cooks\");\n",
    "newFun.apply(ctxctx, [\"baba\", \"cooks\"]);\n",
    "\n",
    "arr = [1, 2, 3, 4];\n",
    "newFun.call(ctxctx, ...arr);  // spread operator"
   ]
  },
  {
   "cell_type": "code",
   "execution_count": null,
   "id": "curry",
   "metadata": {},
   "outputs": [],
   "source": [
    "// Custom curry function\n",
    "let myfun = function() {\n",
    "    return this.something;\n",
    "}\n",
    "\n",
    "function curry(ctx, fun) {\n",
    "    return function () {\n",
    "        for (let k of Object.keys(ctx)) {\n",
    "            this[k] = ctx[k];\n",
    "        }\n",
    "        return fun();\n",
    "    }\n",
    "}\n",
    "\n",
    "let wrp = curry(myctx, myfun);\n",
    "console.log(wrp());\n",
    "\n",
    "let boundFn = myfun.bind(myctx);\n",
    "console.log(boundFn());"
   ]
  },
  {
   "cell_type": "markdown",
   "id": "ac96eafe",
   "metadata": {},
   "source": [
    "## 11. Strings and String Methods"
   ]
  },
  {
   "cell_type": "code",
   "execution_count": null,
   "id": "94f902af",
   "metadata": {},
   "outputs": [],
   "source": [
    "const str = \"Hello, World!\";\n",
    "\n",
    "console.log(str.length);              // 13\n",
    "console.log(str.toUpperCase());       // \"HELLO, WORLD!\"\n",
    "console.log(str.toLowerCase());       // \"hello, world!\"\n",
    "console.log(str.charAt(0));           // \"H\"\n",
    "console.log(str.indexOf(\"World\"));    // 7\n",
    "console.log(str.slice(0, 5));         // \"Hello\"\n",
    "console.log(str.substring(7, 12));    // \"World\"\n",
    "console.log(str.split(\", \"));         // [\"Hello\", \"World!\"]\n",
    "console.log(str.replace(\"World\", \"JS\")); // \"Hello, JS!\"\n",
    "console.log(str.includes(\"World\"));   // true\n",
    "console.log(str.startsWith(\"Hello\")); // true\n",
    "console.log(str.endsWith(\"!\"));       // true\n",
    "console.log(\"  trim  \".trim());       // \"trim\""
   ]
  },
  {
   "cell_type": "code",
   "execution_count": null,
   "id": "f09f58b5",
   "metadata": {},
   "outputs": [],
   "source": [
    "// Template literals\n",
    "const name = \"Alice\";\n",
    "const age = 25;\n",
    "const greeting = `Hello, my name is ${name} and I am ${age} years old.`;\n",
    "console.log(greeting);\n",
    "\n",
    "const multiline = `\n",
    "This is a\n",
    "multi-line\n",
    "string\n",
    "`;\n",
    "console.log(multiline);"
   ]
  },
  {
   "cell_type": "markdown",
   "id": "99dc6e28",
   "metadata": {},
   "source": [
    "## 12. Math Object"
   ]
  },
  {
   "cell_type": "code",
   "execution_count": null,
   "id": "b2e4cc30",
   "metadata": {},
   "outputs": [],
   "source": [
    "console.log(Math.PI);           // 3.141592653589793\n",
    "console.log(Math.E);            // 2.718281828459045\n",
    "console.log(Math.abs(-5));      // 5\n",
    "console.log(Math.round(4.7));   // 5\n",
    "console.log(Math.floor(4.7));   // 4\n",
    "console.log(Math.ceil(4.3));    // 5\n",
    "console.log(Math.max(1, 5, 3)); // 5\n",
    "console.log(Math.min(1, 5, 3)); // 1\n",
    "console.log(Math.pow(2, 3));    // 8\n",
    "console.log(Math.sqrt(16));     // 4\n",
    "console.log(Math.random());     // Random [0, 1)"
   ]
  },
  {
   "cell_type": "markdown",
   "id": "regex",
   "metadata": {},
   "source": [
    "## 13. RegExp"
   ]
  },
  {
   "cell_type": "code",
   "execution_count": null,
   "id": "ff78f99a",
   "metadata": {},
   "outputs": [],
   "source": [
    "const regex1 = /hello/i;\n",
    "const regex2 = new RegExp('world', 'g');\n",
    "\n",
    "console.log(regex1.test('Hello World'));    // true\n",
    "console.log('Hello World'.match(/o/g));     // [\"o\", \"o\"]\n",
    "console.log('Hello World'.search(/World/)); // 6\n",
    "console.log('Hello World'.replace(/World/, 'JS')); // \"Hello JS\"\n",
    "\n",
    "const email = /^[\\w-\\.]+@([\\w-]+\\.)+[\\w-]{2,4}$/;\n",
    "console.log(email.test('test@example.com'));  // true"
   ]
  },
  {
   "cell_type": "markdown",
   "id": "a39f12a9",
   "metadata": {},
   "source": [
    "## 14. BigInt"
   ]
  },
  {
   "cell_type": "code",
   "execution_count": null,
   "id": "49dc795a",
   "metadata": {},
   "outputs": [],
   "source": [
    "console.log(Number.MAX_SAFE_INTEGER);    // 9007199254740991\n",
    "console.log(Number.MIN_SAFE_INTEGER);    // -9007199254740991\n",
    "\n",
    "// Precision lost beyond safe integer\n",
    "console.log(9007199254740992 === 9007199254740993); // true (!)"
   ]
  },
  {
   "cell_type": "code",
   "execution_count": null,
   "id": "0130620f",
   "metadata": {},
   "outputs": [],
   "source": [
    "const bigInt1 = 123456789012345678901234567890n;\n",
    "const bigInt2 = BigInt(\"987654321098765432109876543210\");\n",
    "\n",
    "console.log(bigInt1);\n",
    "console.log(bigInt2);\n",
    "\n",
    "const sum = bigInt1 + bigInt2;\n",
    "const product = bigInt1 * 2n;\n",
    "const power = 2n ** 100n;\n",
    "\n",
    "console.log(sum);\n",
    "console.log(product);\n",
    "console.log(power);\n",
    "\n",
    "// const mixed = bigInt1 + 5;  // Error!\n",
    "const correct = bigInt1 + 5n;  // Works\n",
    "console.log(correct);"
   ]
  }
 ],
 "metadata": {
  "kernelspec": {
   "display_name": "Deno",
   "language": "typescript",
   "name": "deno"
  },
  "language_info": {
   "codemirror_mode": "typescript",
   "file_extension": ".ts",
   "mimetype": "text/x.typescript",
   "name": "typescript",
   "nbconvert_exporter": "script",
   "pygments_lexer": "typescript",
   "version": "5.8.3"
  }
 },
 "nbformat": 4,
 "nbformat_minor": 5
}
