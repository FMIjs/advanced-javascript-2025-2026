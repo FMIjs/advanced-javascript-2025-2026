{
 "cells": [
  {
   "cell_type": "markdown",
   "id": "header",
   "metadata": {},
   "source": [
    "# Data Structures in JavaScript\n",
    "\n",
    "Collections, transformations, and data manipulation."
   ]
  },
  {
   "cell_type": "markdown",
   "id": "destr",
   "metadata": {},
   "source": [
    "## 1. Destructuring"
   ]
  },
  {
   "cell_type": "code",
   "execution_count": null,
   "id": "destr_arr",
   "metadata": {},
   "outputs": [],
   "source": [
    "// Array destructuring\n",
    "const numbers = [1, 2, 3, 4, 5];\n",
    "const [first, second, ...rest] = numbers;\n",
    "console.log(first);   // 1\n",
    "console.log(second);  // 2\n",
    "console.log(rest);    // [3, 4, 5]\n",
    "\n",
    "// Object destructuring\n",
    "const person = { name: \"John\", age: 30, city: \"New York\" };\n",
    "const { name, age } = person;\n",
    "console.log(name);    // \"John\"\n",
    "console.log(age);     // 30"
   ]
  },
  {
   "cell_type": "code",
   "execution_count": null,
   "id": "destr_fn",
   "metadata": {},
   "outputs": [],
   "source": [
    "// Destructuring in function parameters\n",
    "function destr({name, age}) {\n",
    "    console.log(name, age);\n",
    "}\n",
    "\n",
    "destr({\n",
    "    name: \"My Name\",\n",
    "    age: 10\n",
    "});"
   ]
  },
  {
   "cell_type": "markdown",
   "id": "spread",
   "metadata": {},
   "source": [
    "## 2. Spread Operator"
   ]
  },
  {
   "cell_type": "code",
   "execution_count": null,
   "id": "spread_code",
   "metadata": {},
   "outputs": [],
   "source": [
    "// Array spread\n",
    "const arr1 = [1, 2, 3];\n",
    "const arr2 = [4, 5, 6];\n",
    "const combined = [...arr1, ...arr2];\n",
    "console.log(combined);  // [1, 2, 3, 4, 5, 6]\n",
    "\n",
    "// Object spread\n",
    "const obj1 = { a: 1, b: 2 };\n",
    "const obj2 = { c: 3, d: 4 };\n",
    "const merged = { ...obj1, ...obj2 };\n",
    "console.log(merged);    // { a: 1, b: 2, c: 3, d: 4 }\n",
    "\n",
    "// Copying arrays\n",
    "const original = [1, 2, 3];\n",
    "const copy = [...original];\n",
    "console.log(copy);"
   ]
  },
  {
   "cell_type": "code",
   "execution_count": null,
   "id": "spread_fn",
   "metadata": {},
   "outputs": [],
   "source": [
    "// Spread in function calls\n",
    "function newFun(x, y) {\n",
    "    console.log(x, y);\n",
    "}\n",
    "\n",
    "const arr = [1, 2, 3, 4];\n",
    "newFun(...arr);  // 1 2"
   ]
  },
  {
   "cell_type": "markdown",
   "id": "arrays",
   "metadata": {},
   "source": [
    "## 3. Arrays and Basic Methods"
   ]
  },
  {
   "cell_type": "code",
   "execution_count": null,
   "id": "arr_basic",
   "metadata": {},
   "outputs": [],
   "source": [
    "const arr = [1, 2, 3, 4, 5];\n",
    "\n",
    "console.log(arr.length);        // 5\n",
    "console.log(arr.push(6));       // 6 (new length)\n",
    "console.log(arr.pop());         // 6\n",
    "console.log(arr.unshift(0));    // 6\n",
    "console.log(arr.shift());       // 0\n",
    "console.log(arr.slice(1, 3));   // [2, 3]\n",
    "console.log(arr.indexOf(3));    // 2\n",
    "console.log(arr.includes(4));   // true\n",
    "console.log(arr.join(\", \"));    // \"1, 2, 3, 4, 5\"\n",
    "console.log(arr.reverse());     // [5, 4, 3, 2, 1]\n",
    "console.log(arr.sort());        // Sorts array\n",
    "console.log([1, 2, 3].concat([4, 5])); // [1, 2, 3, 4, 5]"
   ]
  },
  {
   "cell_type": "markdown",
   "id": "map_filter",
   "metadata": {},
   "source": [
    "## 4. Array Methods: map, filter, reduce"
   ]
  },
  {
   "cell_type": "code",
   "execution_count": null,
   "id": "map_code",
   "metadata": {},
   "outputs": [],
   "source": [
    "// map() - transform each element\n",
    "const numbers = [1, 2, 3, 4, 5];\n",
    "const doubled = numbers.map(n => n * 2);\n",
    "console.log(doubled);  // [2, 4, 6, 8, 10]\n",
    "\n",
    "const names = ['alice', 'bob', 'charlie'];\n",
    "const caps = names.map(name => name.toUpperCase());\n",
    "console.log(caps);  // ['ALICE', 'BOB', 'CHARLIE']"
   ]
  },
  {
   "cell_type": "code",
   "execution_count": null,
   "id": "filter_code",
   "metadata": {},
   "outputs": [],
   "source": [
    "// filter() - keep elements that pass test\n",
    "const numbers = [1, 2, 3, 4, 5, 6, 7, 8, 9, 10];\n",
    "const evens = numbers.filter(n => n % 2 === 0);\n",
    "console.log(evens);  // [2, 4, 6, 8, 10]\n",
    "\n",
    "const words = ['spray', 'limit', 'elite', 'exuberant'];\n",
    "const longWords = words.filter(word => word.length > 6);\n",
    "console.log(longWords);  // ['exuberant']"
   ]
  },
  {
   "cell_type": "code",
   "execution_count": null,
   "id": "reduce_code",
   "metadata": {},
   "outputs": [],
   "source": [
    "// reduce() - accumulate to single value\n",
    "const numbers = [1, 2, 3, 4, 5];\n",
    "const sum = numbers.reduce((acc, n) => acc + n, 0);\n",
    "console.log(sum);  // 15\n",
    "\n",
    "const product = numbers.reduce((acc, n) => acc * n, 1);\n",
    "console.log(product);  // 120\n",
    "\n",
    "const max = numbers.reduce((acc, n) => Math.max(acc, n));\n",
    "console.log(max);  // 5"
   ]
  },
  {
   "cell_type": "markdown",
   "id": "foreach",
   "metadata": {},
   "source": [
    "## 5. Array Methods: forEach, some, every"
   ]
  },
  {
   "cell_type": "code",
   "execution_count": null,
   "id": "foreach_code",
   "metadata": {},
   "outputs": [],
   "source": [
    "// forEach() - execute function for each element\n",
    "const numbers = [1, 2, 3, 4, 5];\n",
    "numbers.forEach(n => console.log(n * 2));\n",
    "\n",
    "let sum = 0;\n",
    "numbers.forEach(n => sum += n);\n",
    "console.log(sum);  // 15"
   ]
  },
  {
   "cell_type": "code",
   "execution_count": null,
   "id": "some_code",
   "metadata": {},
   "outputs": [],
   "source": [
    "// some() - test if at least one element passes\n",
    "const numbers = [1, 2, 3, 4, 5];\n",
    "const hasEven = numbers.some(n => n % 2 === 0);\n",
    "console.log(hasEven);  // true\n",
    "\n",
    "const hasNeg = numbers.some(n => n < 0);\n",
    "console.log(hasNeg);  // false"
   ]
  },
  {
   "cell_type": "code",
   "execution_count": null,
   "id": "every_code",
   "metadata": {},
   "outputs": [],
   "source": [
    "// every() - test if all elements pass\n",
    "const numbers = [2, 4, 6, 8, 10];\n",
    "const allEven = numbers.every(n => n % 2 === 0);\n",
    "console.log(allEven);  // true\n",
    "\n",
    "const allPos = numbers.every(n => n > 0);\n",
    "console.log(allPos);  // true"
   ]
  },
  {
   "cell_type": "markdown",
   "id": "maps",
   "metadata": {},
   "source": [
    "## 6. Maps"
   ]
  },
  {
   "cell_type": "code",
   "execution_count": null,
   "id": "map_obj",
   "metadata": {},
   "outputs": [],
   "source": [
    "// Map - key-value pairs with any type of key\n",
    "const map = new Map();\n",
    "\n",
    "map.set('name', 'John');\n",
    "map.set('age', 30);\n",
    "map.set(1, 'number key');\n",
    "map.set(true, 'boolean key');\n",
    "\n",
    "console.log(map.get('name'));  // \"John\"\n",
    "console.log(map.has('age'));   // true\n",
    "console.log(map.size);         // 4\n",
    "\n",
    "// Iterating over Map\n",
    "for (const [key, value] of map) {\n",
    "    console.log(`${key}: ${value}`);\n",
    "}\n",
    "\n",
    "map.delete('age');\n",
    "console.log(map.size);  // 3"
   ]
  },
  {
   "cell_type": "markdown",
   "id": "weakmap",
   "metadata": {},
   "source": [
    "## 7. WeakMaps"
   ]
  },
  {
   "cell_type": "code",
   "execution_count": null,
   "id": "weakmap_code",
   "metadata": {},
   "outputs": [],
   "source": [
    "// WeakMap - only objects as keys, garbage-collected\n",
    "const weakMap = new WeakMap();\n",
    "let obj1 = { id: 1 };\n",
    "let obj2 = { id: 2 };\n",
    "\n",
    "weakMap.set(obj1, 'data for obj1');\n",
    "weakMap.set(obj2, 'data for obj2');\n",
    "\n",
    "console.log(weakMap.get(obj1));  // \"data for obj1\"\n",
    "console.log(weakMap.has(obj2));  // true\n",
    "\n",
    "// When obj1 is no longer referenced, it can be GC'd\n",
    "obj1 = null;"
   ]
  },
  {
   "cell_type": "markdown",
   "id": "sets",
   "metadata": {},
   "source": [
    "## 8. Sets"
   ]
  },
  {
   "cell_type": "code",
   "execution_count": null,
   "id": "set_code",
   "metadata": {},
   "outputs": [],
   "source": [
    "// Set - collection of unique values\n",
    "const set = new Set();\n",
    "\n",
    "set.add(1);\n",
    "set.add(2);\n",
    "set.add(3);\n",
    "set.add(2);  // Duplicate, won't be added\n",
    "\n",
    "console.log(set.size);     // 3\n",
    "console.log(set.has(2));   // true\n",
    "\n",
    "// Iterating over Set\n",
    "for (const value of set) {\n",
    "    console.log(value);\n",
    "}\n",
    "\n",
    "// Remove duplicates from array\n",
    "const numbers = [1, 2, 2, 3, 4, 4, 5];\n",
    "const unique = [...new Set(numbers)];\n",
    "console.log(unique);  // [1, 2, 3, 4, 5]\n",
    "\n",
    "set.delete(2);\n",
    "console.log(set.size);  // 2"
   ]
  },
  {
   "cell_type": "markdown",
   "id": "objects",
   "metadata": {},
   "source": [
    "## 9. Objects and Object Methods"
   ]
  },
  {
   "cell_type": "code",
   "execution_count": null,
   "id": "obj_create",
   "metadata": {},
   "outputs": [],
   "source": [
    "// Creating objects\n",
    "const person = {\n",
    "    name: \"John\",\n",
    "    age: 30,\n",
    "    city: \"New York\",\n",
    "    greet: function() {\n",
    "        return `Hello, I'm ${this.name}`;\n",
    "    }\n",
    "};\n",
    "\n",
    "console.log(person.name);      // \"John\"\n",
    "console.log(person['age']);    // 30\n",
    "console.log(person.greet());   // \"Hello, I'm John\""
   ]
  },
  {
   "cell_type": "code",
   "execution_count": null,
   "id": "obj_methods",
   "metadata": {},
   "outputs": [],
   "source": [
    "// Object methods\n",
    "const obj = { a: 1, b: 2, c: 3 };\n",
    "\n",
    "console.log(Object.keys(obj));     // [\"a\", \"b\", \"c\"]\n",
    "console.log(Object.values(obj));   // [1, 2, 3]\n",
    "console.log(Object.entries(obj));  // [[\"a\", 1], [\"b\", 2], [\"c\", 3]]\n",
    "\n",
    "// Object.assign() - copy properties\n",
    "const target = { x: 1 };\n",
    "const source = { y: 2, z: 3 };\n",
    "const result = Object.assign(target, source);\n",
    "console.log(result);  // { x: 1, y: 2, z: 3 }\n",
    "\n",
    "// Object.freeze() - make immutable\n",
    "const frozen = Object.freeze({ val: 42 });\n",
    "// frozen.val = 100;  // Won't work\n",
    "console.log(frozen.val);  // 42\n",
    "\n",
    "// Object.seal() - prevent add/remove properties\n",
    "const sealed = Object.seal({ val: 42 });\n",
    "sealed.val = 100;  // Can modify existing\n",
    "console.log(sealed.val);  // 100"
   ]
  },
  {
   "cell_type": "markdown",
   "id": "shorthand",
   "metadata": {},
   "source": [
    "## 10. Property and Method Shorthand"
   ]
  },
  {
   "cell_type": "code",
   "execution_count": null,
   "id": "shorthand_code",
   "metadata": {},
   "outputs": [],
   "source": [
    "// Property shorthand\n",
    "const name = \"Alice\";\n",
    "const age = 25;\n",
    "const person = { name, age };  // Same as { name: name, age: age }\n",
    "console.log(person);\n",
    "\n",
    "// Method shorthand\n",
    "const calc = {\n",
    "    add(a, b) {  // Instead of: add: function(a, b)\n",
    "        return a + b;\n",
    "    },\n",
    "    multiply(a, b) {\n",
    "        return a * b;\n",
    "    }\n",
    "};\n",
    "console.log(calc.add(2, 3));  // 5"
   ]
  }
 ],
 "metadata": {
  "kernelspec": {
   "display_name": "Python 3",
   "language": "python",
   "name": "python3"
  },
  "language_info": {
   "codemirror_mode": {
    "name": "ipython",
    "version": 3
   },
   "file_extension": ".py",
   "mimetype": "text/x-python",
   "name": "python",
   "nbconvert_exporter": "python",
   "pygments_lexer": "ipython3",
   "version": "3.8.0"
  }
 },
 "nbformat": 4,
 "nbformat_minor": 5
}
