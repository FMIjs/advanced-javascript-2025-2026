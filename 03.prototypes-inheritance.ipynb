{
 "cells": [
  {
   "cell_type": "markdown",
   "id": "header",
   "metadata": {},
   "source": [
    "# Prototypes and Inheritance in JavaScript\n",
    "\n",
    "Understanding JavaScript's prototype-based inheritance model."
   ]
  },
  {
   "cell_type": "markdown",
   "id": "proto_intro",
   "metadata": {},
   "source": [
    "## 1. What are Prototypes?\n",
    "\n",
    "In JavaScript, every object has a hidden link to another object called its **prototype**. When you try to access a property on an object, JavaScript first looks at the object itself. If it doesn't find it, it looks at the object's prototype, then the prototype's prototype, and so on - forming a **prototype chain**.\n",
    "\n",
    "Think of it like inheritance in a family tree: if you don't have something, you can borrow it from your parent, and if they don't have it, from their parent, etc."
   ]
  },
  {
   "cell_type": "code",
   "execution_count": null,
   "id": "proto_basic",
   "metadata": {},
   "outputs": [],
   "source": [
    "// Every object has a prototype\n",
    "const obj = { a: 1 };\n",
    "console.log(Object.getPrototypeOf(obj));  // Object.prototype\n",
    "\n",
    "// Arrays have Array.prototype\n",
    "const arr = [1, 2, 3];\n",
    "console.log(Object.getPrototypeOf(arr));  // Array.prototype\n",
    "\n",
    "// Functions have Function.prototype\n",
    "function fn() {}\n",
    "console.log(Object.getPrototypeOf(fn));   // Function.prototype"
   ]
  },
  {
   "cell_type": "markdown",
   "id": "proto_chain",
   "metadata": {},
   "source": [
    "## 2. The Prototype Chain (ELI5)\n",
    "\n",
    "Imagine you're looking for a toy:\n",
    "1. First, you check your own toy box\n",
    "2. If not there, you ask your older sibling\n",
    "3. If they don't have it, they ask your parents\n",
    "4. If parents don't have it, they ask grandparents\n",
    "5. Eventually, you reach the end (null)\n",
    "\n",
    "This is exactly how JavaScript's prototype chain works!"
   ]
  },
  {
   "cell_type": "code",
   "execution_count": null,
   "id": "chain_example",
   "metadata": {},
   "outputs": [],
   "source": [
    "const grandparent = { surname: \"Smith\" };\n",
    "const parent = Object.create(grandparent);\n",
    "parent.job = \"Engineer\";\n",
    "const child = Object.create(parent);\n",
    "child.name = \"Alice\";\n",
    "\n",
    "console.log(child.name);     // \"Alice\" (own property)\n",
    "console.log(child.job);      // \"Engineer\" (from parent)\n",
    "console.log(child.surname);  // \"Smith\" (from grandparent)\n",
    "\n",
    "// The chain: child -> parent -> grandparent -> Object.prototype -> null"
   ]
  },
  {
   "cell_type": "markdown",
   "id": "constructor",
   "metadata": {},
   "source": [
    "## 3. Constructor Functions and Prototypes"
   ]
  },
  {
   "cell_type": "code",
   "execution_count": null,
   "id": "constructor_code",
   "metadata": {},
   "outputs": [],
   "source": [
    "function Person(name, age) {\n",
    "    this.name = name;\n",
    "    this.age = age;\n",
    "}\n",
    "\n",
    "// Add methods to prototype (shared by all instances)\n",
    "Person.prototype.greet = function() {\n",
    "    return `Hi, I'm ${this.name}`;\n",
    "};\n",
    "\n",
    "const alice = new Person(\"Alice\", 25);\n",
    "const bob = new Person(\"Bob\", 30);\n",
    "\n",
    "console.log(alice.greet());  // \"Hi, I'm Alice\"\n",
    "console.log(bob.greet());    // \"Hi, I'm Bob\"\n",
    "\n",
    "// Both share the same greet method\n",
    "console.log(alice.greet === bob.greet);  // true"
   ]
  },
  {
   "cell_type": "markdown",
   "id": "proto_vs_proto",
   "metadata": {},
   "source": [
    "## 4. Understanding `__proto__` vs `prototype`\n",
    "\n",
    "- `prototype`: Property on constructor functions, defines what instances will inherit\n",
    "- `__proto__`: Property on objects, points to the actual prototype object\n",
    "\n",
    "Think of it this way:\n",
    "- `prototype` is the blueprint\n",
    "- `__proto__` is the actual connection"
   ]
  },
  {
   "cell_type": "code",
   "execution_count": null,
   "id": "proto_diff",
   "metadata": {},
   "outputs": [],
   "source": [
    "function Dog(name) {\n",
    "    this.name = name;\n",
    "}\n",
    "\n",
    "Dog.prototype.bark = function() {\n",
    "    return \"Woof!\";\n",
    "};\n",
    "\n",
    "const rex = new Dog(\"Rex\");\n",
    "\n",
    "// Dog.prototype is the blueprint\n",
    "console.log(Dog.prototype);\n",
    "\n",
    "// rex.__proto__ points to Dog.prototype\n",
    "console.log(rex.__proto__ === Dog.prototype);  // true\n",
    "\n",
    "// rex can use bark because of the prototype chain\n",
    "console.log(rex.bark());  // \"Woof!\""
   ]
  },
  {
   "cell_type": "markdown",
   "id": "object_create",
   "metadata": {},
   "source": [
    "## 5. Object.create() and Prototype Manipulation"
   ]
  },
  {
   "cell_type": "code",
   "execution_count": null,
   "id": "create_code",
   "metadata": {},
   "outputs": [],
   "source": [
    "// Object.create() creates object with specified prototype\n",
    "const animal = {\n",
    "    eat: function() {\n",
    "        return \"Eating...\";\n",
    "    }\n",
    "};\n",
    "\n",
    "const dog = Object.create(animal);\n",
    "dog.bark = function() {\n",
    "    return \"Woof!\";\n",
    "};\n",
    "\n",
    "console.log(dog.bark());  // \"Woof!\" (own method)\n",
    "console.log(dog.eat());   // \"Eating...\" (from prototype)\n",
    "\n",
    "// Check prototype chain\n",
    "console.log(Object.getPrototypeOf(dog) === animal);  // true"
   ]
  },
  {
   "cell_type": "markdown",
   "id": "inheritance",
   "metadata": {},
   "source": [
    "## 6. Inheritance Patterns"
   ]
  },
  {
   "cell_type": "code",
   "execution_count": null,
   "id": "inherit_code",
   "metadata": {},
   "outputs": [],
   "source": [
    "// Parent constructor\n",
    "function Animal(name) {\n",
    "    this.name = name;\n",
    "}\n",
    "\n",
    "Animal.prototype.eat = function() {\n",
    "    return `${this.name} is eating`;\n",
    "};\n",
    "\n",
    "// Child constructor\n",
    "function Dog(name, breed) {\n",
    "    Animal.call(this, name);  // Call parent constructor\n",
    "    this.breed = breed;\n",
    "}\n",
    "\n",
    "// Set up inheritance\n",
    "Dog.prototype = Object.create(Animal.prototype);\n",
    "Dog.prototype.constructor = Dog;\n",
    "\n",
    "// Add child-specific method\n",
    "Dog.prototype.bark = function() {\n",
    "    return `${this.name} says Woof!`;\n",
    "};\n",
    "\n",
    "const rex = new Dog(\"Rex\", \"German Shepherd\");\n",
    "console.log(rex.eat());   // \"Rex is eating\" (inherited)\n",
    "console.log(rex.bark());  // \"Rex says Woof!\" (own method)"
   ]
  },
  {
   "cell_type": "markdown",
   "id": "es6_classes",
   "metadata": {},
   "source": [
    "## 7. ES6 Classes (Syntactic Sugar)\n",
    "\n",
    "ES6 classes are just syntactic sugar over prototypes - they work the same way under the hood!"
   ]
  },
  {
   "cell_type": "code",
   "execution_count": null,
   "id": "class_code",
   "metadata": {},
   "outputs": [],
   "source": [
    "class Animal {\n",
    "    constructor(name) {\n",
    "        this.name = name;\n",
    "    }\n",
    "    \n",
    "    eat() {\n",
    "        return `${this.name} is eating`;\n",
    "    }\n",
    "}\n",
    "\n",
    "class Dog extends Animal {\n",
    "    constructor(name, breed) {\n",
    "        super(name);  // Call parent constructor\n",
    "        this.breed = breed;\n",
    "    }\n",
    "    \n",
    "    bark() {\n",
    "        return `${this.name} says Woof!`;\n",
    "    }\n",
    "}\n",
    "\n",
    "const rex = new Dog(\"Rex\", \"German Shepherd\");\n",
    "console.log(rex.eat());   // \"Rex is eating\"\n",
    "console.log(rex.bark());  // \"Rex says Woof!\"\n",
    "\n",
    "// Still uses prototypes under the hood\n",
    "console.log(rex.__proto__ === Dog.prototype);  // true"
   ]
  },
  {
   "cell_type": "markdown",
   "id": "visual",
   "metadata": {},
   "source": [
    "## 8. Visual Prototype Chain Example\n",
    "\n",
    "```\n",
    "rex (instance)\n",
    "  |\n",
    "  |__proto__\n",
    "  |\n",
    "  v\n",
    "Dog.prototype\n",
    "  |\n",
    "  |__proto__\n",
    "  |\n",
    "  v\n",
    "Animal.prototype\n",
    "  |\n",
    "  |__proto__\n",
    "  |\n",
    "  v\n",
    "Object.prototype\n",
    "  |\n",
    "  |__proto__\n",
    "  |\n",
    "  v\n",
    "null\n",
    "```"
   ]
  },
  {
   "cell_type": "code",
   "execution_count": null,
   "id": "visual_code",
   "metadata": {},
   "outputs": [],
   "source": [
    "// Verify the chain\n",
    "console.log(Object.getPrototypeOf(rex) === Dog.prototype);  // true\n",
    "console.log(Object.getPrototypeOf(Dog.prototype) === Animal.prototype);  // true\n",
    "console.log(Object.getPrototypeOf(Animal.prototype) === Object.prototype);  // true\n",
    "console.log(Object.getPrototypeOf(Object.prototype) === null);  // true"
   ]
  },
  {
   "cell_type": "markdown",
   "id": "summary",
   "metadata": {},
   "source": [
    "## Summary\n",
    "\n",
    "- **Prototypes** enable object inheritance in JavaScript\n",
    "- **Prototype chain** is how JavaScript looks up properties\n",
    "- **Constructor functions** use `prototype` to share methods\n",
    "- **`__proto__`** is the actual link, **`prototype`** is the blueprint\n",
    "- **ES6 classes** are syntactic sugar over prototypes\n",
    "- Understanding prototypes is key to mastering JavaScript!"
   ]
  }
 ],
 "metadata": {
  "kernelspec": {
   "display_name": "Python 3",
   "language": "python",
   "name": "python3"
  },
  "language_info": {
   "codemirror_mode": {
    "name": "ipython",
    "version": 3
   },
   "file_extension": ".py",
   "mimetype": "text/x-python",
   "name": "python",
   "nbconvert_exporter": "python",
   "pygments_lexer": "ipython3",
   "version": "3.8.0"
  }
 },
 "nbformat": 4,
 "nbformat_minor": 5
}
