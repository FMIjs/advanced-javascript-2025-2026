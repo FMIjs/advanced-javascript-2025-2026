{
 "cells": [
  {
   "cell_type": "markdown",
   "id": "ef52d75e",
   "metadata": {},
   "source": [
    "# Introduction to JavaScript ES5/ES6\n",
    "\n",
    "This notebook covers fundamental JavaScript concepts from ES5 and ES6, providing practical examples and explanations."
   ]
  },
  {
   "cell_type": "markdown",
   "id": "3a2045ea",
   "metadata": {},
   "source": [
    "## Key Characteristics\n",
    "\n",
    "- **Untyped (Dynamic Typing)**: Variables don't have fixed types\n",
    "- **Lazy Evaluation**: Expressions are evaluated only when needed (short-circuit evaluation)\n",
    "- **Single-threaded Event Loop**: JavaScript runs on a single thread with an event-driven architecture"
   ]
  },
  {
   "cell_type": "code",
   "execution_count": 16,
   "id": "1bb72bc5",
   "metadata": {},
   "outputs": [
    {
     "name": "stdout",
     "output_type": "stream",
     "text": [
      "number\n",
      "string\n",
      "true\n"
     ]
    }
   ],
   "source": [
    "// Dynamic typing - variables can change types\n",
    "let x = 42;        // number\n",
    "console.log(typeof x);\n",
    "x = \"hello\";       // now a string\n",
    "console.log(typeof x);\n",
    "\n",
    "// Lazy evaluation with logical operators\n",
    "let result = true || (console.log(\"This won't execute\"), false);\n",
    "console.log(result);"
   ]
  },
  {
   "cell_type": "code",
   "execution_count": 17,
   "id": "3fa7475f",
   "metadata": {},
   "outputs": [
    {
     "name": "stdout",
     "output_type": "stream",
     "text": [
      "1 - Start\n",
      "3 - End\n",
      "2 - Async operation\n"
     ]
    }
   ],
   "source": [
    "// Event loop demonstration\n",
    "console.log(\"1 - Start\");\n",
    "\n",
    "setTimeout(() => {\n",
    "    console.log(\"2 - Async operation\");\n",
    "}, 0);\n",
    "\n",
    "console.log(\"3 - End\");"
   ]
  },
  {
   "cell_type": "markdown",
   "id": "8dc88a28",
   "metadata": {},
   "source": [
    "## 3. let/const Visibility"
   ]
  },
  {
   "cell_type": "code",
   "execution_count": 13,
   "id": "2a8f448f",
   "metadata": {},
   "outputs": [
    {
     "name": "stdout",
     "output_type": "stream",
     "text": [
      "I'm function-scoped\n"
     ]
    }
   ],
   "source": [
    "// var vs let vs const\n",
    "// var: function-scoped, hoisted\n",
    "// let: block-scoped, not hoisted\n",
    "// const: block-scoped, immutable binding\n",
    "\n",
    "if (true) {\n",
    "    var varVariable = \"I'm function-scoped\";\n",
    "    let letVariable = \"I'm block-scoped\";\n",
    "    const constVariable = \"I'm also block-scoped and constant\";\n",
    "}\n",
    "\n",
    "console.log(varVariable);  // Accessible\n",
    "// console.log(letVariable);  // Error: not defined\n",
    "// console.log(constVariable); // Error: not defined"
   ]
  },
  {
   "cell_type": "code",
   "execution_count": 14,
   "id": "1294d7ca",
   "metadata": {},
   "outputs": [
    {
     "name": "stdout",
     "output_type": "stream",
     "text": [
      "1\n",
      "2\n",
      "[ 3, 4, 5 ]\n",
      "John\n",
      "30\n"
     ]
    }
   ],
   "source": [
    "// Destructuring arrays\n",
    "const numbers = [1, 2, 3, 4, 5];\n",
    "const [first, second, ...rest] = numbers;\n",
    "console.log(first);   // 1\n",
    "console.log(second);  // 2\n",
    "console.log(rest);    // [3, 4, 5]\n",
    "\n",
    "// Destructuring objects\n",
    "const person = { name: \"John\", age: 30, city: \"New York\" };\n",
    "const { name, age } = person;\n",
    "console.log(name);    // \"John\"\n",
    "console.log(age);     // 30"
   ]
  },
  {
   "cell_type": "code",
   "execution_count": 15,
   "id": "fd718913",
   "metadata": {},
   "outputs": [
    {
     "name": "stdout",
     "output_type": "stream",
     "text": [
      "[ 1, 2, 3, 4, 5, 6 ]\n",
      "{ a: 1, b: 2, c: 3, d: 4 }\n",
      "[ 1, 2, 3 ]\n"
     ]
    }
   ],
   "source": [
    "// Spread operator (...)\n",
    "const arr1 = [1, 2, 3];\n",
    "const arr2 = [4, 5, 6];\n",
    "const combined = [...arr1, ...arr2];\n",
    "console.log(combined);  // [1, 2, 3, 4, 5, 6]\n",
    "\n",
    "// Spread with objects\n",
    "const obj1 = { a: 1, b: 2 };\n",
    "const obj2 = { c: 3, d: 4 };\n",
    "const merged = { ...obj1, ...obj2 };\n",
    "console.log(merged);    // { a: 1, b: 2, c: 3, d: 4 }\n",
    "\n",
    "// Copying arrays\n",
    "const original = [1, 2, 3];\n",
    "const copy = [...original];\n",
    "console.log(copy);"
   ]
  },
  {
   "cell_type": "markdown",
   "id": "92df6b7e",
   "metadata": {},
   "source": [
    "## 4. Basics: Variables, Arithmetic, Functions"
   ]
  },
  {
   "cell_type": "code",
   "execution_count": 8,
   "id": "8a26ffa0",
   "metadata": {},
   "outputs": [
    {
     "name": "stdout",
     "output_type": "stream",
     "text": [
      "30\n",
      "10\n",
      "200\n",
      "2\n",
      "0\n",
      "100\n",
      "11\n"
     ]
    },
    {
     "ename": "TypeError",
     "evalue": "Assignment to constant variable.",
     "output_type": "error",
     "traceback": [
      "Stack trace:",
      "TypeError: Assignment to constant variable.",
      "    at <anonymous>:13:15"
     ]
    }
   ],
   "source": [
    "// Variables\n",
    "let x = 10;\n",
    "const y = 20;\n",
    "var z = 30;\n",
    "\n",
    "// Arithmetic expressions\n",
    "console.log(x + y);      // Addition: 30\n",
    "console.log(y - x);      // Subtraction: 10\n",
    "console.log(x * y);      // Multiplication: 200\n",
    "console.log(y / x);      // Division: 2\n",
    "console.log(y % x);      // Modulo: 0\n",
    "console.log(x ** 2);     // Exponentiation: 100\n",
    "console.log(++x);        // Increment: 11\n",
    "console.log(--y);        // Decrement: 19"
   ]
  },
  {
   "cell_type": "code",
   "execution_count": null,
   "id": "6e478d32",
   "metadata": {},
   "outputs": [],
   "source": [
    "// Function declaration\n",
    "function add(a, b) {\n",
    "    return a + b;\n",
    "}\n",
    "\n",
    "// Function expression\n",
    "const multiply = function(a, b) {\n",
    "    return a * b;\n",
    "};\n",
    "\n",
    "console.log(add(5, 3));       // 8\n",
    "console.log(multiply(5, 3));  // 15"
   ]
  },
  {
   "cell_type": "markdown",
   "id": "bd5207ed",
   "metadata": {},
   "source": [
    "## 5. Arrow Functions (Lambdas)"
   ]
  },
  {
   "cell_type": "code",
   "execution_count": 1,
   "id": "e646032f",
   "metadata": {},
   "outputs": [
    {
     "name": "stdout",
     "output_type": "stream",
     "text": [
      "8\n",
      "16\n",
      "Hello!\n",
      "{ sum: 7, product: 12 }\n"
     ]
    }
   ],
   "source": [
    "// Arrow function syntax\n",
    "const add = (a, b) => a + b;\n",
    "const square = x => x * x;  // Single parameter, no parentheses needed\n",
    "const greet = () => \"Hello!\"; // No parameters\n",
    "\n",
    "console.log(add(5, 3));    // 8\n",
    "console.log(square(4));    // 16\n",
    "console.log(greet());      // \"Hello!\"\n",
    "\n",
    "// Arrow function with block body\n",
    "const complexFunction = (a, b) => {\n",
    "    const sum = a + b;\n",
    "    const product = a * b;\n",
    "    return { sum, product };\n",
    "};\n",
    "\n",
    "console.log(complexFunction(3, 4));  // { sum: 7, product: 12 }"
   ]
  },
  {
   "cell_type": "code",
   "execution_count": 12,
   "id": "90b47ab6",
   "metadata": {},
   "outputs": [
    {
     "name": "stdout",
     "output_type": "stream",
     "text": [
      "Regular function this: {\n",
      "  value: 42,\n",
      "  regularFunction: [Function: regularFunction],\n",
      "  arrowFunction: [Function: arrowFunction]\n",
      "}\n",
      "Arrow function this: Window {}\n"
     ]
    }
   ],
   "source": [
    "// Arrow functions and 'this' context\n",
    "const obj = {\n",
    "    value: 42,\n",
    "    regularFunction: function() {\n",
    "        console.log(\"Regular function this:\", this);\n",
    "    },\n",
    "    arrowFunction: () => {\n",
    "        console.log(\"Arrow function this:\", this); // 'this' is lexically bound\n",
    "    }\n",
    "};\n",
    "\n",
    "obj.regularFunction();  // 42\n",
    "obj.arrowFunction();    // undefined (or global scope)"
   ]
  },
  {
   "cell_type": "markdown",
   "id": "53a0554e",
   "metadata": {},
   "source": [
    "## 6. IIFE and Anonymous Functions"
   ]
  },
  {
   "cell_type": "code",
   "execution_count": null,
   "id": "99646f16",
   "metadata": {},
   "outputs": [],
   "source": [
    "// Anonymous function (function without a name)\n",
    "setTimeout(function() {\n",
    "    console.log(\"This is an anonymous function\");\n",
    "}, 100);\n",
    "\n",
    "// Arrow function as anonymous\n",
    "setTimeout(() => {\n",
    "    console.log(\"This is an anonymous arrow function\");\n",
    "}, 100);"
   ]
  },
  {
   "cell_type": "code",
   "execution_count": null,
   "id": "b4007843",
   "metadata": {},
   "outputs": [],
   "source": [
    "// IIFE (Immediately Invoked Function Expression)\n",
    "// Used to create private scope\n",
    "(function() {\n",
    "    const private = \"I'm private!\";\n",
    "    console.log(\"IIFE executed:\", private);\n",
    "})();\n",
    "\n",
    "// IIFE with parameters\n",
    "(function(name) {\n",
    "    console.log(\"Hello, \" + name + \"!\");\n",
    "})(\"World\");\n",
    "\n",
    "// IIFE with arrow function\n",
    "(() => {\n",
    "    console.log(\"Arrow IIFE\");\n",
    "})();\n",
    "\n",
    "// IIFE returning a value\n",
    "const result = (function() {\n",
    "    return 42;\n",
    "})();\n",
    "console.log(\"IIFE result:\", result);"
   ]
  },
  {
   "cell_type": "markdown",
   "id": "ac96eafe",
   "metadata": {},
   "source": [
    "## 7. Strings and Arrays with Their Methods"
   ]
  },
  {
   "cell_type": "code",
   "execution_count": null,
   "id": "94f902af",
   "metadata": {},
   "outputs": [],
   "source": [
    "// String methods\n",
    "const str = \"Hello, World!\";\n",
    "\n",
    "console.log(str.length);              // 13\n",
    "console.log(str.toUpperCase());       // \"HELLO, WORLD!\"\n",
    "console.log(str.toLowerCase());       // \"hello, world!\"\n",
    "console.log(str.charAt(0));           // \"H\"\n",
    "console.log(str.indexOf(\"World\"));    // 7\n",
    "console.log(str.slice(0, 5));         // \"Hello\"\n",
    "console.log(str.substring(7, 12));    // \"World\"\n",
    "console.log(str.split(\", \"));         // [\"Hello\", \"World!\"]\n",
    "console.log(str.replace(\"World\", \"JavaScript\")); // \"Hello, JavaScript!\"\n",
    "console.log(str.includes(\"World\"));   // true\n",
    "console.log(str.startsWith(\"Hello\")); // true\n",
    "console.log(str.endsWith(\"!\"));       // true\n",
    "console.log(\"  trim me  \".trim());    // \"trim me\""
   ]
  },
  {
   "cell_type": "code",
   "execution_count": null,
   "id": "f09f58b5",
   "metadata": {},
   "outputs": [],
   "source": [
    "// Template literals (ES6)\n",
    "const name = \"Alice\";\n",
    "const age = 25;\n",
    "const greeting = `Hello, my name is ${name} and I am ${age} years old.`;\n",
    "console.log(greeting);\n",
    "\n",
    "// Multi-line strings\n",
    "const multiline = `\n",
    "This is a\n",
    "multi-line\n",
    "string\n",
    "`;\n",
    "console.log(multiline);"
   ]
  },
  {
   "cell_type": "code",
   "execution_count": null,
   "id": "f3a8ec87",
   "metadata": {},
   "outputs": [],
   "source": [
    "// Array methods\n",
    "const arr = [1, 2, 3, 4, 5];\n",
    "\n",
    "console.log(arr.length);              // 5\n",
    "console.log(arr.push(6));             // Adds to end, returns new length: 6\n",
    "console.log(arr.pop());               // Removes from end, returns: 6\n",
    "console.log(arr.unshift(0));          // Adds to beginning, returns: 6\n",
    "console.log(arr.shift());             // Removes from beginning, returns: 0\n",
    "console.log(arr.slice(1, 3));         // [2, 3]\n",
    "console.log(arr.indexOf(3));          // 2\n",
    "console.log(arr.includes(4));         // true\n",
    "console.log(arr.join(\", \"));          // \"1, 2, 3, 4, 5\"\n",
    "console.log(arr.reverse());           // [5, 4, 3, 2, 1]\n",
    "console.log(arr.sort());              // Sorts array\n",
    "console.log([1, 2, 3].concat([4, 5])); // [1, 2, 3, 4, 5]"
   ]
  },
  {
   "cell_type": "markdown",
   "id": "36d78245",
   "metadata": {},
   "source": [
    "## 8. Maps, WeakMaps, and Sets"
   ]
  },
  {
   "cell_type": "code",
   "execution_count": null,
   "id": "234c6f45",
   "metadata": {},
   "outputs": [],
   "source": [
    "// Map - key-value pairs with any type of key\n",
    "const map = new Map();\n",
    "\n",
    "map.set('name', 'John');\n",
    "map.set('age', 30);\n",
    "map.set(1, 'number key');\n",
    "map.set(true, 'boolean key');\n",
    "\n",
    "console.log(map.get('name'));     // \"John\"\n",
    "console.log(map.has('age'));      // true\n",
    "console.log(map.size);            // 4\n",
    "\n",
    "// Iterating over Map\n",
    "for (const [key, value] of map) {\n",
    "    console.log(`${key}: ${value}`);\n",
    "}\n",
    "\n",
    "map.delete('age');\n",
    "console.log(map.size);            // 3"
   ]
  },
  {
   "cell_type": "code",
   "execution_count": null,
   "id": "0c6cbb95",
   "metadata": {},
   "outputs": [],
   "source": [
    "// WeakMap - only objects as keys, garbage-collected\n",
    "const weakMap = new WeakMap();\n",
    "let obj1 = { id: 1 };\n",
    "let obj2 = { id: 2 };\n",
    "\n",
    "weakMap.set(obj1, 'data for obj1');\n",
    "weakMap.set(obj2, 'data for obj2');\n",
    "\n",
    "console.log(weakMap.get(obj1));   // \"data for obj1\"\n",
    "console.log(weakMap.has(obj2));   // true\n",
    "\n",
    "// When obj1 is no longer referenced, it can be garbage collected\n",
    "obj1 = null;"
   ]
  },
  {
   "cell_type": "code",
   "execution_count": null,
   "id": "a2ef2879",
   "metadata": {},
   "outputs": [],
   "source": [
    "// Set - collection of unique values\n",
    "const set = new Set();\n",
    "\n",
    "set.add(1);\n",
    "set.add(2);\n",
    "set.add(3);\n",
    "set.add(2);  // Duplicate, won't be added\n",
    "\n",
    "console.log(set.size);            // 3\n",
    "console.log(set.has(2));          // true\n",
    "\n",
    "// Iterating over Set\n",
    "for (const value of set) {\n",
    "    console.log(value);\n",
    "}\n",
    "\n",
    "// Converting array to Set to remove duplicates\n",
    "const numbers = [1, 2, 2, 3, 4, 4, 5];\n",
    "const uniqueNumbers = [...new Set(numbers)];\n",
    "console.log(uniqueNumbers);       // [1, 2, 3, 4, 5]\n",
    "\n",
    "set.delete(2);\n",
    "console.log(set.size);            // 2"
   ]
  },
  {
   "cell_type": "markdown",
   "id": "5f371e3a",
   "metadata": {},
   "source": [
    "## 9. Objects and Object Methods"
   ]
  },
  {
   "cell_type": "code",
   "execution_count": null,
   "id": "9513f36e",
   "metadata": {},
   "outputs": [],
   "source": [
    "// Creating objects\n",
    "const person = {\n",
    "    name: \"John\",\n",
    "    age: 30,\n",
    "    city: \"New York\",\n",
    "    greet: function() {\n",
    "        return `Hello, I'm ${this.name}`;\n",
    "    }\n",
    "};\n",
    "\n",
    "console.log(person.name);         // \"John\"\n",
    "console.log(person['age']);       // 30\n",
    "console.log(person.greet());      // \"Hello, I'm John\""
   ]
  },
  {
   "cell_type": "code",
   "execution_count": null,
   "id": "c3a77833",
   "metadata": {},
   "outputs": [],
   "source": [
    "// Object methods\n",
    "const obj = { a: 1, b: 2, c: 3 };\n",
    "\n",
    "// Object.keys() - returns array of keys\n",
    "console.log(Object.keys(obj));           // [\"a\", \"b\", \"c\"]\n",
    "\n",
    "// Object.values() - returns array of values\n",
    "console.log(Object.values(obj));         // [1, 2, 3]\n",
    "\n",
    "// Object.entries() - returns array of [key, value] pairs\n",
    "console.log(Object.entries(obj));        // [[\"a\", 1], [\"b\", 2], [\"c\", 3]]\n",
    "\n",
    "// Object.assign() - copy properties\n",
    "const target = { x: 1 };\n",
    "const source = { y: 2, z: 3 };\n",
    "const result = Object.assign(target, source);\n",
    "console.log(result);                     // { x: 1, y: 2, z: 3 }\n",
    "\n",
    "// Object.freeze() - make object immutable\n",
    "const frozen = Object.freeze({ val: 42 });\n",
    "// frozen.val = 100;  // This won't work\n",
    "console.log(frozen.val);                 // 42\n",
    "\n",
    "// Object.seal() - prevent adding/removing properties\n",
    "const sealed = Object.seal({ val: 42 });\n",
    "sealed.val = 100;  // Can modify existing properties\n",
    "console.log(sealed.val);                 // 100"
   ]
  },
  {
   "cell_type": "code",
   "execution_count": null,
   "id": "ab5681fc",
   "metadata": {},
   "outputs": [],
   "source": [
    "// Property shorthand (ES6)\n",
    "const name = \"Alice\";\n",
    "const age = 25;\n",
    "const person2 = { name, age };  // Same as { name: name, age: age }\n",
    "console.log(person2);\n",
    "\n",
    "// Method shorthand (ES6)\n",
    "const calculator = {\n",
    "    add(a, b) {  // Instead of: add: function(a, b)\n",
    "        return a + b;\n",
    "    },\n",
    "    multiply(a, b) {\n",
    "        return a * b;\n",
    "    }\n",
    "};\n",
    "console.log(calculator.add(2, 3));       // 5"
   ]
  },
  {
   "cell_type": "markdown",
   "id": "99dc6e28",
   "metadata": {},
   "source": [
    "## 10. Basic Objects: String, Math, RegExp"
   ]
  },
  {
   "cell_type": "code",
   "execution_count": null,
   "id": "af370482",
   "metadata": {},
   "outputs": [],
   "source": [
    "// String object\n",
    "const str = new String(\"Hello\");\n",
    "console.log(typeof str);                 // \"object\"\n",
    "console.log(str.valueOf());              // \"Hello\"\n",
    "\n",
    "// String static methods\n",
    "console.log(String.fromCharCode(72, 101, 108, 108, 111)); // \"Hello\""
   ]
  },
  {
   "cell_type": "code",
   "execution_count": null,
   "id": "b2e4cc30",
   "metadata": {},
   "outputs": [],
   "source": [
    "// Math object\n",
    "console.log(Math.PI);                    // 3.141592653589793\n",
    "console.log(Math.E);                     // 2.718281828459045\n",
    "console.log(Math.abs(-5));               // 5\n",
    "console.log(Math.round(4.7));            // 5\n",
    "console.log(Math.floor(4.7));            // 4\n",
    "console.log(Math.ceil(4.3));             // 5\n",
    "console.log(Math.max(1, 5, 3));          // 5\n",
    "console.log(Math.min(1, 5, 3));          // 1\n",
    "console.log(Math.pow(2, 3));             // 8\n",
    "console.log(Math.sqrt(16));              // 4\n",
    "console.log(Math.random());              // Random number between 0 and 1"
   ]
  },
  {
   "cell_type": "code",
   "execution_count": null,
   "id": "ff78f99a",
   "metadata": {},
   "outputs": [],
   "source": [
    "// RegExp (Regular Expressions)\n",
    "const regex1 = /hello/i;  // i flag for case-insensitive\n",
    "const regex2 = new RegExp('world', 'g');  // g flag for global search\n",
    "\n",
    "console.log(regex1.test('Hello World'));    // true\n",
    "console.log('Hello World'.match(/o/g));     // [\"o\", \"o\"]\n",
    "console.log('Hello World'.search(/World/)); // 6\n",
    "console.log('Hello World'.replace(/World/, 'JavaScript')); // \"Hello JavaScript\"\n",
    "\n",
    "// Email validation\n",
    "const email = /^[\\w-\\.]+@([\\w-]+\\.)+[\\w-]{2,4}$/;\n",
    "console.log(email.test('test@example.com'));  // true"
   ]
  },
  {
   "cell_type": "markdown",
   "id": "a39f12a9",
   "metadata": {},
   "source": [
    "## 11. BigInt and Large Numbers"
   ]
  },
  {
   "cell_type": "code",
   "execution_count": null,
   "id": "49dc795a",
   "metadata": {},
   "outputs": [],
   "source": [
    "// JavaScript Number limitations\n",
    "console.log(Number.MAX_SAFE_INTEGER);    // 9007199254740991\n",
    "console.log(Number.MIN_SAFE_INTEGER);    // -9007199254740991\n",
    "\n",
    "// Beyond this, precision is lost\n",
    "console.log(9007199254740992 === 9007199254740993); // true (should be false!)"
   ]
  },
  {
   "cell_type": "code",
   "execution_count": null,
   "id": "0130620f",
   "metadata": {},
   "outputs": [],
   "source": [
    "// BigInt - for arbitrarily large integers\n",
    "const bigInt1 = 123456789012345678901234567890n;\n",
    "const bigInt2 = BigInt(\"987654321098765432109876543210\");\n",
    "\n",
    "console.log(bigInt1);\n",
    "console.log(bigInt2);\n",
    "\n",
    "// BigInt operations\n",
    "const sum = bigInt1 + bigInt2;\n",
    "const product = bigInt1 * 2n;\n",
    "const power = 2n ** 100n;\n",
    "\n",
    "console.log(sum);\n",
    "console.log(product);\n",
    "console.log(power);\n",
    "\n",
    "// Cannot mix BigInt and Number\n",
    "// const mixed = bigInt1 + 5;  // Error!\n",
    "const correct = bigInt1 + 5n;  // Works\n",
    "console.log(correct);"
   ]
  },
  {
   "cell_type": "markdown",
   "id": "0c3091d1",
   "metadata": {},
   "source": [
    "## 12. Array Methods (map, filter, reduce, forEach, some, every)"
   ]
  },
  {
   "cell_type": "code",
   "execution_count": null,
   "id": "04a61aeb",
   "metadata": {},
   "outputs": [],
   "source": [
    "// map() - transform each element\n",
    "const numbers = [1, 2, 3, 4, 5];\n",
    "const doubled = numbers.map(n => n * 2);\n",
    "console.log(doubled);  // [2, 4, 6, 8, 10]\n",
    "\n",
    "const names = ['alice', 'bob', 'charlie'];\n",
    "const capitalized = names.map(name => name.toUpperCase());\n",
    "console.log(capitalized);  // ['ALICE', 'BOB', 'CHARLIE']"
   ]
  },
  {
   "cell_type": "code",
   "execution_count": null,
   "id": "1fa32824",
   "metadata": {},
   "outputs": [],
   "source": [
    "// filter() - keep elements that pass test\n",
    "const numbers = [1, 2, 3, 4, 5, 6, 7, 8,"
   ]
  }
 ],
 "metadata": {
  "kernelspec": {
   "display_name": "Deno",
   "language": "typescript",
   "name": "deno"
  },
  "language_info": {
   "codemirror_mode": "typescript",
   "file_extension": ".ts",
   "mimetype": "text/x.typescript",
   "name": "typescript",
   "nbconvert_exporter": "script",
   "pygments_lexer": "typescript",
   "version": "5.8.3"
  }
 },
 "nbformat": 4,
 "nbformat_minor": 5
}
