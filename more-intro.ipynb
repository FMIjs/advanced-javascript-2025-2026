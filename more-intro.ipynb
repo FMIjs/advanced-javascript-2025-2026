{
 "cells": [
  {
   "cell_type": "markdown",
   "id": "f6768518",
   "metadata": {},
   "source": [
    "## Destructuring, Spread Operator"
   ]
  },
  {
   "cell_type": "code",
   "execution_count": null,
   "id": "2243496d",
   "metadata": {},
   "outputs": [],
   "source": [
    "// Destructuring arrays\n",
    "const numbers = [1, 2, 3, 4, 5];\n",
    "const [first, second, ...rest] = numbers;\n",
    "console.log(first);   // 1\n",
    "console.log(second);  // 2\n",
    "console.log(rest);    // [3, 4, 5]\n",
    "\n",
    "// Destructuring objects\n",
    "const person = { name: \"John\", age: 30, city: \"New York\" };\n",
    "const { name, age } = person;\n",
    "console.log(name);    // \"John\"\n",
    "console.log(age);     // 30"
   ]
  }
 ],
 "metadata": {
  "language_info": {
   "name": "python"
  }
 },
 "nbformat": 4,
 "nbformat_minor": 5
}
