{
 "cells": [
  {
   "cell_type": "markdown",
   "id": "ef52d75e",
   "metadata": {},
   "source": [
    "# Въведение в JavaScript ES5/ES6\n",
    "\n",
    "Основни концепции на JavaScript от ES5 и ES6 с практически примери."
   ]
  },
  {
   "cell_type": "markdown",
   "id": "3a2045ea",
   "metadata": {},
   "source": [
    "## 1. Ключови характеристики\n",
    "\n",
    "- **Нетипизиран (Динамично въвеждане)**: Променливите нямат фиксирани типове\n",
    "- **Мързелива оценка**: Оценка с късо съединение\n",
    "- **Еднонишкова цикъл на събитията**: Архитектура, базирана на събития"
   ]
  },
  {
   "cell_type": "markdown",
   "id": "new-md-1",
   "metadata": {},
   "source": [
    "### 1a. Динамично въвеждане"
   ]
  },
  {
   "cell_type": "code",
   "execution_count": 1,
   "id": "1bb72bc5-1",
   "metadata": {},
   "outputs": [
    {
     "name": "stdout",
     "output_type": "stream",
     "text": [
      "number\n",
      "string\n"
     ]
    }
   ],
   "source": [
    "let x = 42;\n",
    "console.log(typeof x);\n",
    "x = \"hello\";\n",
    "console.log(typeof x);"
   ]
  },
  {
   "cell_type": "markdown",
   "id": "new-md-2",
   "metadata": {},
   "source": [
    "### 1b. Мързелива оценка"
   ]
  },
  {
   "cell_type": "code",
   "execution_count": 2,
   "id": "1bb72bc5-2",
   "metadata": {},
   "outputs": [
    {
     "name": "stdout",
     "output_type": "stream",
     "text": [
      "true\n"
     ]
    }
   ],
   "source": [
    "let result = true || (console.log(\"This won't execute\"), false);\n",
    "console.log(result);"
   ]
  },
  {
   "cell_type": "markdown",
   "id": "new-md-3",
   "metadata": {},
   "source": [
    "### 1c. Цикъл на събитията"
   ]
  },
  {
   "cell_type": "code",
   "execution_count": null,
   "id": "3fa7475f",
   "metadata": {},
   "outputs": [
    {
     "name": "stdout",
     "output_type": "stream",
     "text": [
      "1 - Start\n",
      "3 - End\n"
     ]
    },
    {
     "name": "stdout",
     "output_type": "stream",
     "text": [
      "2 - Async operation\n"
     ]
    }
   ],
   "source": [
    "console.log(\"1 - Start\");\n",
    "\n",
    "setTimeout(() => {\n",
    "    console.log(\"2 - Async operation kicks after 500ms\");\n",
    "}, 500);\n",
    "\n",
    "console.log(\"3 - End\");"
   ]
  },
  {
   "cell_type": "markdown",
   "id": "8dc88a28",
   "metadata": {},
   "source": [
    "## 2. Повдигане и обхват на променливи\n",
    "\n",
    "- **Повдигане (Hoisting)**: Декларациите на променливи се преместват в горната част на техния обхват.\n",
    "- **Обхват (Scoping)**: `var` е с обхват на функция, докато `let` и `const` са с обхват на блок.\n",
    "- **Временна мъртва зона (Temporal Dead Zone)**: Достъпът до променливи `let` или `const` преди декларацията им води до грешка."
   ]
  },
  {
   "cell_type": "markdown",
   "id": "new-md-4",
   "metadata": {},
   "source": [
    "### 2a. Повдигане на променливи"
   ]
  },
  {
   "cell_type": "code",
   "execution_count": 51,
   "id": "2a8f448f",
   "metadata": {},
   "outputs": [
    {
     "name": "stdout",
     "output_type": "stream",
     "text": [
      "undefined\n",
      "undefined\n",
      "100\n",
      "50\n"
     ]
    }
   ],
   "source": [
    "function fun3() {\n",
    "    console.log(v);        // undefined (hoisted)\n",
    "    console.log(this);\n",
    "    var v = 100;\n",
    "    console.log(v);        // 100\n",
    "    \n",
    "    do {\n",
    "        // x = 10;            // global, not recommended! may fail in Deno\n",
    "        let y = 100;\n",
    "    } while(v-- > 0);\n",
    "\n",
    "    // console.log(y);     // Error: y not defined\n",
    "    \n",
    "    {\n",
    "        let y = 50;\n",
    "        console.log(y);    // 50\n",
    "    }\n",
    "    // console.log(y);     // Error: y not defined\n",
    "}\n",
    "\n",
    "fun3();"
   ]
  },
  {
   "cell_type": "markdown",
   "id": "new-md-5",
   "metadata": {},
   "source": [
    "### 2b. `var` срещу `let` срещу `const`"
   ]
  },
  {
   "cell_type": "code",
   "execution_count": 50,
   "id": "1294d7ca",
   "metadata": {},
   "outputs": [
    {
     "name": "stdout",
     "output_type": "stream",
     "text": [
      "I'm function-scoped\n"
     ]
    }
   ],
   "source": [
    "if (true) {\n",
    "    var varVar = \"I'm function-scoped\";\n",
    "    let letVar = \"I'm block-scoped\";\n",
    "    const constVar = \"I'm block-scoped and constant\";\n",
    "}\n",
    "\n",
    "console.log(varVar);     // Accessible\n",
    "// console.log(letVar);  // Error\n",
    "// console.log(constVar); // Error"
   ]
  },
  {
   "cell_type": "markdown",
   "id": "func_hoist",
   "metadata": {},
   "source": [
    "## 3. Повдигане на функции\n",
    "\n",
    "- **Декларации на функции**: Повдигат се напълно, могат да бъдат извикани преди да са дефинирани.\n",
    "- **Изрази на функции**: Само декларацията на променливата се повдига, не тялото на функцията.\n",
    "- **Стрелкови функции (Arrow Functions)**: Поведението им по отношение на повдигането е като на изрази на функции."
   ]
  },
  {
   "cell_type": "code",
   "execution_count": 49,
   "id": "func_hoist_code",
   "metadata": {},
   "outputs": [
    {
     "name": "stdout",
     "output_type": "stream",
     "text": [
      "some code runs here\n",
      "undefined\n",
      "!!!!!\n"
     ]
    }
   ],
   "source": [
    "function smart() {\n",
    "    // funfun();            // Error: funfun is not a function\n",
    "\n",
    "    console.log(\"some code runs here\");\n",
    "    console.log(funfun); // undefined\n",
    "\n",
    "    var funfun = function () {\n",
    "        console.log(\"!!!!!\");\n",
    "    }\n",
    "\n",
    "    funfun();            // Works\n",
    "}\n",
    "\n",
    "smart();"
   ]
  },
  {
   "cell_type": "markdown",
   "id": "92df6b7e",
   "metadata": {},
   "source": [
    "## 4. Основи: Променливи, Аритметика, Функции\n",
    "\n",
    "- **Декларация на променливи**: `let`, `const` и `var` за съхранение на данни.\n",
    "- **Аритметични оператори**: Извършват математически изчисления.\n",
    "- **Типове функции**: Декларации и изрази за създаване на преизползваеми блокове код."
   ]
  },
  {
   "cell_type": "code",
   "execution_count": 48,
   "id": "8a26ffa0",
   "metadata": {},
   "outputs": [
    {
     "name": "stdout",
     "output_type": "stream",
     "text": [
      "30\n",
      "10\n",
      "200\n",
      "2\n",
      "0\n",
      "100\n",
      "11\n"
     ]
    }
   ],
   "source": [
    "let x = 10;\n",
    "const y = 20;\n",
    "var z = 30;\n",
    "\n",
    "console.log(x + y);      // 30\n",
    "console.log(y - x);      // 10\n",
    "console.log(x * y);      // 200\n",
    "console.log(y / x);      // 2\n",
    "console.log(y % x);      // 0\n",
    "console.log(x ** 2);     // 100\n",
    "console.log(++x);        // 11"
   ]
  },
  {
   "cell_type": "markdown",
   "id": "5313b601",
   "metadata": {},
   "source": [
    "### 4a. Декларация на функция"
   ]
  },
  {
   "cell_type": "code",
   "execution_count": 47,
   "id": "6e478d32",
   "metadata": {},
   "outputs": [
    {
     "name": "stdout",
     "output_type": "stream",
     "text": [
      "8\n",
      "15\n"
     ]
    }
   ],
   "source": [
    "// Function declaration\n",
    "function addme(a, b) {\n",
    "    return a + b;\n",
    "}\n",
    "\n",
    "// Function expression\n",
    "const mulme = function(a, b) {\n",
    "    return a * b;\n",
    "};\n",
    "\n",
    "console.log(addme(5, 3));       // 8\n",
    "console.log(mulme(5, 3));  // 15"
   ]
  },
  {
   "cell_type": "markdown",
   "id": "bd5207ed",
   "metadata": {},
   "source": [
    "## 5. Стрелкови функции\n",
    "\n",
    "- **Сбит синтаксис**: По-кратък запис на функции.\n",
    "- **Имплицитно връщане**: Функции с един израз автоматично връщат резултата.\n",
    "- **Лексикален `this`**: `this` се наследява от обкръжаващия контекст."
   ]
  },
  {
   "cell_type": "code",
   "execution_count": 45,
   "id": "e646032f",
   "metadata": {},
   "outputs": [
    {
     "name": "stdout",
     "output_type": "stream",
     "text": [
      "8\n",
      "16\n",
      "Hello!\n",
      "{ sum: 6, product: 5 }\n"
     ]
    }
   ],
   "source": [
    "const add = (a, b) => a + b;\n",
    "const square = x => x * x;\n",
    "const greet = () => \"Hello!\";\n",
    "\n",
    "console.log(add(5, 3));    // 8\n",
    "console.log(square(4));    // 16\n",
    "console.log(greet());      // \"Hello!\"\n",
    "\n",
    "const complex = (a, b) => {\n",
    "    const sum = a + b;\n",
    "    const product = a * b;\n",
    "    return { sum, product };\n",
    "};\n",
    "\n",
    "console.log(complex(1, 5));  // { sum: 6, product: 5 }"
   ]
  },
  {
   "cell_type": "markdown",
   "id": "arrow_this",
   "metadata": {},
   "source": [
    "## 6. Стрелкови функции и контекстът 'this'\n",
    "\n",
    "- **Регулярни функции**: `this` се определя от начина на извикване на функцията.\n",
    "- **Стрелкови функции**: `this` е лексикално обвързан с обкръжаващия контекст.\n",
    "- **Методи на обекти**: Регулярните функции обикновено се предпочитат за методи, които трябва да имат достъп до свойствата на обекта чрез `this`."
   ]
  },
  {
   "cell_type": "code",
   "execution_count": 27,
   "id": "90b47ab6",
   "metadata": {},
   "outputs": [
    {
     "name": "stdout",
     "output_type": "stream",
     "text": [
      "{ a: 10, fn: [Function: fn], lmbd: [Function: lmbd] }\n",
      "Window {}\n",
      "Regular function this: 42\n",
      "Arrow function this: undefined\n"
     ]
    }
   ],
   "source": [
    "const obj = {\n",
    "    value: 42,\n",
    "    moreobj: {\n",
    "        a: 10,\n",
    "        fn: function() { \n",
    "            console.log(this);  // moreobj\n",
    "        },\n",
    "        lmbd: () => { \n",
    "            console.log(this);  // global/undefined\n",
    "        }\n",
    "    },\n",
    "    regFun: function() {\n",
    "        console.log(\"Regular function this:\", this.value);\n",
    "    },\n",
    "    arrFun: () => {\n",
    "        console.log(\"Arrow function this:\", this.value);\n",
    "    }\n",
    "};\n",
    "\n",
    "obj.moreobj.fn();\n",
    "obj.moreobj.lmbd();\n",
    "obj.regFun();      // 42\n",
    "obj.arrFun();      // undefined"
   ]
  },
  {
   "cell_type": "markdown",
   "id": "closures",
   "metadata": {},
   "source": [
    "## 7. Затваряния и частно състояние\n",
    "\n",
    "- **Затваряния (Closures)**: Функции, които помнят средата, в която са създадени.\n",
    "- **Частно състояние**: Капсулиране на променливи, за да се предотврати директен достъп отвън на функцията.\n",
    "- **Капсулиране на данни**: Създаване на фабрични функции, които генерират обекти с частни данни."
   ]
  },
  {
   "cell_type": "code",
   "execution_count": 28,
   "id": "closures_code",
   "metadata": {},
   "outputs": [
    {
     "name": "stdout",
     "output_type": "stream",
     "text": [
      "100\n",
      "101\n",
      "200\n"
     ]
    }
   ],
   "source": [
    "function s1(initval) {\n",
    "    let cnt = initval;\n",
    "    \n",
    "    let myfun = function() {\n",
    "        return cnt++;\n",
    "    }\n",
    "\n",
    "    let setfun = function(nvar) {\n",
    "        cnt = nvar;\n",
    "    }\n",
    "\n",
    "    return [myfun, setfun];\n",
    "}\n",
    "\n",
    "let [gen, setnew] = s1(100);\n",
    "\n",
    "console.log(gen());    // 100\n",
    "console.log(gen());    // 101\n",
    "setnew(200);\n",
    "console.log(gen());    // 200"
   ]
  },
  {
   "cell_type": "markdown",
   "id": "53a0554e",
   "metadata": {},
   "source": [
    "## 8. IIFE и анонимни функции\n",
    "\n",
    "- **Анонимни функции**: Функции без име, често използвани като аргументи.\n",
    "- **IIFE (Незабавно извикан функционален израз)**: Функции, които се изпълняват веднага след дефинирането им.\n",
    "- **Управление на обхвата**: IIFE създават частен обхват за променливи, избягвайки замърсяване на глобалното пространство."
   ]
  },
  {
   "cell_type": "markdown",
   "id": "new-md-6",
   "metadata": {},
   "source": [
    "### 8a. Анонимни функции"
   ]
  },
  {
   "cell_type": "code",
   "execution_count": null,
   "id": "99646f16",
   "metadata": {},
   "outputs": [
    {
     "data": {
      "text/plain": [
       "\u001b[33m3\u001b[39m"
      ]
     },
     "execution_count": 44,
     "metadata": {},
     "output_type": "execute_result"
    },
    {
     "name": "stdout",
     "output_type": "stream",
     "text": [
      "Anonymous function\n",
      "Anonymous arrow function\n"
     ]
    }
   ],
   "source": [
    "setTimeout(function() {\n",
    "    console.log(\"Anonymous function\");\n",
    "}, 100);\n",
    "\n",
    "setTimeout(() => {\n",
    "    console.log(\"Anonymous arrow function\");\n",
    "}, 100);"
   ]
  },
  {
   "cell_type": "markdown",
   "id": "new-md-7",
   "metadata": {},
   "source": [
    "### 8b. IIFE (Незабавно извикан функционален израз)"
   ]
  },
  {
   "cell_type": "code",
   "execution_count": 43,
   "id": "b4007843",
   "metadata": {},
   "outputs": [
    {
     "name": "stdout",
     "output_type": "stream",
     "text": [
      "Hello, World!\n",
      "Arrow IIFE\n",
      "IIFE result: 42\n"
     ]
    }
   ],
   "source": [
    "(function(name) {\n",
    "    console.log(\"Hello, \" + name + \"!\");\n",
    "})(\"World\");\n",
    "\n",
    "// Arrow IIFE\n",
    "(() => {\n",
    "    console.log(\"Arrow IIFE\");\n",
    "})();\n",
    "\n",
    "// IIFE returning value\n",
    "const ress = (function() {\n",
    "    return 42;\n",
    "})();\n",
    "\n",
    "console.log(\"IIFE result:\", ress);"
   ]
  },
  {
   "cell_type": "markdown",
   "id": "new-md-8",
   "metadata": {},
   "source": [
    "### 8c. Улавяне на променливи в ламбди"
   ]
  },
  {
   "cell_type": "code",
   "execution_count": 35,
   "id": "iife_lec2",
   "metadata": {},
   "outputs": [
    {
     "name": "stdout",
     "output_type": "stream",
     "text": [
      "Нещо друго\n",
      "[ 5, 2, 3 ]\n"
     ]
    }
   ],
   "source": [
    "(function () {\n",
    "    const x = [1, 2, 3];\n",
    "    let baloon = 'нищо съществено';\n",
    "    let baba = 'Мойта баба';\n",
    "\n",
    "    const y = ((x, y, z, c) => { \n",
    "        baba = 'Нещо друго';\n",
    "        y = 'нов балон';\n",
    "        x[0] = x[1] + x[2];\n",
    "    });\n",
    "\n",
    "    y(x, baloon);\n",
    "\n",
    "    console.log(baba);  // 'Нещо друго'\n",
    "    console.log(x);     // [5, 2, 3]\n",
    "})();"
   ]
  },
  {
   "cell_type": "markdown",
   "id": "constructor",
   "metadata": {},
   "source": [
    "## 9. Конструкторни функции и 'new'\n",
    "\n",
    "- **Конструкторни функции**: Шаблони за създаване на обекти.\n",
    "- **Ключова дума `new`**: Създава нов екземпляр на обект и задава неговия `this` контекст.\n",
    "- **Свойства на екземпляра**: `this` се използва за присвояване на свойства на новия обект."
   ]
  },
  {
   "cell_type": "code",
   "execution_count": 34,
   "id": "constructor_code",
   "metadata": {},
   "outputs": [
    {
     "name": "stdout",
     "output_type": "stream",
     "text": [
      "yes !\n",
      "yes !\n"
     ]
    }
   ],
   "source": [
    "function FunFun() {\n",
    "    this.something = \"yes !\";\n",
    "\n",
    "    this.arrfun = () => {\n",
    "        console.log(this.something);\n",
    "    }\n",
    "\n",
    "    this.regfun = function () {\n",
    "        console.log(this.something);\n",
    "    }\n",
    "}\n",
    "\n",
    "// let objX = FunFun();      // Without 'new' pollutes the global or fails (in Jupyter)\n",
    "let obj = new FunFun();   // With 'new'\n",
    "obj.arrfun();             // \"yes !\"\n",
    "obj.regfun();             // \"yes !\""
   ]
  },
  {
   "cell_type": "markdown",
   "id": "binding",
   "metadata": {},
   "source": [
    "## 10. Обвързване на контекста: bind(), call(), apply()\n",
    "\n",
    "- **`bind()`**: Създава нова функция с фиксиран `this` контекст.\n",
    "- **`call()`**: Извиква функция с указан `this` и индивидуални аргументи.\n",
    "- **`apply()`**: Извиква функция с указан `this` и масив от аргументи."
   ]
  },
  {
   "cell_type": "markdown",
   "id": "new-md-9",
   "metadata": {},
   "source": [
    "### 10a. `bind()`"
   ]
  },
  {
   "cell_type": "code",
   "execution_count": 30,
   "id": "binding_code",
   "metadata": {},
   "outputs": [
    {
     "name": "stdout",
     "output_type": "stream",
     "text": [
      "yes !\n",
      "10\n"
     ]
    }
   ],
   "source": [
    "let myctx = { \n",
    "    something: 10,\n",
    "    else: \"is here\"\n",
    "}\n",
    "\n",
    "function FunFun() {\n",
    "    this.something = \"yes !\";\n",
    "    this.arrfun = () => { console.log(this.something); }\n",
    "    this.regfun = function () { console.log(this.something); }\n",
    "}\n",
    "\n",
    "let objX = new FunFun();\n",
    "\n",
    "const arrBound = objX.arrfun.bind(myctx);\n",
    "const regBound = objX.regfun.bind(myctx);\n",
    "arrBound();  // \"yes !\" (arrow ignores bind)\n",
    "regBound();  // 10"
   ]
  },
  {
   "cell_type": "markdown",
   "id": "new-md-10",
   "metadata": {},
   "source": [
    "### 10b. `call()` и `apply()`"
   ]
  },
  {
   "cell_type": "code",
   "execution_count": 34,
   "id": "call_apply",
   "metadata": {},
   "outputs": [
    {
     "ename": "SyntaxError",
     "evalue": "Identifier 'arr' has already been declared",
     "output_type": "error",
     "traceback": [
      "Stack trace:",
      "SyntaxError: Identifier 'arr' has already been declared"
     ]
    }
   ],
   "source": [
    "function newFun(x, y) {\n",
    "    console.log(this.a + 10);\n",
    "    console.log(x, y);\n",
    "}\n",
    "\n",
    "const ctxctx = { a: 10, b: 20 };\n",
    "\n",
    "newFun.call(ctxctx, \"baba\", \"cooks\");\n",
    "newFun.apply(ctxctx, [\"baba\", \"cooks\"]);\n",
    "\n",
    "const arr = [1, 2, 3, 4];\n",
    "newFun.call(ctxctx, ...arr);  // spread operator"
   ]
  },
  {
   "cell_type": "markdown",
   "id": "ac96eafe",
   "metadata": {},
   "source": [
    "## 11. Низове и методи за низове\n",
    "\n",
    "- **Манипулация на низове**: Богат набор от методи за работа с текст.\n",
    "- **Шаблонни литерали**: Разширен синтаксис на низове за вграждане на изрази и създаване на многоредови низове.\n",
    "- **Неизменност**: Методите за низове връщат нови низове, вместо да модифицират оригиналния."
   ]
  },
  {
   "cell_type": "code",
   "execution_count": 28,
   "id": "94f902af",
   "metadata": {},
   "outputs": [
    {
     "name": "stdout",
     "output_type": "stream",
     "text": [
      "13\n",
      "HELLO, WORLD!\n",
      "hello, world!\n",
      "H\n",
      "7\n",
      "Hello\n",
      "World\n",
      "[ \"Hello\", \"World!\" ]\n",
      "Hello, JS!\n",
      "true\n",
      "true\n",
      "true\n",
      "trim\n"
     ]
    }
   ],
   "source": [
    "const str = \"Hello, World!\";\n",
    "\n",
    "console.log(str.length);              // 13\n",
    "console.log(str.toUpperCase());       // \"HELLO, WORLD!\"\n",
    "console.log(str.toLowerCase());       // \"hello, world!\"\n",
    "console.log(str.charAt(0));           // \"H\"\n",
    "console.log(str.indexOf(\"World\"));    // 7\n",
    "console.log(str.slice(0, 5));         // \"Hello\"\n",
    "console.log(str.substring(7, 12));    // \"World\"\n",
    "console.log(str.split(\", \"));         // [\"Hello\", \"World!\"]\n",
    "console.log(str.replace(\"World\", \"JS\")); // \"Hello, JS!\"\n",
    "console.log(str.includes(\"World\"));   // true\n",
    "console.log(str.startsWith(\"Hello\")); // true\n",
    "console.log(str.endsWith(\"!\"));       // true\n",
    "console.log(\"  trim  \".trim());       // \"trim\""
   ]
  },
  {
   "cell_type": "markdown",
   "id": "new-md-12",
   "metadata": {},
   "source": [
    "### 11a. Шаблонни литерали"
   ]
  },
  {
   "cell_type": "code",
   "execution_count": 29,
   "id": "f09f58b5",
   "metadata": {},
   "outputs": [
    {
     "name": "stdout",
     "output_type": "stream",
     "text": [
      "Hello, my name is Alice and I am 25 years old.\n",
      "\n",
      "This is a\n",
      "multi-line\n",
      "string\n",
      "\n"
     ]
    }
   ],
   "source": [
    "const name = \"Alice\";\n",
    "const age = 25;\n",
    "const greeting = `Hello, my name is ${name} and I am ${age} years old.`;\n",
    "console.log(greeting);\n",
    "\n",
    "const multiline = `\n",
    "This is a\n",
    "multi-line\n",
    "string\n",
    "`;\n",
    "console.log(multiline);"
   ]
  },
  {
   "cell_type": "markdown",
   "id": "99dc6e28",
   "metadata": {},
   "source": [
    "## 12. Обект Math\n",
    "\n",
    "- **Математически константи**: Предоставя свойства като `PI` и `E`.\n",
    "- **Числови операции**: Функции за закръгляне, абсолютна стойност и степени.\n",
    "- **Случайни числа**: `Math.random()` генерира псевдослучайни числа."
   ]
  },
  {
   "cell_type": "code",
   "execution_count": 30,
   "id": "b2e4cc30",
   "metadata": {},
   "outputs": [
    {
     "name": "stdout",
     "output_type": "stream",
     "text": [
      "3.141592653589793\n",
      "2.718281828459045\n",
      "5\n",
      "5\n",
      "4\n",
      "5\n",
      "5\n",
      "1\n",
      "8\n",
      "4\n",
      "0.21295638189028798\n"
     ]
    }
   ],
   "source": [
    "console.log(Math.PI);           // 3.141592653589793\n",
    "console.log(Math.E);            // 2.718281828459045\n",
    "console.log(Math.abs(-5));      // 5\n",
    "console.log(Math.round(4.7));   // 5\n",
    "console.log(Math.floor(4.7));   // 4\n",
    "console.log(Math.ceil(4.3));    // 5\n",
    "console.log(Math.max(1, 5, 3)); // 5\n",
    "console.log(Math.min(1, 5, 3)); // 1\n",
    "console.log(Math.pow(2, 3));    // 8\n",
    "console.log(Math.sqrt(16));     // 4\n",
    "console.log(Math.random());     // Random [0, 1)"
   ]
  },
  {
   "cell_type": "markdown",
   "id": "a39f12a9",
   "metadata": {},
   "source": [
    "## 13. BigInt\n",
    "\n",
    "- **Цели числа с произволна точност**: Обработват цели числа, по-големи от `Number.MAX_SAFE_INTEGER`.\n",
    "- **Суфикс `n`**: Създава литерали `BigInt`, като добавя `n` към цяло число.\n",
    "- **Типова безопасност**: Типовете `BigInt` и `Number` не могат да се смесват в аритметични операции."
   ]
  },
  {
   "cell_type": "code",
   "execution_count": null,
   "id": "49dc795a",
   "metadata": {},
   "outputs": [],
   "source": [
    "console.log(Number.MAX_SAFE_INTEGER);    // 9007199254740991\n",
    "console.log(Number.MIN_SAFE_INTEGER);    // -9007199254740991\n",
    "\n",
    "// Precision lost beyond safe integer\n",
    "console.log(9007199254740992 === 9007199254740993); // true (!)"
   ]
  },
  {
   "cell_type": "code",
   "execution_count": 32,
   "id": "0130620f",
   "metadata": {},
   "outputs": [
    {
     "name": "stdout",
     "output_type": "stream",
     "text": [
      "123456789012345678901234567890n\n",
      "987654321098765432109876543210n\n",
      "1111111110111111111011111111100n\n",
      "246913578024691357802469135780n\n",
      "1267650600228229401496703205376n\n",
      "123456789012345678901234567895n\n"
     ]
    }
   ],
   "source": [
    "const bigInt1 = 123456789012345678901234567890n;\n",
    "const bigInt2 = BigInt(\"987654321098765432109876543210\");\n",
    "\n",
    "console.log(bigInt1);\n",
    "console.log(bigInt2);\n",
    "\n",
    "const sum = bigInt1 + bigInt2;\n",
    "const product = bigInt1 * 2n;\n",
    "const power = 2n ** 100n;\n",
    "\n",
    "console.log(sum);\n",
    "console.log(product);\n",
    "console.log(power);\n",
    "\n",
    "// const mixed = bigInt1 + 5;  // Error!\n",
    "const correct = bigInt1 + 5n;  // Works\n",
    "console.log(correct);"
   ]
  }
 ],
 "metadata": {
  "kernelspec": {
   "display_name": "Deno",
   "language": "typescript",
   "name": "deno"
  },
  "language_info": {
   "codemirror_mode": "typescript",
   "file_extension": ".ts",
   "mimetype": "text/x.typescript",
   "name": "typescript",
   "nbconvert_exporter": "script",
   "pygments_lexer": "typescript",
   "version": "5.8.3"
  }
 },
 "nbformat": 4,
 "nbformat_minor": 5
}
