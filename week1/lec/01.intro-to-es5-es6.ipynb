{
 "cells": [
  {
   "cell_type": "markdown",
   "id": "ef52d75e",
   "metadata": {},
   "source": [
    "# Introduction to JavaScript ES5/ES6\n",
    "\n",
    "Fundamental JavaScript concepts from ES5 and ES6 with practical examples."
   ]
  },
  {
   "cell_type": "markdown",
   "id": "3a2045ea",
   "metadata": {},
   "source": [
    "## 1. Key Characteristics\n",
    "\n",
    "- **Untyped (Dynamic Typing)**: Variables don't have fixed types\n",
    "- **Lazy Evaluation**: Short-circuit evaluation\n",
    "- **Single-threaded Event Loop**: Event-driven architecture"
   ]
  },
  {
   "cell_type": "markdown",
   "id": "new-md-1",
   "metadata": {},
   "source": [
    "### 1a. Dynamic Typing"
   ]
  },
  {
   "cell_type": "code",
   "execution_count": 1,
   "id": "1bb72bc5-1",
   "metadata": {},
   "outputs": [
    {
     "name": "stdout",
     "output_type": "stream",
     "text": [
      "number\n",
      "string\n"
     ]
    }
   ],
   "source": [
    "let x = 42;\n",
    "console.log(typeof x);\n",
    "x = \"hello\";\n",
    "console.log(typeof x);"
   ]
  },
  {
   "cell_type": "markdown",
   "id": "new-md-2",
   "metadata": {},
   "source": [
    "### 1b. Lazy Evaluation"
   ]
  },
  {
   "cell_type": "code",
   "execution_count": 2,
   "id": "1bb72bc5-2",
   "metadata": {},
   "outputs": [
    {
     "name": "stdout",
     "output_type": "stream",
     "text": [
      "true\n"
     ]
    }
   ],
   "source": [
    "let result = true || (console.log(\"This won't execute\"), false);\n",
    "console.log(result);"
   ]
  },
  {
   "cell_type": "markdown",
   "id": "new-md-3",
   "metadata": {},
   "source": [
    "### 1c. Event Loop"
   ]
  },
  {
   "cell_type": "code",
   "execution_count": 54,
   "id": "3fa7475f",
   "metadata": {},
   "outputs": [
    {
     "name": "stdout",
     "output_type": "stream",
     "text": [
      "1 - Start\n",
      "3 - End\n"
     ]
    },
    {
     "name": "stdout",
     "output_type": "stream",
     "text": [
      "2 - Async operation\n"
     ]
    }
   ],
   "source": [
    "console.log(\"1 - Start\");\n",
    "\n",
    "setTimeout(() => {\n",
    "    console.log(\"2 - Async operation kicks after 500ms\");\n",
    "}, 500);\n",
    "\n",
    "console.log(\"3 - End\");"
   ]
  },
  {
   "cell_type": "markdown",
   "id": "8dc88a28",
   "metadata": {},
   "source": [
    "## 2. Variable Hoisting and Scoping\n",
    "\n",
    "- **Hoisting**: Variable declarations are moved to the top of their scope.\n",
    "- **Scoping**: `var` is function-scoped, while `let` and `const` are block-scoped.\n",
    "- **Temporal Dead Zone**: Accessing `let` or `const` variables before declaration results in an error."
   ]
  },
  {
   "cell_type": "markdown",
   "id": "new-md-4",
   "metadata": {},
   "source": [
    "### 2a. Variable Hoisting"
   ]
  },
  {
   "cell_type": "code",
   "execution_count": 51,
   "id": "2a8f448f",
   "metadata": {},
   "outputs": [
    {
     "name": "stdout",
     "output_type": "stream",
     "text": [
      "undefined\n",
      "undefined\n",
      "100\n",
      "50\n"
     ]
    }
   ],
   "source": [
    "function fun3() {\n",
    "    console.log(v);        // undefined (hoisted)\n",
    "    console.log(this);\n",
    "    var v = 100;\n",
    "    console.log(v);        // 100\n",
    "    \n",
    "    do {\n",
    "        // x = 10;            // global, not recommended! may fail in Deno\n",
    "        let y = 100;\n",
    "    } while(v-- > 0);\n",
    "\n",
    "    // console.log(y);     // Error: y not defined\n",
    "    \n",
    "    {\n",
    "        let y = 50;\n",
    "        console.log(y);    // 50\n",
    "    }\n",
    "    // console.log(y);     // Error: y not defined\n",
    "}\n",
    "\n",
    "fun3();"
   ]
  },
  {
   "cell_type": "markdown",
   "id": "new-md-5",
   "metadata": {},
   "source": [
    "### 2b. `var` vs `let` vs `const`"
   ]
  },
  {
   "cell_type": "code",
   "execution_count": 50,
   "id": "1294d7ca",
   "metadata": {},
   "outputs": [
    {
     "name": "stdout",
     "output_type": "stream",
     "text": [
      "I'm function-scoped\n"
     ]
    }
   ],
   "source": [
    "if (true) {\n",
    "    var varVar = \"I'm function-scoped\";\n",
    "    let letVar = \"I'm block-scoped\";\n",
    "    const constVar = \"I'm block-scoped and constant\";\n",
    "}\n",
    "\n",
    "console.log(varVar);     // Accessible\n",
    "// console.log(letVar);  // Error\n",
    "// console.log(constVar); // Error"
   ]
  },
  {
   "cell_type": "markdown",
   "id": "func_hoist",
   "metadata": {},
   "source": [
    "## 3. Function Hoisting\n",
    "\n",
    "- **Function Declarations**: Hoisted completely, can be called before defined.\n",
    "- **Function Expressions**: Only the variable declaration is hoisted, not the function body.\n",
    "- **Arrow Functions**: Behave like function expressions regarding hoisting."
   ]
  },
  {
   "cell_type": "code",
   "execution_count": 49,
   "id": "func_hoist_code",
   "metadata": {},
   "outputs": [
    {
     "name": "stdout",
     "output_type": "stream",
     "text": [
      "some code runs here\n",
      "undefined\n",
      "!!!!!\n"
     ]
    }
   ],
   "source": [
    "function smart() {\n",
    "    // funfun();            // Error: funfun is not a function\n",
    "\n",
    "    console.log(\"some code runs here\");\n",
    "    console.log(funfun); // undefined\n",
    "\n",
    "    var funfun = function () {\n",
    "        console.log(\"!!!!!\");\n",
    "    }\n",
    "\n",
    "    funfun();            // Works\n",
    "}\n",
    "\n",
    "smart();"
   ]
  },
  {
   "cell_type": "markdown",
   "id": "92df6b7e",
   "metadata": {},
   "source": [
    "## 4. Basics: Variables, Arithmetic, Functions\n",
    "\n",
    "- **Variable Declaration**: `let`, `const`, and `var` for storing data.\n",
    "- **Arithmetic Operators**: Perform mathematical calculations.\n",
    "- **Function Types**: Declarations and expressions for creating reusable code blocks."
   ]
  },
  {
   "cell_type": "code",
   "execution_count": 48,
   "id": "8a26ffa0",
   "metadata": {},
   "outputs": [
    {
     "name": "stdout",
     "output_type": "stream",
     "text": [
      "30\n",
      "10\n",
      "200\n",
      "2\n",
      "0\n",
      "100\n",
      "11\n"
     ]
    }
   ],
   "source": [
    "let x = 10;\n",
    "const y = 20;\n",
    "var z = 30;\n",
    "\n",
    "console.log(x + y);      // 30\n",
    "console.log(y - x);      // 10\n",
    "console.log(x * y);      // 200\n",
    "console.log(y / x);      // 2\n",
    "console.log(y % x);      // 0\n",
    "console.log(x ** 2);     // 100\n",
    "console.log(++x);        // 11"
   ]
  },
  {
   "cell_type": "markdown",
   "id": "5313b601",
   "metadata": {},
   "source": [
    "### 4a. Function Declaration"
   ]
  },
  {
   "cell_type": "code",
   "execution_count": 47,
   "id": "6e478d32",
   "metadata": {},
   "outputs": [
    {
     "name": "stdout",
     "output_type": "stream",
     "text": [
      "8\n",
      "15\n"
     ]
    }
   ],
   "source": [
    "// Function declaration\n",
    "function addme(a, b) {\n",
    "    return a + b;\n",
    "}\n",
    "\n",
    "// Function expression\n",
    "const mulme = function(a, b) {\n",
    "    return a * b;\n",
    "};\n",
    "\n",
    "console.log(addme(5, 3));       // 8\n",
    "console.log(mulme(5, 3));  // 15"
   ]
  },
  {
   "cell_type": "markdown",
   "id": "bd5207ed",
   "metadata": {},
   "source": [
    "## 5. Arrow Functions\n",
    "\n",
    "- **Concise Syntax**: Shorter function notation.\n",
    "- **Implicit Return**: Single-expression functions automatically return the result.\n",
    "- **Lexical `this`**: `this` is inherited from the surrounding scope."
   ]
  },
  {
   "cell_type": "code",
   "execution_count": 45,
   "id": "e646032f",
   "metadata": {},
   "outputs": [
    {
     "name": "stdout",
     "output_type": "stream",
     "text": [
      "8\n",
      "16\n",
      "Hello!\n",
      "{ sum: 6, product: 5 }\n"
     ]
    }
   ],
   "source": [
    "const add = (a, b) => a + b;\n",
    "const square = x => x * x;\n",
    "const greet = () => \"Hello!\";\n",
    "\n",
    "console.log(add(5, 3));    // 8\n",
    "console.log(square(4));    // 16\n",
    "console.log(greet());      // \"Hello!\"\n",
    "\n",
    "const complex = (a, b) => {\n",
    "    const sum = a + b;\n",
    "    const product = a * b;\n",
    "    return { sum, product };\n",
    "};\n",
    "\n",
    "console.log(complex(1, 5));  // { sum: 6, product: 5 }"
   ]
  },
  {
   "cell_type": "markdown",
   "id": "arrow_this",
   "metadata": {},
   "source": [
    "## 6. Arrow Functions and 'this' Context\n",
    "\n",
    "- **Regular Functions**: `this` is determined by how the function is called.\n",
    "- **Arrow Functions**: `this` is lexically bound to the enclosing context.\n",
    "- **Object Methods**: Regular functions are typically preferred for methods that need to access the object's properties via `this`."
   ]
  },
  {
   "cell_type": "code",
   "execution_count": 27,
   "id": "90b47ab6",
   "metadata": {},
   "outputs": [
    {
     "name": "stdout",
     "output_type": "stream",
     "text": [
      "{ a: 10, fn: [Function: fn], lmbd: [Function: lmbd] }\n",
      "Window {}\n",
      "Regular function this: 42\n",
      "Arrow function this: undefined\n"
     ]
    }
   ],
   "source": [
    "const obj = {\n",
    "    value: 42,\n",
    "    moreobj: {\n",
    "        a: 10,\n",
    "        fn: function() { \n",
    "            console.log(this);  // moreobj\n",
    "        },\n",
    "        lmbd: () => { \n",
    "            console.log(this);  // global/undefined\n",
    "        }\n",
    "    },\n",
    "    regFun: function() {\n",
    "        console.log(\"Regular function this:\", this.value);\n",
    "    },\n",
    "    arrFun: () => {\n",
    "        console.log(\"Arrow function this:\", this.value);\n",
    "    }\n",
    "};\n",
    "\n",
    "obj.moreobj.fn();\n",
    "obj.moreobj.lmbd();\n",
    "obj.regFun();      // 42\n",
    "obj.arrFun();      // undefined"
   ]
  },
  {
   "cell_type": "markdown",
   "id": "closures",
   "metadata": {},
   "source": [
    "## 7. Closures and Private State\n",
    "\n",
    "- **Closures**: Functions that remember the environment in which they were created.\n",
    "- **Private State**: Encapsulate variables to prevent direct access from outside the function.\n",
    "- **Data Encapsulation**: Create factory functions that generate objects with private data."
   ]
  },
  {
   "cell_type": "code",
   "execution_count": 28,
   "id": "closures_code",
   "metadata": {},
   "outputs": [
    {
     "name": "stdout",
     "output_type": "stream",
     "text": [
      "100\n",
      "101\n",
      "200\n"
     ]
    }
   ],
   "source": [
    "function s1(initval) {\n",
    "    let cnt = initval;\n",
    "    \n",
    "    let myfun = function() {\n",
    "        return cnt++;\n",
    "    }\n",
    "\n",
    "    let setfun = function(nvar) {\n",
    "        cnt = nvar;\n",
    "    }\n",
    "\n",
    "    return [myfun, setfun];\n",
    "}\n",
    "\n",
    "let [gen, setnew] = s1(100);\n",
    "\n",
    "console.log(gen());    // 100\n",
    "console.log(gen());    // 101\n",
    "setnew(200);\n",
    "console.log(gen());    // 200"
   ]
  },
  {
   "cell_type": "markdown",
   "id": "53a0554e",
   "metadata": {},
   "source": [
    "## 8. IIFE and Anonymous Functions\n",
    "\n",
    "- **Anonymous Functions**: Functions without a name, often used as arguments.\n",
    "- **IIFE**: Functions that are executed immediately after they are defined.\n",
    "- **Scope Management**: IIFEs create a private scope for variables, avoiding global pollution."
   ]
  },
  {
   "cell_type": "markdown",
   "id": "new-md-6",
   "metadata": {},
   "source": [
    "### 8a. Anonymous Functions"
   ]
  },
  {
   "cell_type": "code",
   "execution_count": 44,
   "id": "99646f16",
   "metadata": {},
   "outputs": [
    {
     "data": {
      "text/plain": [
       "\u001b[33m3\u001b[39m"
      ]
     },
     "execution_count": 44,
     "metadata": {},
     "output_type": "execute_result"
    },
    {
     "name": "stdout",
     "output_type": "stream",
     "text": [
      "Anonymous function\n",
      "Anonymous arrow function\n"
     ]
    }
   ],
   "source": [
    "setTimeout(function() {\n",
    "    console.log(\"Anonymous function\");\n",
    "}, 100);\n",
    "\n",
    "setTimeout(() => {\n",
    "    console.log(\"Anonymous arrow function\");\n",
    "}, 100);"
   ]
  },
  {
   "cell_type": "markdown",
   "id": "new-md-7",
   "metadata": {},
   "source": [
    "### 8b. IIFE (Immediately Invoked Function Expression)"
   ]
  },
  {
   "cell_type": "code",
   "execution_count": 43,
   "id": "b4007843",
   "metadata": {},
   "outputs": [
    {
     "name": "stdout",
     "output_type": "stream",
     "text": [
      "Hello, World!\n",
      "Arrow IIFE\n",
      "IIFE result: 42\n"
     ]
    }
   ],
   "source": [
    "(function(name) {\n",
    "    console.log(\"Hello, \" + name + \"!\");\n",
    "})(\"World\");\n",
    "\n",
    "// Arrow IIFE\n",
    "(() => {\n",
    "    console.log(\"Arrow IIFE\");\n",
    "})();\n",
    "\n",
    "// IIFE returning value\n",
    "const ress = (function() {\n",
    "    return 42;\n",
    "})();\n",
    "\n",
    "console.log(\"IIFE result:\", ress);"
   ]
  },
  {
   "cell_type": "markdown",
   "id": "new-md-8",
   "metadata": {},
   "source": [
    "### 8c. Variable Capturing in lambdas"
   ]
  },
  {
   "cell_type": "code",
   "execution_count": 35,
   "id": "iife_lec2",
   "metadata": {},
   "outputs": [
    {
     "name": "stdout",
     "output_type": "stream",
     "text": [
      "Нещо друго\n",
      "[ 5, 2, 3 ]\n"
     ]
    }
   ],
   "source": [
    "(function () {\n",
    "    const x = [1, 2, 3];\n",
    "    let baloon = 'нищо съществено';\n",
    "    let baba = 'Мойта баба';\n",
    "\n",
    "    const y = ((x, y, z, c) => { \n",
    "        baba = 'Нещо друго';\n",
    "        y = 'нов балон';\n",
    "        x[0] = x[1] + x[2];\n",
    "    });\n",
    "\n",
    "    y(x, baloon);\n",
    "\n",
    "    console.log(baba);  // 'Нещо друго'\n",
    "    console.log(x);     // [5, 2, 3]\n",
    "})();"
   ]
  },
  {
   "cell_type": "markdown",
   "id": "constructor",
   "metadata": {},
   "source": [
    "## 9. Constructor Functions and 'new'\n",
    "\n",
    "- **Constructor Functions**: Blueprints for creating objects.\n",
    "- **`new` Keyword**: Creates a new object instance and sets its `this` context.\n",
    "- **Instance Properties**: `this` is used to assign properties to the new object."
   ]
  },
  {
   "cell_type": "code",
   "execution_count": 34,
   "id": "constructor_code",
   "metadata": {},
   "outputs": [
    {
     "name": "stdout",
     "output_type": "stream",
     "text": [
      "yes !\n",
      "yes !\n"
     ]
    }
   ],
   "source": [
    "function FunFun() {\n",
    "    this.something = \"yes !\";\n",
    "\n",
    "    this.arrfun = () => {\n",
    "        console.log(this.something);\n",
    "    }\n",
    "\n",
    "    this.regfun = function () {\n",
    "        console.log(this.something);\n",
    "    }\n",
    "}\n",
    "\n",
    "// let objX = FunFun();      // Without 'new' pollutes the global or fails (in Jupyter)\n",
    "let obj = new FunFun();   // With 'new'\n",
    "obj.arrfun();             // \"yes !\"\n",
    "obj.regfun();             // \"yes !\""
   ]
  },
  {
   "cell_type": "markdown",
   "id": "binding",
   "metadata": {},
   "source": [
    "## 10. Context Binding: bind(), call(), apply()\n",
    "\n",
    "- **`bind()`**: Creates a new function with a fixed `this` context.\n",
    "- **`call()`**: Invokes a function with a specified `this` and individual arguments.\n",
    "- **`apply()`**: Invokes a function with a specified `this` and an array of arguments."
   ]
  },
  {
   "cell_type": "markdown",
   "id": "new-md-9",
   "metadata": {},
   "source": [
    "### 10a. `bind()`"
   ]
  },
  {
   "cell_type": "code",
   "execution_count": 30,
   "id": "binding_code",
   "metadata": {},
   "outputs": [
    {
     "name": "stdout",
     "output_type": "stream",
     "text": [
      "yes !\n",
      "10\n"
     ]
    }
   ],
   "source": [
    "let myctx = { \n",
    "    something: 10,\n",
    "    else: \"is here\"\n",
    "}\n",
    "\n",
    "function FunFun() {\n",
    "    this.something = \"yes !\";\n",
    "    this.arrfun = () => { console.log(this.something); }\n",
    "    this.regfun = function () { console.log(this.something); }\n",
    "}\n",
    "\n",
    "let objX = new FunFun();\n",
    "\n",
    "const arrBound = objX.arrfun.bind(myctx);\n",
    "const regBound = objX.regfun.bind(myctx);\n",
    "arrBound();  // \"yes !\" (arrow ignores bind)\n",
    "regBound();  // 10"
   ]
  },
  {
   "cell_type": "markdown",
   "id": "new-md-10",
   "metadata": {},
   "source": [
    "### 10b. `call()` and `apply()`"
   ]
  },
  {
   "cell_type": "code",
   "execution_count": 34,
   "id": "call_apply",
   "metadata": {},
   "outputs": [
    {
     "ename": "SyntaxError",
     "evalue": "Identifier 'arr' has already been declared",
     "output_type": "error",
     "traceback": [
      "Stack trace:",
      "SyntaxError: Identifier 'arr' has already been declared"
     ]
    }
   ],
   "source": [
    "function newFun(x, y) {\n",
    "    console.log(this.a + 10);\n",
    "    console.log(x, y);\n",
    "}\n",
    "\n",
    "const ctxctx = { a: 10, b: 20 };\n",
    "\n",
    "newFun.call(ctxctx, \"baba\", \"cooks\");\n",
    "newFun.apply(ctxctx, [\"baba\", \"cooks\"]);\n",
    "\n",
    "const arr = [1, 2, 3, 4];\n",
    "newFun.call(ctxctx, ...arr);  // spread operator"
   ]
  },
  {
   "cell_type": "markdown",
   "id": "ac96eafe",
   "metadata": {},
   "source": [
    "## 11. Strings and String Methods\n",
    "\n",
    "- **String Manipulation**: A rich set of methods for working with text.\n",
    "- **Template Literals**: Enhanced string syntax for embedding expressions and creating multi-line strings.\n",
    "- **Immutability**: String methods return new strings rather than modifying the original."
   ]
  },
  {
   "cell_type": "code",
   "execution_count": 28,
   "id": "94f902af",
   "metadata": {},
   "outputs": [
    {
     "name": "stdout",
     "output_type": "stream",
     "text": [
      "13\n",
      "HELLO, WORLD!\n",
      "hello, world!\n",
      "H\n",
      "7\n",
      "Hello\n",
      "World\n",
      "[ \"Hello\", \"World!\" ]\n",
      "Hello, JS!\n",
      "true\n",
      "true\n",
      "true\n",
      "trim\n"
     ]
    }
   ],
   "source": [
    "const str = \"Hello, World!\";\n",
    "\n",
    "console.log(str.length);              // 13\n",
    "console.log(str.toUpperCase());       // \"HELLO, WORLD!\"\n",
    "console.log(str.toLowerCase());       // \"hello, world!\"\n",
    "console.log(str.charAt(0));           // \"H\"\n",
    "console.log(str.indexOf(\"World\"));    // 7\n",
    "console.log(str.slice(0, 5));         // \"Hello\"\n",
    "console.log(str.substring(7, 12));    // \"World\"\n",
    "console.log(str.split(\", \"));         // [\"Hello\", \"World!\"]\n",
    "console.log(str.replace(\"World\", \"JS\")); // \"Hello, JS!\"\n",
    "console.log(str.includes(\"World\"));   // true\n",
    "console.log(str.startsWith(\"Hello\")); // true\n",
    "console.log(str.endsWith(\"!\"));       // true\n",
    "console.log(\"  trim  \".trim());       // \"trim\""
   ]
  },
  {
   "cell_type": "markdown",
   "id": "new-md-12",
   "metadata": {},
   "source": [
    "### 11a. Template Literals"
   ]
  },
  {
   "cell_type": "code",
   "execution_count": 29,
   "id": "f09f58b5",
   "metadata": {},
   "outputs": [
    {
     "name": "stdout",
     "output_type": "stream",
     "text": [
      "Hello, my name is Alice and I am 25 years old.\n",
      "\n",
      "This is a\n",
      "multi-line\n",
      "string\n",
      "\n"
     ]
    }
   ],
   "source": [
    "const name = \"Alice\";\n",
    "const age = 25;\n",
    "const greeting = `Hello, my name is ${name} and I am ${age} years old.`;\n",
    "console.log(greeting);\n",
    "\n",
    "const multiline = `\n",
    "This is a\n",
    "multi-line\n",
    "string\n",
    "`;\n",
    "console.log(multiline);"
   ]
  },
  {
   "cell_type": "markdown",
   "id": "99dc6e28",
   "metadata": {},
   "source": [
    "## 12. Math Object\n",
    "\n",
    "- **Mathematical Constants**: Provides properties like `PI` and `E`.\n",
    "- **Numeric Operations**: Functions for rounding, absolute value, and powers.\n",
    "- **Random Numbers**: `Math.random()` generates pseudo-random numbers."
   ]
  },
  {
   "cell_type": "code",
   "execution_count": 30,
   "id": "b2e4cc30",
   "metadata": {},
   "outputs": [
    {
     "name": "stdout",
     "output_type": "stream",
     "text": [
      "3.141592653589793\n",
      "2.718281828459045\n",
      "5\n",
      "5\n",
      "4\n",
      "5\n",
      "5\n",
      "1\n",
      "8\n",
      "4\n",
      "0.21295638189028798\n"
     ]
    }
   ],
   "source": [
    "console.log(Math.PI);           // 3.141592653589793\n",
    "console.log(Math.E);            // 2.718281828459045\n",
    "console.log(Math.abs(-5));      // 5\n",
    "console.log(Math.round(4.7));   // 5\n",
    "console.log(Math.floor(4.7));   // 4\n",
    "console.log(Math.ceil(4.3));    // 5\n",
    "console.log(Math.max(1, 5, 3)); // 5\n",
    "console.log(Math.min(1, 5, 3)); // 1\n",
    "console.log(Math.pow(2, 3));    // 8\n",
    "console.log(Math.sqrt(16));     // 4\n",
    "console.log(Math.random());     // Random [0, 1)"
   ]
  },
  {
   "cell_type": "markdown",
   "id": "a39f12a9",
   "metadata": {},
   "source": [
    "## 13. BigInt\n",
    "\n",
    "- **Arbitrary-Precision Integers**: Handle integers larger than `Number.MAX_SAFE_INTEGER`.\n",
    "- **`n` Suffix**: Create `BigInt` literals by appending `n` to an integer.\n",
    "- **Type Safety**: `BigInt` and `Number` types cannot be mixed in arithmetic operations."
   ]
  },
  {
   "cell_type": "code",
   "execution_count": null,
   "id": "49dc795a",
   "metadata": {},
   "outputs": [],
   "source": [
    "console.log(Number.MAX_SAFE_INTEGER);    // 9007199254740991\n",
    "console.log(Number.MIN_SAFE_INTEGER);    // -9007199254740991\n",
    "\n",
    "// Precision lost beyond safe integer\n",
    "console.log(9007199254740992 === 9007199254740993); // true (!)"
   ]
  },
  {
   "cell_type": "code",
   "execution_count": 32,
   "id": "0130620f",
   "metadata": {},
   "outputs": [
    {
     "name": "stdout",
     "output_type": "stream",
     "text": [
      "123456789012345678901234567890n\n",
      "987654321098765432109876543210n\n",
      "1111111110111111111011111111100n\n",
      "246913578024691357802469135780n\n",
      "1267650600228229401496703205376n\n",
      "123456789012345678901234567895n\n"
     ]
    }
   ],
   "source": [
    "const bigInt1 = 123456789012345678901234567890n;\n",
    "const bigInt2 = BigInt(\"987654321098765432109876543210\");\n",
    "\n",
    "console.log(bigInt1);\n",
    "console.log(bigInt2);\n",
    "\n",
    "const sum = bigInt1 + bigInt2;\n",
    "const product = bigInt1 * 2n;\n",
    "const power = 2n ** 100n;\n",
    "\n",
    "console.log(sum);\n",
    "console.log(product);\n",
    "console.log(power);\n",
    "\n",
    "// const mixed = bigInt1 + 5;  // Error!\n",
    "const correct = bigInt1 + 5n;  // Works\n",
    "console.log(correct);"
   ]
  }
 ],
 "metadata": {
  "kernelspec": {
   "display_name": "Deno",
   "language": "typescript",
   "name": "deno"
  },
  "language_info": {
   "codemirror_mode": "typescript",
   "file_extension": ".ts",
   "mimetype": "text/x.typescript",
   "name": "typescript",
   "nbconvert_exporter": "script",
   "pygments_lexer": "typescript",
   "version": "5.8.3"
  }
 },
 "nbformat": 4,
 "nbformat_minor": 5
}
