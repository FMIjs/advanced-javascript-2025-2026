{
 "cells": [
  {
   "cell_type": "markdown",
   "id": "header",
   "metadata": {},
   "source": [
    "# Data Structures in JavaScript\n",
    "\n",
    "Collections, transformations, and data manipulation."
   ]
  },
  {
   "cell_type": "markdown",
   "id": "destr_heading",
   "metadata": {},
   "source": [
    "## 1. Destructuring"
   ]
  },
  {
   "cell_type": "markdown",
   "id": "destr_arr_summary",
   "metadata": {},
   "source": [
    "### Array and Object Destructuring\n",
    "\n",
    "- Деструктуриране на масиви за извличане на елементи и останалата част от масива.\n",
    "- Преструктуриране на обекти за извличане на конкретни свойства по име.\n"
   ]
  },
  {
   "cell_type": "code",
   "execution_count": 1,
   "id": "destr_arr",
   "metadata": {},
   "outputs": [
    {
     "name": "stdout",
     "output_type": "stream",
     "text": [
      "1\n",
      "2\n",
      "[ 3, 4, 5 ]\n",
      "John\n",
      "30\n"
     ]
    }
   ],
   "source": [
    "// Array destructuring\n",
    "const numbers = [1, 2, 3, 4, 5];\n",
    "const [first, second, ...rest] = numbers;\n",
    "console.log(first);   // 1\n",
    "console.log(second);  // 2\n",
    "console.log(rest);    // [3, 4, 5]\n",
    "\n",
    "// Object destructuring\n",
    "const person = { name: \"John\", age: 30, city: \"New York\" };\n",
    "const { name, age } = person;\n",
    "console.log(name);    // \"John\"\n",
    "console.log(age);     // 30"
   ]
  },
  {
   "cell_type": "markdown",
   "id": "destr_fn_summary",
   "metadata": {},
   "source": [
    "### Destructuring in Function Parameters\n",
    "\n",
    "- Илюстрира деструктуриране в параметрите на функции за по-чист достъп до свойствата на обекти.\n",
    "- Функцията `destr` директно получава `name` и `age` от подадения обект.\n"
   ]
  },
  {
   "cell_type": "code",
   "execution_count": null,
   "id": "destr_fn",
   "metadata": {},
   "outputs": [
    {
     "name": "stdout",
     "output_type": "stream",
     "text": [
      "My Name 10\n"
     ]
    }
   ],
   "source": [
    "// Destructuring in function parameters\n",
    "function destr({name, age}) {\n",
    "    console.log(name, age);\n",
    "}\n",
    "\n",
    "destr({\n",
    "    name: \"My Name\",\n",
    "    age: 10\n",
    "});"
   ]
  },
  {
   "cell_type": "markdown",
   "id": "spread_heading",
   "metadata": {},
   "source": [
    "## 2. Spread Operator"
   ]
  },
  {
   "cell_type": "markdown",
   "id": "spread_code_summary",
   "metadata": {},
   "source": [
    "### Array and Object Spread\n",
    "\n",
    "- Демонстрира използването на оператора за разпръсквам за комбиниране на масиви и сливане на обекти.\n",
    "- Показва как синтаксисът за разпръсквам може да се използва за създаване на плитко копие на масив.\n",
    "- Изходът показва резултатите от тези операции."
   ]
  },
  {
   "cell_type": "code",
   "execution_count": null,
   "id": "spread_code",
   "metadata": {},
   "outputs": [
    {
     "name": "stdout",
     "output_type": "stream",
     "text": [
      "[ 1, 2, 3, 4, 5, 6 ]\n",
      "{ a: 1, b: 2, c: 3, d: 4 }\n",
      "[ 1, 2, 3 ]\n"
     ]
    }
   ],
   "source": [
    "// Array spread\n",
    "const arr1 = [1, 2, 3];\n",
    "const arr2 = [4, 5, 6];\n",
    "const combined = [...arr1, ...arr2];\n",
    "console.log(combined);  // [1, 2, 3, 4, 5, 6]\n",
    "\n",
    "// Object spread\n",
    "const obj1 = { a: 1, b: 2 };\n",
    "const obj2 = { c: 3, d: 4 };\n",
    "const merged = { ...obj1, ...obj2 };\n",
    "console.log(merged);    // { a: 1, b: 2, c: 3, d: 4 }\n",
    "\n",
    "// Copying arrays\n",
    "const original = [1, 2, 3];\n",
    "const copy = [...original];\n",
    "console.log(copy);"
   ]
  },
  {
   "cell_type": "markdown",
   "id": "spread_fn_summary",
   "metadata": {},
   "source": [
    "### Spread in Function Calls\n",
    "\n",
    "- Илюстрира използването на оператора за разпръскване за предаване на елементи от масив като индивидуални аргументи на функция.\n",
    "- Функцията `newFun` получава първите два елемента от масива като `x` и `y`.\n",
    "- Изходът потвърждава извикването на функцията с разпръснати аргументи."
   ]
  },
  {
   "cell_type": "code",
   "execution_count": 2,
   "id": "spread_fn",
   "metadata": {},
   "outputs": [
    {
     "name": "stdout",
     "output_type": "stream",
     "text": [
      "1 2\n"
     ]
    }
   ],
   "source": [
    "// Spread in function calls\n",
    "function newFun(x, y) {\n",
    "    console.log(x, y);\n",
    "}\n",
    "\n",
    "const arr = [1, 2, 3, 4];\n",
    "newFun(...arr);  // 1 2"
   ]
  },
  {
   "cell_type": "markdown",
   "id": "arrays_heading",
   "metadata": {},
   "source": [
    "## 3. Arrays and Basic Methods"
   ]
  },
  {
   "cell_type": "markdown",
   "id": "arr_basic_summary",
   "metadata": {},
   "source": [
    "### Array Basic Methods\n",
    "\n",
    "- Демонстрира различни основни методи за масиви като `length`, `push`, `pop`, `unshift`, `shift`, `slice`, `indexOf`, `includes`, `join`, `reverse`, `sort` и `concat`.\n",
    "- Използването на всеки метод и неговата връщана стойност се показват чрез `console.log`.\n"
   ]
  },
  {
   "cell_type": "code",
   "execution_count": 5,
   "id": "arr_basic",
   "metadata": {},
   "outputs": [
    {
     "name": "stdout",
     "output_type": "stream",
     "text": [
      "5\n",
      "6\n",
      "6\n",
      "6\n",
      "0\n",
      "[ 2, 3 ]\n",
      "2\n",
      "true\n",
      "1, 2, 3, 4, 5\n",
      "[ 5, 4, 3, 2, 1 ]\n",
      "[ 1, 2, 3, 4, 5 ]\n",
      "[ 1, 2, 3, 4, 5 ]\n"
     ]
    }
   ],
   "source": [
    "const arr = [1, 2, 3, 4, 5];\n",
    "\n",
    "console.log(arr.length);        // 5\n",
    "console.log(arr.push(6));       // 6 (new length)\n",
    "console.log(arr.pop());         // 6\n",
    "console.log(arr.unshift(0));    // 6\n",
    "console.log(arr.shift());       // 0\n",
    "console.log(arr.slice(1, 3));   // [2, 3]\n",
    "console.log(arr.indexOf(3));    // 2\n",
    "console.log(arr.includes(4));   // true\n",
    "console.log(arr.join(\", \"));    // \"1, 2, 3, 4, 5\"\n",
    "console.log(arr.reverse());     // [5, 4, 3, 2, 1]\n",
    "console.log(arr.sort());        // Sorts array\n",
    "console.log([1, 2, 3].concat([4, 5])); // [1, 2, 3, 4, 5]"
   ]
  },
  {
   "cell_type": "markdown",
   "id": "map_filter_heading",
   "metadata": {},
   "source": [
    "## 4. Array Methods: map, filter, reduce"
   ]
  },
  {
   "cell_type": "markdown",
   "id": "map_code_summary",
   "metadata": {},
   "source": [
    "### map() - Transform Each Element\n",
    "\n",
    "- Обяснява и демонстрира метода за масиви `map()` за трансформиране на всеки елемент в масив.\n",
    "- Показва примери за удвояване на числа и преобразуване на имена в главни букви.\n"
   ]
  },
  {
   "cell_type": "code",
   "execution_count": 6,
   "id": "map_code",
   "metadata": {},
   "outputs": [
    {
     "name": "stdout",
     "output_type": "stream",
     "text": [
      "[ 2, 4, 6, 8, 10 ]\n",
      "[ \"ALICE\", \"BOB\", \"CHARLIE\" ]\n"
     ]
    }
   ],
   "source": [
    "// map() - transform each element\n",
    "const numbers = [1, 2, 3, 4, 5];\n",
    "const doubled = numbers.map(n => n * 2);\n",
    "console.log(doubled);  // [2, 4, 6, 8, 10]\n",
    "\n",
    "const names = ['alice', 'bob', 'charlie'];\n",
    "const caps = names.map(name => name.toUpperCase());\n",
    "console.log(caps);  // ['ALICE', 'BOB', 'CHARLIE']"
   ]
  },
  {
   "cell_type": "markdown",
   "id": "filter_code_summary",
   "metadata": {},
   "source": [
    "### filter() - Keep Elements That Pass Test\n",
    "\n",
    "- Обяснява и демонстрира метода за масиви `filter()` за създаване на нов масив с елементи, които преминават тест.\n",
    "- Показва примери за филтриране на четни числа и думи с дължина над 6 знака.\n"
   ]
  },
  {
   "cell_type": "code",
   "execution_count": 7,
   "id": "filter_code",
   "metadata": {},
   "outputs": [
    {
     "name": "stdout",
     "output_type": "stream",
     "text": [
      "[ 2, 4, 6, 8, 10 ]\n",
      "[ \"exuberant\" ]\n"
     ]
    }
   ],
   "source": [
    "// filter() - keep elements that pass test\n",
    "const numbers = [1, 2, 3, 4, 5, 6, 7, 8, 9, 10];\n",
    "const evens = numbers.filter(n => n % 2 === 0);\n",
    "console.log(evens);  // [2, 4, 6, 8, 10]\n",
    "\n",
    "const words = ['spray', 'limit', 'elite', 'exuberant'];\n",
    "const longWords = words.filter(word => word.length > 6);\n",
    "console.log(longWords);  // ['exuberant']"
   ]
  },
  {
   "cell_type": "markdown",
   "id": "reduce_code_summary",
   "metadata": {},
   "source": [
    "### reduce() - Accumulate to Single Value\n",
    "\n",
    "- Обяснява и демонстрира метода за масиви `reduce()` за натрупване на елементи от масив в една стойност.\n",
    "- Показва примери за изчисляване на сума, произведение и намиране на максимална стойност.\n"
   ]
  },
  {
   "cell_type": "code",
   "execution_count": 8,
   "id": "reduce_code",
   "metadata": {},
   "outputs": [
    {
     "name": "stdout",
     "output_type": "stream",
     "text": [
      "15\n",
      "120\n",
      "5\n"
     ]
    }
   ],
   "source": [
    "// reduce() - accumulate to single value\n",
    "const numbers = [1, 2, 3, 4, 5];\n",
    "const sum = numbers.reduce((acc, n) => acc + n, 0);\n",
    "console.log(sum);  // 15\n",
    "\n",
    "const product = numbers.reduce((acc, n) => acc * n, 1);\n",
    "console.log(product);  // 120\n",
    "\n",
    "const max = numbers.reduce((acc, n) => Math.max(acc, n));\n",
    "console.log(max);  // 5"
   ]
  },
  {
   "cell_type": "markdown",
   "id": "foreach_heading",
   "metadata": {},
   "source": [
    "## 5. Array Methods: forEach, some, every"
   ]
  },
  {
   "cell_type": "markdown",
   "id": "foreach_code_summary",
   "metadata": {},
   "source": [
    "### forEach() - Execute Function for Each Element\n",
    "\n",
    "- Обяснява и демонстрира метода за масиви `forEach()` за изпълнение на функция за всеки елемент.\n",
    "- Показва примери за записване на удвоени стойности и изчисляване на обща сума.\n"
   ]
  },
  {
   "cell_type": "code",
   "execution_count": 10,
   "id": "foreach_code",
   "metadata": {},
   "outputs": [
    {
     "name": "stdout",
     "output_type": "stream",
     "text": [
      "2\n",
      "4\n",
      "6\n",
      "8\n",
      "10\n",
      "15\n"
     ]
    }
   ],
   "source": [
    "// forEach() - execute function for each element\n",
    "const numbers = [1, 2, 3, 4, 5];\n",
    "numbers.forEach(n => console.log(n * 2));\n",
    "\n",
    "let total = 0;\n",
    "numbers.forEach(n => total += n);\n",
    "console.log(sum);  // 15"
   ]
  },
  {
   "cell_type": "markdown",
   "id": "some_code_summary",
   "metadata": {},
   "source": [
    "### some() - Test if At Least One Element Passes\n",
    "\n",
    "- Обяснява и демонстрира метода за масиви `some()`, за да провери дали поне един елемент в масив преминава тест.\n",
    "- Показва примери за проверка на четни числа и отрицателни числа.\n",
    "- Изходът показва `true`, ако някой елемент премине, в противен случай `false`."
   ]
  },
  {
   "cell_type": "code",
   "execution_count": 11,
   "id": "some_code",
   "metadata": {},
   "outputs": [
    {
     "name": "stdout",
     "output_type": "stream",
     "text": [
      "true\n",
      "false\n"
     ]
    }
   ],
   "source": [
    "// some() - test if at least one element passes\n",
    "const numbers = [1, 2, 3, 4, 5];\n",
    "const hasEven = numbers.some(n => n % 2 === 0);\n",
    "console.log(hasEven);  // true\n",
    "\n",
    "const hasNeg = numbers.some(n => n < 0);\n",
    "console.log(hasNeg);  // false"
   ]
  },
  {
   "cell_type": "markdown",
   "id": "every_code_summary",
   "metadata": {},
   "source": [
    "### every() - Test if All Elements Pass\n",
    "\n",
    "- Обяснява и демонстрира метода за масиви `every()`, за да провери дали всички елементи в масив преминават тест.\n",
    "- Показва примери за проверка дали всички числа са четни и дали всички числа са положителни.\n",
    "- Изходът показва `true`, ако всички елементи преминат, в противен случай `false`."
   ]
  },
  {
   "cell_type": "code",
   "execution_count": 12,
   "id": "every_code",
   "metadata": {},
   "outputs": [
    {
     "name": "stdout",
     "output_type": "stream",
     "text": [
      "true\n",
      "true\n"
     ]
    }
   ],
   "source": [
    "// every() - test if all elements pass\n",
    "const numbers = [2, 4, 6, 8, 10];\n",
    "const allEven = numbers.every(n => n % 2 === 0);\n",
    "console.log(allEven);  // true\n",
    "\n",
    "const allPos = numbers.every(n => n > 0);\n",
    "console.log(allPos);  // true"
   ]
  },
  {
   "cell_type": "markdown",
   "id": "maps_heading",
   "metadata": {},
   "source": [
    "## 6. Maps"
   ]
  },
  {
   "cell_type": "markdown",
   "id": "map_obj_summary",
   "metadata": {},
   "source": [
    "### Map Object\n",
    "\n",
    "- Представя и демонстрира обекта `Map` за двойки ключ-стойност, позволяващ всякакъв тип данни като ключове.\n",
    "- Показва методи като `set`, `get`, `has`, `size`, `delete` и обхождане на съдържанието."
   ]
  },
  {
   "cell_type": "code",
   "execution_count": 3,
   "id": "map_obj",
   "metadata": {},
   "outputs": [
    {
     "name": "stdout",
     "output_type": "stream",
     "text": [
      "John\n",
      "true\n",
      "4\n",
      "name: John\n",
      "age: 30\n",
      "1: number key\n",
      "true: boolean key\n",
      "3\n"
     ]
    }
   ],
   "source": [
    "// Map - key-value pairs with any type of key\n",
    "const map = new Map();\n",
    "\n",
    "map.set('name', 'John');\n",
    "map.set('age', 30);\n",
    "map.set(1, 'number key');\n",
    "map.set(true, 'boolean key');\n",
    "\n",
    "console.log(map.get('name'));  // \"John\"\n",
    "console.log(map.has('age'));   // true\n",
    "console.log(map.size);         // 4\n",
    "\n",
    "// Iterating over Map\n",
    "for (const [key, value] of map) {\n",
    "    console.log(`${key}: ${value}`);\n",
    "}\n",
    "\n",
    "map.delete('age');\n",
    "console.log(map.size);  // 3"
   ]
  },
  {
   "cell_type": "markdown",
   "id": "weakmap_heading",
   "metadata": {},
   "source": [
    "## 7. WeakMaps"
   ]
  },
  {
   "cell_type": "markdown",
   "id": "weakmap_code_summary",
   "metadata": {},
   "source": [
    "### WeakMap\n",
    "\n",
    "- Обяснява `WeakMap`, където ключовете трябва да са обекти и се събират за боклук, когато вече няма цитати към тях.\n",
    "- Демонстрира методи `set`, `get` и `has` с обектни ключове.\n",
    "- Подчертава, че задаването на `obj1` на `null` позволява свързаните му данни в `WeakMap` да бъдат събрани за боклук."
   ]
  },
  {
   "cell_type": "code",
   "execution_count": 6,
   "id": "weakmap_code",
   "metadata": {},
   "outputs": [
    {
     "name": "stdout",
     "output_type": "stream",
     "text": [
      "data for obj1\n",
      "true\n"
     ]
    },
    {
     "data": {
      "text/plain": [
       "\u001b[1mnull\u001b[22m"
      ]
     },
     "execution_count": 6,
     "metadata": {},
     "output_type": "execute_result"
    }
   ],
   "source": [
    "// WeakMap - only objects as keys, garbage-collected\n",
    "const weakMap = new WeakMap();\n",
    "let obj1x = { id: 1 };\n",
    "let obj2x = { id: 2 };\n",
    "\n",
    "weakMap.set(obj1x, 'data for obj1');\n",
    "weakMap.set(obj2x, 'data for obj2');\n",
    "\n",
    "console.log(weakMap.get(obj1x));  // \"data for obj1\"\n",
    "console.log(weakMap.has(obj2x));  // true\n",
    "\n",
    "// When obj1 is no longer referenced, it can be GC'd\n",
    "obj1x = null;"
   ]
  },
  {
   "cell_type": "markdown",
   "id": "sets_heading",
   "metadata": {},
   "source": [
    "## 8. Sets"
   ]
  },
  {
   "cell_type": "markdown",
   "id": "set_code_summary",
   "metadata": {},
   "source": [
    "### Set - Collection of Unique Values\n",
    "\n",
    "- Представя обект `Set` за съхранение на множества от уникални стойности.\n",
    "- Премахване на дубликати от масив с помощта на `Set`."
   ]
  },
  {
   "cell_type": "code",
   "execution_count": 7,
   "id": "set_code",
   "metadata": {},
   "outputs": [
    {
     "name": "stdout",
     "output_type": "stream",
     "text": [
      "3\n",
      "true\n",
      "1\n",
      "2\n",
      "3\n",
      "[ 1, 2, 3, 4, 5 ]\n",
      "2\n"
     ]
    }
   ],
   "source": [
    "// Set - collection of unique values\n",
    "const set = new Set();\n",
    "\n",
    "set.add(1);\n",
    "set.add(2);\n",
    "set.add(3);\n",
    "set.add(2);  // Duplicate, won't be added\n",
    "\n",
    "console.log(set.size);     // 3\n",
    "console.log(set.has(2));   // true\n",
    "\n",
    "// Iterating over Set\n",
    "for (const value of set) {\n",
    "    console.log(value);\n",
    "}\n",
    "\n",
    "// Remove duplicates from array\n",
    "const numbers = [1, 2, 2, 3, 4, 4, 5];\n",
    "const unique = [...new Set(numbers)];\n",
    "console.log(unique);  // [1, 2, 3, 4, 5]\n",
    "\n",
    "set.delete(2);\n",
    "console.log(set.size);  // 2"
   ]
  },
  {
   "cell_type": "markdown",
   "id": "objects_heading",
   "metadata": {},
   "source": [
    "## 9. Objects and Object Methods"
   ]
  },
  {
   "cell_type": "markdown",
   "id": "obj_create_summary",
   "metadata": {},
   "source": [
    "### Creating Objects\n",
    "\n",
    "- Демонстрира създаването на JavaScript обекти с помощта на синтаксис за литерал на обект.\n",
    "- Показва как да се достъпват свойства с помощта на точкова нотация и нотация с квадратни скоби.\n",
    "- Илюстрира дефинирането и извикването на методи на обекти с помощта на `this`."
   ]
  },
  {
   "cell_type": "code",
   "execution_count": 8,
   "id": "obj_create",
   "metadata": {},
   "outputs": [
    {
     "name": "stdout",
     "output_type": "stream",
     "text": [
      "John\n",
      "30\n",
      "Hello, I'm John\n"
     ]
    }
   ],
   "source": [
    "// Creating objects\n",
    "const person = {\n",
    "    name: \"John\",\n",
    "    age: 30,\n",
    "    city: \"New York\",\n",
    "    greet: function() {\n",
    "        return `Hello, I'm ${this.name}`;\n",
    "    }\n",
    "};\n",
    "\n",
    "console.log(person.name);      // \"John\"\n",
    "console.log(person['age']);    // 30\n",
    "console.log(person.greet());   // \"Hello, I'm John\""
   ]
  },
  {
   "cell_type": "markdown",
   "id": "obj_methods_summary",
   "metadata": {},
   "source": [
    "### Object Methods\n",
    "\n",
    "- Демонстрира вградени методи на `Object`: `keys`, `values`, `entries`, `assign`, `freeze` и `seal`.\n",
    "- Обяснява тяхната цел: получаване на ключове/стойности/записи, копиране на свойства и контролиране на променливостта.\n",
    "- Изходът показва резултатите от тези методи за манипулиране на обекти."
   ]
  },
  {
   "cell_type": "code",
   "execution_count": 9,
   "id": "obj_methods",
   "metadata": {},
   "outputs": [
    {
     "name": "stdout",
     "output_type": "stream",
     "text": [
      "[ \"a\", \"b\", \"c\" ]\n",
      "[ 1, 2, 3 ]\n",
      "[ [ \"a\", 1 ], [ \"b\", 2 ], [ \"c\", 3 ] ]\n",
      "{ x: 1, y: 2, z: 3 }\n",
      "42\n",
      "100\n"
     ]
    }
   ],
   "source": [
    "// Object methods\n",
    "const obj = { a: 1, b: 2, c: 3 };\n",
    "\n",
    "console.log(Object.keys(obj));     // [\"a\", \"b\", \"c\"]\n",
    "console.log(Object.values(obj));   // [1, 2, 3]\n",
    "console.log(Object.entries(obj));  // [[\"a\", 1], [\"b\", 2], [\"c\", 3]]\n",
    "\n",
    "// Object.assign() - copy properties\n",
    "const target = { x: 1 };\n",
    "const source = { y: 2, z: 3 };\n",
    "const result = Object.assign(target, source);\n",
    "console.log(result);  // { x: 1, y: 2, z: 3 }\n",
    "\n",
    "// Object.freeze() - make immutable\n",
    "const frozen = Object.freeze({ val: 42 });\n",
    "// frozen.val = 100;  // Won't work\n",
    "console.log(frozen.val);  // 42\n",
    "\n",
    "// Object.seal() - prevent add/remove properties\n",
    "const sealed = Object.seal({ val: 42 });\n",
    "sealed.val = 100;  // Can modify existing\n",
    "console.log(sealed.val);  // 100"
   ]
  },
  {
   "cell_type": "markdown",
   "id": "shorthand_heading",
   "metadata": {},
   "source": [
    "## 10. Property and Method Shorthand"
   ]
  },
  {
   "cell_type": "markdown",
   "id": "shorthand_code_summary",
   "metadata": {},
   "source": [
    "### Property and Method Shorthand\n",
    "\n",
    "- Обяснява и демонстрира съкратен запис на свойства за създаване на обекти, когато имената на променливите съвпадат с имената на свойствата.\n",
    "- Обяснява и демонстрира съкратен запис на методи за дефиниране на методи в литерали на обекти.\n",
    "- Изходът показва получения обект със съкратени свойства и резултата от извикването на съкратен метод."
   ]
  },
  {
   "cell_type": "code",
   "execution_count": null,
   "id": "shorthand_code",
   "metadata": {},
   "outputs": [
    {
     "name": "stdout",
     "output_type": "stream",
     "text": [
      "{ name: \"Alice\", age: 25 }\n",
      "5\n"
     ]
    }
   ],
   "source": [
    "// Property shorthand\n",
    "const name = \"Alice\";\n",
    "const age = 25;\n",
    "const person = { name, age };  // Same as { name: name, age: age }\n",
    "console.log(person);\n",
    "\n",
    "// Method shorthand\n",
    "const calc = {\n",
    "    add(a, b) {  // Instead of: add: function(a, b)\n",
    "        return a + b;\n",
    "    },\n",
    "    multiply(a, b) {\n",
    "        return a * b;\n",
    "    }\n",
    "};\n",
    "console.log(calc.add(2, 3));  // 5"
   ]
  }
 ],
 "metadata": {
  "kernelspec": {
   "display_name": "Deno",
   "language": "typescript",
   "name": "deno"
  },
  "language_info": {
   "codemirror_mode": "typescript",
   "file_extension": ".ts",
   "mimetype": "text/x.typescript",
   "name": "typescript",
   "nbconvert_exporter": "script",
   "pygments_lexer": "typescript",
   "version": "5.8.3"
  }
 },
 "nbformat": 4,
 "nbformat_minor": 5
}
