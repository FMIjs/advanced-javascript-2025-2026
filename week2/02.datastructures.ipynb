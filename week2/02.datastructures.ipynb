{
 "cells": [
  {
   "cell_type": "markdown",
   "id": "header",
   "metadata": {},
   "source": [
    "# Data Structures in JavaScript\n",
    "\n",
    "Collections, transformations, and data manipulation."
   ]
  },
  {
   "cell_type": "markdown",
   "id": "destr_heading",
   "metadata": {},
   "source": [
    "## 1. Destructuring"
   ]
  },
  {
   "cell_type": "markdown",
   "id": "destr_arr_summary",
   "metadata": {},
   "source": [
    "### Array and Object Destructuring\n",
    "\n",
    "- Demonstrates array destructuring to extract elements and the rest of the array.\n",
    "- Shows object destructuring to extract specific properties by name.\n",
    "- `console.log` outputs confirm the extracted values."
   ]
  },
  {
   "cell_type": "code",
   "execution_count": null,
   "id": "destr_arr",
   "metadata": {},
   "outputs": [
    {
     "name": "stdout",
     "output_type": "stream",
     "text": [
      "1\n",
      "2\n",
      "[ 3, 4, 5 ]\n",
      "John\n",
      "30\n"
     ]
    }
   ],
   "source": [
    "// Array destructuring\n",
    "const numbers = [1, 2, 3, 4, 5];\n",
    "const [first, second, ...rest] = numbers;\n",
    "console.log(first);   // 1\n",
    "console.log(second);  // 2\n",
    "console.log(rest);    // [3, 4, 5]\n",
    "\n",
    "// Object destructuring\n",
    "const person = { name: \"John\", age: 30, city: \"New York\" };\n",
    "const { name, age } = person;\n",
    "console.log(name);    // \"John\"\n",
    "console.log(age);     // 30"
   ]
  },
  {
   "cell_type": "markdown",
   "id": "destr_fn_summary",
   "metadata": {},
   "source": [
    "### Destructuring in Function Parameters\n",
    "\n",
    "- Illustrates destructuring within function parameters for cleaner access to object properties.\n",
    "- The `destr` function directly receives `name` and `age` from the passed object.\n",
    "- The output confirms the function correctly accesses these properties."
   ]
  },
  {
   "cell_type": "code",
   "execution_count": 2,
   "id": "destr_fn",
   "metadata": {},
   "outputs": [
    {
     "name": "stdout",
     "output_type": "stream",
     "text": [
      "My Name 10\n"
     ]
    }
   ],
   "source": [
    "// Destructuring in function parameters\n",
    "function destr({name, age}) {\n",
    "    console.log(name, age);\n",
    "}\n",
    "\n",
    "destr({\n",
    "    name: \"My Name\",\n",
    "    age: 10\n",
    "});"
   ]
  },
  {
   "cell_type": "markdown",
   "id": "spread_heading",
   "metadata": {},
   "source": [
    "## 2. Spread Operator"
   ]
  },
  {
   "cell_type": "markdown",
   "id": "spread_code_summary",
   "metadata": {},
   "source": [
    "### Array and Object Spread\n",
    "\n",
    "- Demonstrates using the spread operator to combine arrays and merge objects.\n",
    "- Shows how spread syntax can be used to create a shallow copy of an array.\n",
    "- The output displays the results of these operations."
   ]
  },
  {
   "cell_type": "code",
   "execution_count": null,
   "id": "spread_code",
   "metadata": {},
   "outputs": [
    {
     "name": "stdout",
     "output_type": "stream",
     "text": [
      "[ 1, 2, 3, 4, 5, 6 ]\n",
      "{ a: 1, b: 2, c: 3, d: 4 }\n",
      "[ 1, 2, 3 ]\n"
     ]
    }
   ],
   "source": [
    "// Array spread\n",
    "const arr1 = [1, 2, 3];\n",
    "const arr2 = [4, 5, 6];\n",
    "const combined = [...arr1, ...arr2];\n",
    "console.log(combined);  // [1, 2, 3, 4, 5, 6]\n",
    "\n",
    "// Object spread\n",
    "const obj1 = { a: 1, b: 2 };\n",
    "const obj2 = { c: 3, d: 4 };\n",
    "const merged = { ...obj1, ...obj2 };\n",
    "console.log(merged);    // { a: 1, b: 2, c: 3, d: 4 }\n",
    "\n",
    "// Copying arrays\n",
    "const original = [1, 2, 3];\n",
    "const copy = [...original];\n",
    "console.log(copy);"
   ]
  },
  {
   "cell_type": "markdown",
   "id": "spread_fn_summary",
   "metadata": {},
   "source": [
    "### Spread in Function Calls\n",
    "\n",
    "- Illustrates using the spread operator to pass array elements as individual arguments to a function.\n",
    "- The `newFun` function receives the first two elements of the array as `x` and `y`.\n",
    "- The output confirms the function call with spread arguments."
   ]
  },
  {
   "cell_type": "code",
   "execution_count": 2,
   "id": "spread_fn",
   "metadata": {},
   "outputs": [
    {
     "name": "stdout",
     "output_type": "stream",
     "text": [
      "1 2\n"
     ]
    }
   ],
   "source": [
    "// Spread in function calls\n",
    "function newFun(x, y) {\n",
    "    console.log(x, y);\n",
    "}\n",
    "\n",
    "const arr = [1, 2, 3, 4];\n",
    "newFun(...arr);  // 1 2"
   ]
  },
  {
   "cell_type": "markdown",
   "id": "arrays_heading",
   "metadata": {},
   "source": [
    "## 3. Arrays and Basic Methods"
   ]
  },
  {
   "cell_type": "markdown",
   "id": "arr_basic_summary",
   "metadata": {},
   "source": [
    "### Array Basic Methods\n",
    "\n",
    "- Demonstrates various fundamental array methods like `length`, `push`, `pop`, `unshift`, `shift`, `slice`, `indexOf`, `includes`, `join`, `reverse`, `sort`, and `concat`.\n",
    "- Each method's usage and its return value are shown via `console.log`.\n",
    "- The output shows the results of these array manipulations."
   ]
  },
  {
   "cell_type": "code",
   "execution_count": null,
   "id": "arr_basic",
   "metadata": {},
   "outputs": [
    {
     "name": "stdout",
     "output_type": "stream",
     "text": [
      "5\n",
      "6\n",
      "6\n",
      "6\n",
      "0\n",
      "[ 2, 3 ]\n",
      "2\n",
      "true\n",
      "1, 2, 3, 4, 5\n",
      "[ 5, 4, 3, 2, 1 ]\n",
      "[ 1, 2, 3, 4, 5 ]\n",
      "[ 1, 2, 3, 4, 5 ]\n"
     ]
    }
   ],
   "source": [
    "const arr = [1, 2, 3, 4, 5];\n",
    "\n",
    "console.log(arr.length);                // 5\n",
    "console.log(arr.push(6));               // 6 (new length)\n",
    "console.log(arr.pop());                 // 6\n",
    "console.log(arr.unshift(0));            // 6\n",
    "console.log(arr.shift());               // 0\n",
    "console.log(arr.slice(1, 3));           // [2, 3]\n",
    "console.log(arr.slice(1, -1));          // [2, 3, 4]\n",
    "console.log(arr.slice());               // [1, 2, 3, 4, 5] --> shallow copy\n",
    "console.log(arr.indexOf(3));            // 2\n",
    "console.log(arr.indexOf(3) !== -1);     // true --> element exists\n",
    "console.log(arr.indexOf(333) !== -1);   // false --> element does not exist\n",
    "console.log(arr.includes(4));           // true\n",
    "console.log(arr.join(\"⛩️\"));            // \"1⛩️2⛩️3⛩️4⛩️5\"\n",
    "console.log(arr.reverse());             // [5, 4, 3, 2, 1]\n",
    "console.log(arr.sort());                // Sorts array\n",
    "console.log(arr.sort((a, b) => a - b)); // Sorts array with custom comparator\n",
    "console.log([1, 2, 3].concat([4, 5]));  // [1, 2, 3, 4, 5]"
   ]
  },
  {
   "cell_type": "markdown",
   "id": "map_filter_heading",
   "metadata": {},
   "source": [
    "## 4. Array Methods: `map`, `filter`, `reduce`"
   ]
  },
  {
   "cell_type": "markdown",
   "id": "map_code_summary",
   "metadata": {},
   "source": [
    "### `map()` - Transform Each Element\n",
    "\n",
    "- Explains and demonstrates the `map()` array method for transforming each element in an array.\n",
    "- Shows examples of doubling numbers and converting names to uppercase.\n",
    "- The output displays the new arrays created by `map()`."
   ]
  },
  {
   "cell_type": "code",
   "execution_count": null,
   "id": "map_code",
   "metadata": {},
   "outputs": [
    {
     "name": "stdout",
     "output_type": "stream",
     "text": [
      "[ 2, 4, 6, 8, 10 ]\n",
      "[ \"ALICE\", \"BOB\", \"CHARLIE\" ]\n"
     ]
    }
   ],
   "source": [
    "// map() - transform each element\n",
    "const numbers = [1, 2, 3, 4, 5];\n",
    "const doubled = numbers.map(el => el * 2);\n",
    "console.log(doubled);  // [2, 4, 6, 8, 10]\n",
    "\n",
    "const timesIdx = numbers.map((el, idx, arr) => el * idx);\n",
    "console.log(timesIdx);  // [0, 2, 6, 12, 20]\n",
    "\n",
    "const names = ['alice', 'bob', 'charlie'];\n",
    "const caps = names.map(name => name.toUpperCase());\n",
    "console.log(caps);  // ['ALICE', 'BOB', 'CHARLIE']"
   ]
  },
  {
   "cell_type": "markdown",
   "id": "filter_code_summary",
   "metadata": {},
   "source": [
    "### `filter()` - Keep Elements That Pass Test\n",
    "\n",
    "- Explains and demonstrates the `filter()` array method for creating a new array with elements that pass a test.\n",
    "- Shows examples of filtering even numbers and words longer than 6 characters.\n",
    "- The output displays the filtered arrays."
   ]
  },
  {
   "cell_type": "code",
   "execution_count": null,
   "id": "filter_code",
   "metadata": {},
   "outputs": [
    {
     "name": "stdout",
     "output_type": "stream",
     "text": [
      "[ 2, 4, 6, 8, 10 ]\n",
      "[ \"exuberant\" ]\n"
     ]
    }
   ],
   "source": [
    "// filter() - keep elements that pass test\n",
    "const numbers = [1, 2, 3, 4, 5, 6, 7, 8, 9, 10];\n",
    "const evens = numbers.filter(el => el % 2 === 0);\n",
    "console.log(evens); // [2, 4, 6, 8, 10]\n",
    "\n",
    "const words = ['spray', 'limit', 'elite', 'exuberant'];\n",
    "const longWords = words.filter(word => word.length > 6);\n",
    "console.log(longWords); // ['exuberant']"
   ]
  },
  {
   "cell_type": "markdown",
   "id": "reduce_code_summary",
   "metadata": {},
   "source": [
    "### `reduce()` - Accumulate to Single Value\n",
    "\n",
    "- Explains and demonstrates the `reduce()` array method for accumulating array elements into a single value.\n",
    "- Shows examples of calculating sum, product, and finding the maximum value.\n",
    "- The output displays the single accumulated values."
   ]
  },
  {
   "cell_type": "code",
   "execution_count": 8,
   "id": "reduce_code",
   "metadata": {},
   "outputs": [
    {
     "name": "stdout",
     "output_type": "stream",
     "text": [
      "15\n",
      "120\n",
      "5\n"
     ]
    }
   ],
   "source": [
    "// reduce() - accumulate to single value\n",
    "const numbers = [1, 2, 3, 4, 5];\n",
    "const sum = numbers.reduce((acc, n) => acc + n, 0);\n",
    "console.log(sum);  // 15\n",
    "\n",
    "const product = numbers.reduce((acc, n) => acc * n, 1);\n",
    "console.log(product);  // 120\n",
    "\n",
    "const max = numbers.reduce((acc, n) => Math.max(acc, n));\n",
    "console.log(max);  // 5"
   ]
  },
  {
   "cell_type": "markdown",
   "id": "foreach_heading",
   "metadata": {},
   "source": [
    "## 5. Array Methods: forEach, some, every"
   ]
  },
  {
   "cell_type": "markdown",
   "id": "foreach_code_summary",
   "metadata": {},
   "source": [
    "### `forEach()` - Execute Function for Each Element\n",
    "\n",
    "- Explains and demonstrates the `forEach()` array method for executing a function for each element.\n",
    "- Shows examples of logging doubled values and calculating a total sum.\n",
    "- The output displays the results of the `forEach` operations."
   ]
  },
  {
   "cell_type": "code",
   "execution_count": 10,
   "id": "foreach_code",
   "metadata": {},
   "outputs": [
    {
     "name": "stdout",
     "output_type": "stream",
     "text": [
      "2\n",
      "4\n",
      "6\n",
      "8\n",
      "10\n",
      "15\n"
     ]
    }
   ],
   "source": [
    "// forEach() - execute function for each element\n",
    "const numbers = [1, 2, 3, 4, 5];\n",
    "numbers.forEach(n => console.log(n * 2));\n",
    "\n",
    "let total = 0;\n",
    "numbers.forEach(n => total += n);\n",
    "console.log(sum);  // 15"
   ]
  },
  {
   "cell_type": "markdown",
   "id": "some_code_summary",
   "metadata": {},
   "source": [
    "### `some()` - Test if At Least One Element Passes\n",
    "\n",
    "- Explains and demonstrates the `some()` array method to test if at least one element in an array passes a test.\n",
    "- Shows examples checking for even numbers and negative numbers.\n",
    "- The output indicates `true` if any element passes, `false` otherwise."
   ]
  },
  {
   "cell_type": "code",
   "execution_count": 11,
   "id": "some_code",
   "metadata": {},
   "outputs": [
    {
     "name": "stdout",
     "output_type": "stream",
     "text": [
      "true\n",
      "false\n"
     ]
    }
   ],
   "source": [
    "// some() - test if at least one element passes\n",
    "const numbers = [1, 2, 3, 4, 5];\n",
    "const hasEven = numbers.some(n => n % 2 === 0);\n",
    "console.log(hasEven);  // true\n",
    "\n",
    "const hasNeg = numbers.some(n => n < 0);\n",
    "console.log(hasNeg);  // false"
   ]
  },
  {
   "cell_type": "markdown",
   "id": "every_code_summary",
   "metadata": {},
   "source": [
    "### `every()` - Test if All Elements Pass\n",
    "\n",
    "- Explains and demonstrates the `every()` array method to test if all elements in an array pass a test.\n",
    "- Shows examples checking if all numbers are even and if all numbers are positive.\n",
    "- The output indicates `true` if all elements pass, `false` otherwise."
   ]
  },
  {
   "cell_type": "code",
   "execution_count": 12,
   "id": "every_code",
   "metadata": {},
   "outputs": [
    {
     "name": "stdout",
     "output_type": "stream",
     "text": [
      "true\n",
      "true\n"
     ]
    }
   ],
   "source": [
    "// every() - test if all elements pass\n",
    "const numbers = [2, 4, 6, 8, 10];\n",
    "const allEven = numbers.every(n => n % 2 === 0);\n",
    "console.log(allEven);  // true\n",
    "\n",
    "const allPos = numbers.every(n => n > 0);\n",
    "console.log(allPos);  // true"
   ]
  },
  {
   "cell_type": "markdown",
   "id": "maps_heading",
   "metadata": {},
   "source": [
    "## 6. Maps"
   ]
  },
  {
   "cell_type": "markdown",
   "id": "map_obj_summary",
   "metadata": {},
   "source": [
    "### Map Object\n",
    "\n",
    "- Introduces and demonstrates the `Map` object for key-value pairs, allowing any data type as keys.\n",
    "- Shows methods like `set`, `get`, `has`, `size`, `delete`, and iteration.\n",
    "- The output displays map operations and its final state."
   ]
  },
  {
   "cell_type": "code",
   "execution_count": 3,
   "id": "map_obj",
   "metadata": {},
   "outputs": [
    {
     "name": "stdout",
     "output_type": "stream",
     "text": [
      "John\n",
      "true\n",
      "4\n",
      "name: John\n",
      "age: 30\n",
      "1: number key\n",
      "true: boolean key\n",
      "3\n"
     ]
    }
   ],
   "source": [
    "// Map - key-value pairs with any type of key\n",
    "const map = new Map();\n",
    "\n",
    "map.set('name', 'John');\n",
    "map.set('age', 30);\n",
    "map.set(1, 'number key');\n",
    "map.set(true, 'boolean key');\n",
    "\n",
    "console.log(map.get('name'));  // \"John\"\n",
    "console.log(map.has('age'));   // true\n",
    "console.log(map.size);         // 4\n",
    "\n",
    "// Iterating over Map\n",
    "for (const [key, value] of map) {\n",
    "    console.log(`${key}: ${value}`);\n",
    "}\n",
    "\n",
    "map.delete('age');\n",
    "console.log(map.size);  // 3"
   ]
  },
  {
   "cell_type": "markdown",
   "id": "weakmap_heading",
   "metadata": {},
   "source": [
    "## 7. WeakMaps"
   ]
  },
  {
   "cell_type": "markdown",
   "id": "weakmap_code_summary",
   "metadata": {},
   "source": [
    "### WeakMap\n",
    "\n",
    "- Explains `WeakMap` where keys must be objects and are garbage-collected when no longer referenced.\n",
    "- Demonstrates `set`, `get`, and `has` methods with object keys.\n",
    "- Highlights that `obj1` being set to `null` allows its associated data in the `WeakMap` to be garbage collected."
   ]
  },
  {
   "cell_type": "code",
   "execution_count": 6,
   "id": "weakmap_code",
   "metadata": {},
   "outputs": [
    {
     "name": "stdout",
     "output_type": "stream",
     "text": [
      "data for obj1\n",
      "true\n"
     ]
    },
    {
     "data": {
      "text/plain": [
       "\u001b[1mnull\u001b[22m"
      ]
     },
     "execution_count": 6,
     "metadata": {},
     "output_type": "execute_result"
    }
   ],
   "source": [
    "// WeakMap - only objects as keys, garbage-collected\n",
    "const weakMap = new WeakMap();\n",
    "let obj1x = { id: 1 };\n",
    "let obj2x = { id: 2 };\n",
    "\n",
    "weakMap.set(obj1x, 'data for obj1');\n",
    "weakMap.set(obj2x, 'data for obj2');\n",
    "\n",
    "console.log(weakMap.get(obj1x));  // \"data for obj1\"\n",
    "console.log(weakMap.has(obj2x));  // true\n",
    "\n",
    "// When obj1 is no longer referenced, it can be GC'd\n",
    "obj1x = null;"
   ]
  },
  {
   "cell_type": "markdown",
   "id": "sets_heading",
   "metadata": {},
   "source": [
    "## 8. Sets"
   ]
  },
  {
   "cell_type": "markdown",
   "id": "set_code_summary",
   "metadata": {},
   "source": [
    "### Set - Collection of Unique Values\n",
    "\n",
    "- Introduces and demonstrates the `Set` object for storing unique values.\n",
    "- Shows methods like `add`, `has`, `size`, `delete`, and iteration.\n",
    "- Demonstrates removing duplicates from an array using `Set`."
   ]
  },
  {
   "cell_type": "code",
   "execution_count": 7,
   "id": "set_code",
   "metadata": {},
   "outputs": [
    {
     "name": "stdout",
     "output_type": "stream",
     "text": [
      "3\n",
      "true\n",
      "1\n",
      "2\n",
      "3\n",
      "[ 1, 2, 3, 4, 5 ]\n",
      "2\n"
     ]
    }
   ],
   "source": [
    "// Set - collection of unique values\n",
    "const set = new Set();\n",
    "\n",
    "set.add(1);\n",
    "set.add(2);\n",
    "set.add(3);\n",
    "set.add(2);  // Duplicate, won't be added\n",
    "\n",
    "console.log(set.size);     // 3\n",
    "console.log(set.has(2));   // true\n",
    "\n",
    "// Iterating over Set\n",
    "for (const value of set) {\n",
    "    console.log(value);\n",
    "}\n",
    "\n",
    "// Remove duplicates from array\n",
    "const numbers = [1, 2, 2, 3, 4, 4, 5];\n",
    "const unique = [...new Set(numbers)];\n",
    "console.log(unique);  // [1, 2, 3, 4, 5]\n",
    "\n",
    "set.delete(2);\n",
    "console.log(set.size);  // 2"
   ]
  },
  {
   "cell_type": "markdown",
   "id": "objects_heading",
   "metadata": {},
   "source": [
    "## 9. Objects and Object Methods"
   ]
  },
  {
   "cell_type": "markdown",
   "id": "obj_create_summary",
   "metadata": {},
   "source": [
    "### Creating Objects\n",
    "\n",
    "- Demonstrates creating JavaScript objects using object literal syntax.\n",
    "- Shows how to access properties using dot notation and bracket notation.\n",
    "- Illustrates defining and calling object methods using `this`."
   ]
  },
  {
   "cell_type": "code",
   "execution_count": 8,
   "id": "obj_create",
   "metadata": {},
   "outputs": [
    {
     "name": "stdout",
     "output_type": "stream",
     "text": [
      "John\n",
      "30\n",
      "Hello, I'm John\n"
     ]
    }
   ],
   "source": [
    "// Creating objects\n",
    "const person = {\n",
    "    name: \"John\",\n",
    "    age: 30,\n",
    "    city: \"New York\",\n",
    "    greet: function() {\n",
    "        return `Hello, I'm ${this.name}`;\n",
    "    }\n",
    "};\n",
    "\n",
    "console.log(person.name);      // \"John\"\n",
    "console.log(person['age']);    // 30\n",
    "console.log(person.greet());   // \"Hello, I'm John\""
   ]
  },
  {
   "cell_type": "markdown",
   "id": "obj_methods_summary",
   "metadata": {},
   "source": [
    "### Object Methods\n",
    "\n",
    "- Demonstrates built-in `Object` methods: `keys`, `values`, `entries`, `assign`, `freeze`, and `seal`.\n",
    "- Explains their purpose: getting keys/values/entries, copying properties, and controlling mutability.\n",
    "- The output shows the results of these object manipulation methods."
   ]
  },
  {
   "cell_type": "code",
   "execution_count": 9,
   "id": "obj_methods",
   "metadata": {},
   "outputs": [
    {
     "name": "stdout",
     "output_type": "stream",
     "text": [
      "[ \"a\", \"b\", \"c\" ]\n",
      "[ 1, 2, 3 ]\n",
      "[ [ \"a\", 1 ], [ \"b\", 2 ], [ \"c\", 3 ] ]\n",
      "{ x: 1, y: 2, z: 3 }\n",
      "42\n",
      "100\n"
     ]
    }
   ],
   "source": [
    "// Object methods\n",
    "const obj = { a: 1, b: 2, c: 3 };\n",
    "\n",
    "console.log(Object.keys(obj));     // [\"a\", \"b\", \"c\"]\n",
    "console.log(Object.values(obj));   // [1, 2, 3]\n",
    "console.log(Object.entries(obj));  // [[\"a\", 1], [\"b\", 2], [\"c\", 3]]\n",
    "\n",
    "// Object.assign() - copy properties\n",
    "const target = { x: 1 };\n",
    "const source = { y: 2, z: 3 };\n",
    "const result = Object.assign(target, source);\n",
    "console.log(result);  // { x: 1, y: 2, z: 3 }\n",
    "\n",
    "// Object.freeze() - make immutable\n",
    "const frozen = Object.freeze({ val: 42 });\n",
    "// frozen.val = 100;  // Won't work\n",
    "console.log(frozen.val);  // 42\n",
    "\n",
    "// Object.seal() - prevent add/remove properties\n",
    "const sealed = Object.seal({ val: 42 });\n",
    "sealed.val = 100;  // Can modify existing\n",
    "console.log(sealed.val);  // 100"
   ]
  },
  {
   "cell_type": "markdown",
   "id": "shorthand_heading",
   "metadata": {},
   "source": [
    "## 10. Property and Method Shorthand"
   ]
  },
  {
   "cell_type": "markdown",
   "id": "shorthand_code_summary",
   "metadata": {},
   "source": [
    "### Property and Method Shorthand\n",
    "\n",
    "- Explains and demonstrates property shorthand for creating objects when variable names match property names.\n",
    "- Explains and demonstrates method shorthand for defining methods within object literals.\n",
    "- The output shows the resulting object with shorthand properties and the result of calling a shorthand method."
   ]
  },
  {
   "cell_type": "code",
   "execution_count": null,
   "id": "shorthand_code",
   "metadata": {},
   "outputs": [
    {
     "name": "stdout",
     "output_type": "stream",
     "text": [
      "{ name: \"Alice\", age: 25 }\n",
      "5\n"
     ]
    }
   ],
   "source": [
    "// Property shorthand\n",
    "const name = \"Alice\";\n",
    "const age = 25;\n",
    "const person = { name, age };  // Same as { name: name, age: age }\n",
    "console.log(person);\n",
    "\n",
    "// Method shorthand\n",
    "const calc = {\n",
    "    add(a, b) {  // Instead of: add: function(a, b)\n",
    "        return a + b;\n",
    "    },\n",
    "    multiply(a, b) {\n",
    "        return a * b;\n",
    "    }\n",
    "};\n",
    "console.log(calc.add(2, 3));  // 5"
   ]
  }
 ],
 "metadata": {
  "kernelspec": {
   "display_name": "Deno",
   "language": "typescript",
   "name": "deno"
  },
  "language_info": {
   "codemirror_mode": "typescript",
   "file_extension": ".ts",
   "mimetype": "text/x.typescript",
   "name": "typescript",
   "nbconvert_exporter": "script",
   "pygments_lexer": "typescript",
   "version": "5.8.3"
  }
 },
 "nbformat": 4,
 "nbformat_minor": 5
}
