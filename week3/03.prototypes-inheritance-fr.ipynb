{
 "cells": [
  {
   "cell_type": "markdown",
   "metadata": {},
   "source": [
    "## Qu'est-ce que les Prototypes?\n",
    "\n",
    "En JavaScript, chaque objet a un lien caché vers un autre objet appelé son **prototype**. Lorsque vous essayez d'accéder à une propriété sur un objet, JavaScript cherche d'abord dans l'objet lui-même. S'il ne la trouve pas, il cherche dans le prototype de l'objet, puis dans le prototype du prototype, et ainsi de suite - formant une **chaîne de prototypes**.\n",
    "\n",
    "Pensez-y comme à l'héritage dans un arbre généalogique: si vous n'avez pas quelque chose, vous pouvez l'emprunter à votre parent, et s'il ne l'a pas, à son parent, etc.\n",
    "\n",
    "Nous pouvons explorer cela avec ```Object.getPrototypeOf(obj)```"
   ]
  },
  {
   "cell_type": "code",
   "execution_count": null,
   "metadata": {},
   "outputs": [],
   "source": [
    "// Всеки обект има прототип\n",
    "let obj = { a: 1 };\n",
    "console.log(Object.getPrototypeOf(obj));  // Object.prototype\n",
    "\n",
    "// Масивите имат Array.prototype\n",
    "let arrr = [1, 2, 3];\n",
    "console.log(Object.getPrototypeOf(arrr));  // Array.prototype\n",
    "\n",
    "// Функциите имат Function.prototype\n",
    "function fn() {}\n",
    "console.log(Object.getPrototypeOf(fn));   // Function.prototype"
   ]
  },
  {
   "cell_type": "markdown",
   "metadata": {},
   "source": [
    "# Les Prototypes et l'Héritage en JavaScript\n",
    "\n",
    "Comprendre le modèle d'héritage basé sur les prototypes de JavaScript."
   ]
  },
  {
   "cell_type": "markdown",
   "metadata": {},
   "source": [
    "## 1. Exemples d'Object.create()\n",
    "\n",
    "Avant de plonger dans les prototypes, explorons `Object.create()` et la manipulation des prototypes - des concepts fondamentaux pour comprendre le modèle d'héritage de JavaScript."
   ]
  },
  {
   "cell_type": "markdown",
   "metadata": {},
   "source": [
    "### Manipulation Basique des Prototypes\n",
    "\n",
    "**Note:** Dans Deno (que ce notebook utilise), l'assignation directe à `__proto__` ne fonctionne pas comme prévu. La bonne façon de définir le prototype d'un objet est d'utiliser `Object.setPrototypeOf()`, qui fonctionne de manière cohérente dans Node.js et Deno."
   ]
  },
  {
   "cell_type": "code",
   "execution_count": null,
   "metadata": {},
   "outputs": [],
   "source": [
    "let obj = { cook: \"Baba\", meal: \"Salad\" };\n",
    "let othObj = { value: 10 };\n",
    "\n",
    "// Начин за определяне на прототип (работи в Node.js и Deno)\n",
    "Object.setPrototypeOf(othObj, obj);\n",
    "\n",
    "console.log(othObj.value);  // 10 (собствено свойство)\n",
    "console.log(othObj.cook);   // \"Baba\" (наследено от obj)\n",
    "console.log(othObj.meal);   // \"Salad\" (наследено от obj)\n",
    "\n",
    "// Забележка: В Node.js, othObj.__proto__ = obj също работи, но е остаряло\n",
    "// и не работи в строг режим на Deno"
   ]
  },
  {
   "cell_type": "markdown",
   "metadata": {},
   "source": [
    "### Разширяване на Вградени Прототипи (Използвайте с Осторожност!)"
   ]
  },
  {
   "cell_type": "code",
   "execution_count": null,
   "metadata": {},
   "outputs": [],
   "source": [
    "// Добавяне на метод към Array.prototype\n",
    "Array.prototype.oddCnt = function () {\n",
    "    return this.filter( el => el % 2).length;\n",
    "};\n",
    "\n",
    "console.log([].oddCnt.call([1, 2, 3, 5, 6, 7]));  // 4 (четири нечетни числа)"
   ]
  },
  {
   "cell_type": "markdown",
   "metadata": {},
   "source": [
    "### Object.create() avec les Descripteurs de Propriété"
   ]
  },
  {
   "cell_type": "code",
   "execution_count": null,
   "metadata": {},
   "outputs": [],
   "source": [
    "let grandp = {\n",
    "    name: \"Baba\",\n",
    "    age: 105,\n",
    "};\n",
    "\n",
    "// Créez un objet avec grandp comme prototype et définissez les propriétés\n",
    "const parent = Object.create(grandp, {\n",
    "    name: {\n",
    "        writable: true,\n",
    "        configurable: true,\n",
    "        value: \"Kitty\",\n",
    "    },\n",
    "});\n",
    "\n",
    "console.log(parent.name);  // \"Kitty\" (propriété propre)\n",
    "console.log(parent.age);   // 105 (hérité de la grand-mère)"
   ]
  },
  {
   "cell_type": "markdown",
   "metadata": {},
   "source": [
    "### Object.create() avec les Propriétés de Données et d'Accesseur"
   ]
  },
  {
   "cell_type": "code",
   "execution_count": null,
   "metadata": {},
   "outputs": [],
   "source": [
    "let o = Object.create(Object.prototype, {\n",
    "    \n",
    "    foo: {      // foo е обикновено свойство на данни\n",
    "        writable: true,\n",
    "        configurable: true,\n",
    "        value: \"hello\",\n",
    "    },\n",
    "\n",
    "    bar: {      // bar е свойство за достъп\n",
    "        configurable: false,\n",
    "        get() { // <<------  има getter\n",
    "            return 10;\n",
    "        },\n",
    "        set(value) { // ...  и setter\n",
    "            console.log(\"Setting `o.bar` to\", value);\n",
    "        },\n",
    "    },\n",
    "});\n",
    "\n",
    "console.log(o.foo);  // \"hello\"\n",
    "console.log(o.bar);  // 10\n",
    "o.bar = 42;          // \"Setting `o.bar` to 42\""
   ]
  },
  {
   "cell_type": "markdown",
   "metadata": {},
   "source": [
    "### Inspection et Modification des Descripteurs de Propriété\n",
    "\n",
    "JavaScript fournit des méthodes pour inspecter et modifier les caractéristiques des propriétés (descripteurs) des objets."
   ]
  },
  {
   "cell_type": "code",
   "execution_count": null,
   "metadata": {},
   "outputs": [],
   "source": [
    "// Object.getOwnPropertyDescriptors() - voir TOUS les descripteurs de propriété\n",
    "let objX = { x: 10, y: 20, z: 33, value: \"yes\" };\n",
    "objX.arr = [1, 23];\n",
    "\n",
    "console.log(\"Всички дескриптори:\");\n",
    "console.log(Object.getOwnPropertyDescriptors(objX));\n",
    "// {\n",
    "//   x: { value: 10, writable: true, enumerable: true, configurable: true },\n",
    "//   y: { value: 20, writable: true, enumerable: true, configurable: true },\n",
    "//   z: { value: 33, writable: true, enumerable: true, configurable: true },\n",
    "//   value: { value: \"yes\", writable: true, enumerable: true, configurable: true },\n",
    "//   arr: { value: [ 1, 23 ], writable: true, enumerable: true, configurable: true }\n",
    "// }"
   ]
  },
  {
   "cell_type": "code",
   "execution_count": null,
   "metadata": {},
   "outputs": [],
   "source": [
    "// Object.getOwnPropertyDescriptor() - получава дескриптор за ЕДНО свойство\n",
    "console.log(\"Дескриптор за 'z':\");\n",
    "console.log(Object.getOwnPropertyDescriptor(objX, \"z\"));\n",
    "// { value: 33, writable: true, enumerable: true, configurable: true }"
   ]
  },
  {
   "cell_type": "code",
   "execution_count": null,
   "metadata": {},
   "outputs": [],
   "source": [
    "// Object.getOwnPropertyNames() - връща ВСИЧКИ собствени свойства (включително неперечислими)\n",
    "console.log(\"Всички имена на свойства:\", Object.getOwnPropertyNames(objX));\n",
    "// [ \"x\", \"y\", \"z\", \"value\", \"arr\" ]"
   ]
  },
  {
   "cell_type": "code",
   "execution_count": null,
   "metadata": {},
   "outputs": [],
   "source": [
    "// Object.defineProperty() - модифицира дескриптор на свойство\n",
    "\n",
    "// Направи свойството 'z' неперечислимо (скрито от for...in цикли)\n",
    "Object.defineProperty(objX, \"z\", { enumerable: false, value: objX.z });\n",
    "\n",
    "console.log(\"След направяне на 'z' неперечислимо:\");\n",
    "console.log(objX);  // z е скрит от нормално изписване\n",
    "// { x: 10, y: 20, value: \"yes\", arr: [ 1, 23 ] }\n",
    "\n",
    "console.log(\"Но 'z' все още съществува:\");\n",
    "console.log(objX.z);  // 33"
   ]
  },
  {
   "cell_type": "code",
   "execution_count": null,
   "metadata": {},
   "outputs": [],
   "source": [
    "// Направи свойството само за четене (неписуемо)\n",
    "Object.defineProperty(objX, \"x\", { writable: false, value: objX.x });\n",
    "\n",
    "console.log(\"След направяне на 'x' само за четене:\");\n",
    "\n",
    "try {\n",
    "  objX.x = 499;  // хвърля грешка в строг режим\n",
    "} catch (e) {\n",
    "  console.log(\"Грешка:\", e.message);\n",
    "  // Грешка: Cannot assign to read only property 'x' of object\n",
    "}"
   ]
  },
  {
   "cell_type": "markdown",
   "metadata": {},
   "source": [
    "### Функция Конструктор която Работи със или без 'new'"
   ]
  },
  {
   "cell_type": "code",
   "execution_count": null,
   "metadata": {},
   "outputs": [],
   "source": [
    "function Cons() { // Тази функция поддържа конструирането както\n",
    "    let self;     // с new контекст, така и без, макар че не се препоръчва\n",
    "\n",
    "    if (this === global || this === undefined) {\n",
    "        self = Object.create(Cons.prototype);\n",
    "    } else {\n",
    "        self = this;\n",
    "    }\n",
    "\n",
    "    self.baba = 10;\n",
    "    return self;\n",
    "}\n",
    "\n",
    "let obj1 = new Cons();\n",
    "let obj2 = Cons();\n",
    "\n",
    "console.log(obj1.baba);  // 10\n",
    "console.log(obj2.baba);  // 10\n",
    "console.log(obj1 instanceof Cons);  // true\n",
    "console.log(obj2 instanceof Cons);  // true"
   ]
  },
  {
   "cell_type": "markdown",
   "metadata": {},
   "source": [
    "### Modèle d'Héritage utilisant Object.create()"
   ]
  },
  {
   "cell_type": "code",
   "execution_count": null,
   "metadata": {},
   "outputs": [],
   "source": [
    "function BaseClass() {\n",
    "    return this;\n",
    "}\n",
    "\n",
    "BaseClass.prototype.val = 10;\n",
    "\n",
    "function InheriClass() {\n",
    "    return this;\n",
    "}\n",
    "\n",
    "// Установи наследяване с помощта на Object.create()\n",
    "// Това позволява на верижката от прототипи да се следи\n",
    "// където това по същество казва нещо като\n",
    "// InheriClass.prototype = { __proto__ : BaseClass.prototype }\n",
    "InheriClass.prototype = Object.create(BaseClass.prototype);\n",
    "\n",
    "let v = new InheriClass();\n",
    "console.log(v.val);  // 10 (наследено от BaseClass)"
   ]
  },
  {
   "cell_type": "markdown",
   "metadata": {},
   "source": [
    "## 2. La Chaîne de Prototypes (ELI5)\n",
    "\n",
    "Imaginez que vous cherchez un jouet:\n",
    "\n",
    "1. D'abord, vous vérifiez votre propre boîte à jouets\n",
    "\n",
    "2. Si ce n'est pas là, vous demandez à votre frère aîné\n",
    "\n",
    "3. S'ils ne l'ont pas, ils demandent à vos parents\n",
    "\n",
    "4. Si les parents ne l'ont pas, ils demandent aux grands-parents\n",
    "\n",
    "5. Finalement, vous atteignez la fin (null)\n",
    "\n",
    "C'est exactement comment fonctionne la chaîne de prototypes de JavaScript!"
   ]
  },
  {
   "cell_type": "code",
   "execution_count": null,
   "metadata": {},
   "outputs": [],
   "source": [
    "let grandparent = { surname: \"Smith\" };\n",
    "let myparent = Object.create(grandparent);\n",
    "myparent.job = \"Engineer\";\n",
    "let child = Object.create(myparent);\n",
    "child.name = \"Alice\";\n",
    "\n",
    "console.log(child.name);     // \"Alice\" (собствено свойство)\n",
    "console.log(child.job);      // \"Engineer\" (от myparent)\n",
    "console.log(child.surname);  // \"Smith\" (от grandparent)\n",
    "\n",
    "// Верижката: child -> parent -> grandparent -> Object.prototype -> null"
   ]
  },
  {
   "cell_type": "markdown",
   "metadata": {},
   "source": [
    "## 3. Fonctions Constructeurs et Prototypes"
   ]
  },
  {
   "cell_type": "code",
   "execution_count": null,
   "metadata": {},
   "outputs": [],
   "source": [
    "function Person(name, age) {\n",
    "    this.name = name;\n",
    "    this.age = age;\n",
    "}\n",
    "\n",
    "// Добави методи към прототип (споделени от всички екземпляри)\n",
    "Person.prototype.greet = function() {\n",
    "    return `Hi, I'm ${this.name}`;\n",
    "};\n",
    "\n",
    "const alice = new Person(\"Lisa\", 25);\n",
    "const bob = new Person(\"Zugg\", 30);\n",
    "\n",
    "console.log(alice.greet());     // \"Hi, I'm Lisa\"\n",
    "console.log(bob.greet());       // \"Hi, I'm Zugg\"\n",
    "\n",
    "// И двамата споделят един и същи метод greet\n",
    "console.log(alice.greet === bob.greet);  // true"
   ]
  },
  {
   "cell_type": "markdown",
   "metadata": {},
   "source": [
    "## 4. Comprendre `__proto__` vs `prototype`\n",
    "\n",
    "- `prototype`: Propriété sur les fonctions constructeurs, définit ce que les instances hériteront\n",
    "\n",
    "- `__proto__`: Propriété sur les objets, pointe vers l'objet prototype réel\n",
    "\n",
    "Pensez-y de cette façon:\n",
    "\n",
    "- `prototype` est le plan\n",
    "\n",
    "- `__proto__` est la connexion réelle"
   ]
  },
  {
   "cell_type": "code",
   "execution_count": null,
   "metadata": {},
   "outputs": [],
   "source": [
    "function Dog(name) {\n",
    "    this.name = name;\n",
    "}\n",
    "\n",
    "Dog.prototype.bark = function() {\n",
    "    return \"Woof!\";\n",
    "};\n",
    "\n",
    "const rex = new Dog(\"Rex\");\n",
    "\n",
    "console.log(Dog.prototype);     // Dog.prototype е планът\n",
    "\n",
    "// rex.__proto__ по същество сочи към Dog.prototype\n",
    "// но може да бъде достъпен директно само в NodeJS\n",
    "// където в Deno има ограничение да го докоснем\n",
    "\n",
    "console.log(Object.getPrototypeOf(rex) === Dog.prototype);  // true\n",
    "\n",
    "// rex може да използва bark поради верижката от прототипи\n",
    "console.log(rex.bark());  // \"Woof!\""
   ]
  },
  {
   "cell_type": "markdown",
   "metadata": {},
   "source": [
    "## 5. Object.create() et Manipulation des Prototypes"
   ]
  },
  {
   "cell_type": "code",
   "execution_count": null,
   "metadata": {},
   "outputs": [],
   "source": [
    "// Object.create() създава обект със специфичен прототип\n",
    "const animal = {\n",
    "    eat:   function() {    return \"Eating...\";    }\n",
    "};\n",
    "\n",
    "const dog = Object.create(animal);\n",
    "dog.bark = function() {    return \"Woof!\";        };\n",
    "\n",
    "console.log(dog.bark());  // \"Woof!\" (собствен метод)\n",
    "console.log(dog.eat());   // \"Eating...\" (от прототип)\n",
    "\n",
    "console.log(Object.getPrototypeOf(dog) === animal);  // true"
   ]
  },
  {
   "cell_type": "markdown",
   "metadata": {},
   "source": [
    "## 6. Modèles d'Héritage"
   ]
  },
  {
   "cell_type": "code",
   "execution_count": null,
   "metadata": {},
   "outputs": [],
   "source": [
    "// Функция родител\n",
    "function Animal(name) {\n",
    "    this.name = name;\n",
    "}\n",
    "\n",
    "Animal.prototype.eat = function() {\n",
    "    return this.name + ' is eating';\n",
    "};\n",
    "\n",
    "function Dog(name, breed) {   // Функция дете\n",
    "    Animal.call(this, name);  // Извикай родителския конструктор\n",
    "    this.breed = breed;       // но използвай контекста на Dog (this)\n",
    "}\n",
    "\n",
    "if ( false ) {   \n",
    "    // някои източници правят наследяване по този начин\n",
    "    // но никога не поправят конструктора, който ще\n",
    "    // сочи към функцията Animal, ако го оставим както е\n",
    "    Dog.prototype = Object.create(Animal.prototype);\n",
    "\n",
    "    // така че също трябва да поправим препратката на конструктора, тъй като\n",
    "    // новосъздаденият прототип обект няма свойство constructor\n",
    "    // и ще се разреши към свойството Animal.constructor\n",
    "    Dog.prototype.constructor = Dog; \n",
    "} else {\n",
    "    // алтернативно, можем просто да кажем, което е също по-ясно\n",
    "    Object.setPrototypeOf(Dog.prototype, Animal.prototype);\n",
    "}\n",
    "\n",
    "Dog.prototype.bark = function() {\n",
    "    return this.name + ' says Woof!';\n",
    "};\n",
    "\n",
    "const rex = new Dog(\"Rex\", \"German Shepherd\");\n",
    "console.log(rex.eat());   // \"Rex is eating\" (наследено)\n",
    "console.log(rex.bark());  // \"Rex says Woof!\" (собствен метод)\n",
    "console.log(Object.getPrototypeOf(rex).constructor)"
   ]
  },
  {
   "cell_type": "markdown",
   "metadata": {},
   "source": [
    "### Exemple de Chaîne de Prototypes Visuelle\n",
    "\n",
    "```\n",
    "+--------------------+\n",
    "|   rex (instance)   |\n",
    "|--------------------|  \n",
    "|     __proto__      |\n",
    "+--------------------+\n",
    "          |\n",
    "          v\n",
    "+--------------------+\n",
    "|   Dog.prototype    |\n",
    "|--------------------|  \n",
    "|     __proto__      |\n",
    "+--------------------+\n",
    "          |\n",
    "          v\n",
    "+--------------------+\n",
    "|  Animal.prototype  |\n",
    "|--------------------|  \n",
    "|     __proto__      |\n",
    "+--------------------+\n",
    "          |\n",
    "          v\n",
    "+--------------------+\n",
    "|  Object.prototype  |\n",
    "|--------------------|  \n",
    "|     __proto__      |\n",
    "+--------------------+\n",
    "          |\n",
    "          v\n",
    "+--------------------+\n",
    "|        null        |\n",
    "+--------------------+\n",
    "```"
   ]
  },
  {
   "cell_type": "code",
   "execution_count": null,
   "metadata": {},
   "outputs": [],
   "source": [
    "// Проверка на верижката\n",
    "console.log(Object.getPrototypeOf(rex) === Dog.prototype);  // true\n",
    "console.log(Object.getPrototypeOf(Dog.prototype) === Animal.prototype);  // true\n",
    "console.log(Object.getPrototypeOf(Animal.prototype) === Object.prototype);  // true\n",
    "console.log(Object.getPrototypeOf(Object.prototype) === null);  // true"
   ]
  },
  {
   "cell_type": "markdown",
   "metadata": {},
   "source": [
    "### Classes ES6 (Sucre Syntaxique)\n",
    "\n",
    "Les classes ES6 ne sont que du sucre syntaxique pour les prototypes - elles fonctionnent de la même manière!"
   ]
  },
  {
   "cell_type": "code",
   "execution_count": null,
   "metadata": {},
   "outputs": [],
   "source": [
    "class ModernAnimal {\n",
    "    constructor(name) {\n",
    "        this.name = name;\n",
    "    }\n",
    "    \n",
    "    eat() {\n",
    "        return `${this.name} is eating light`;\n",
    "    }\n",
    "}\n",
    "\n",
    "class FancyDog extends ModernAnimal {\n",
    "    constructor(name, breed) {\n",
    "        super(name);          // Извикай родителския конструктор\n",
    "        this.breed = breed;\n",
    "    }\n",
    "    \n",
    "    bark() {\n",
    "        return this.name + 'says Zap Zap!';\n",
    "    }\n",
    "}\n",
    "\n",
    "const rex = new FancyDog( \"Rex\", \"German Cybernaut\");\n",
    "console.log(rex.eat());       // \"Rex is eating\"\n",
    "console.log(rex.bark());      // \"Rex says Woof!\"\n",
    "\n",
    "// Все още използва прототипи под капака\n",
    "console.log(Object.getPrototypeOf(rex) === FancyDog.prototype);  // true\n",
    "console.log(rex.constructor, Object.getPrototypeOf(rex).constructor);"
   ]
  },
  {
   "cell_type": "markdown",
   "metadata": {},
   "source": [
    "###  Mixins\n",
    "\n",
    "Les mixins sont un moyen d'ajouter des fonctionnalités aux objets ou aux classes sans utiliser l'héritage. Un mixin est un objet qui contient des méthodes à utiliser par d'autres objets. Vous pouvez utiliser `Object.assign()` pour copier les méthodes du mixin au prototype d'une fonction constructeur ou d'une classe."
   ]
  },
  {
   "cell_type": "code",
   "execution_count": null,
   "metadata": {},
   "outputs": [],
   "source": [
    "const flyMixin = {\n",
    "  fly() {\n",
    "    console.log(`${this.name} is flying!`);\n",
    "  }\n",
    "};\n",
    "\n",
    "function Bird(name) {\n",
    "  this.name = name;\n",
    "}\n",
    "\n",
    "Object.assign(Bird.prototype, flyMixin);\n",
    "\n",
    "const eagle = new Bird('Eagle');\n",
    "eagle.fly(); // Eagle is flying!"
   ]
  },
  {
   "cell_type": "markdown",
   "metadata": {},
   "source": [
    "## 7. Résumé\n",
    "\n",
    "- **Les Prototypes** permettent l'héritage d'objets en JavaScript\n",
    "\n",
    "- **La chaîne de prototypes** est la façon dont JavaScript recherche les propriétés\n",
    "\n",
    "- **Les fonctions constructeurs** utilisent `prototype` pour partager des méthodes\n",
    "\n",
    "- **`__proto__`** est le lien réel, **`prototype`** est le plan\n",
    "\n",
    "- **Les classes ES6** ne sont que du sucre syntaxique sur les prototypes\n",
    "\n",
    "- Comprendre les prototypes est essentiel pour maîtriser JavaScript!"
   ]
  },
  {
   "cell_type": "markdown",
   "metadata": {},
   "source": [
    "## 8. Pièges et Bonnes Pratiques\n",
    "\n",
    "Bien que les prototypes soient puissants, il existe certains pièges courants et bonnes pratiques à garder à l'esprit."
   ]
  },
  {
   "cell_type": "markdown",
   "metadata": {},
   "source": [
    "### a) Ne Modifiez Jamais `Object.prototype`\n",
    "\n",
    "La modification de `Object.prototype` est considérée comme une mauvaise pratique car elle affecte tous les objets de votre application. Cela peut entraîner un comportement inattendu et des conflits avec d'autres bibliothèques. C'est souvent appelé \"prototype pollution\"."
   ]
  },
  {
   "cell_type": "code",
   "execution_count": null,
   "metadata": {},
   "outputs": [],
   "source": [
    "// Mauvaise pratique!\n",
    "Object.prototype.foo = 'bar';\n",
    "\n",
    "const myObj = {};\n",
    "console.log(myObj.foo); // 'bar'\n",
    "\n",
    "// Cela peut casser les boucles for...in\n",
    "for (const key in myObj) {\n",
    "    console.log(key); // 'foo'\n",
    "}"
   ]
  },
  {
   "cell_type": "markdown",
   "metadata": {},
   "source": [
    "### b) Réinitialiser la Propriété `constructor`\n",
    "\n",
    "Lorsque vous définissez manuellement le prototype d'une fonction constructeur, vous écrasez sa propriété `constructor`. Il est important de la réinitialiser pour qu'elle pointe vers la fonction constructeur correcte. Cela garantit que `instanceof` et d'autres mécanismes qui dépendent de la propriété constructor fonctionnent correctement. Ou utilisez `Object.setPrototypeOf` à la place."
   ]
  },
  {
   "cell_type": "code",
   "execution_count": null,
   "metadata": {},
   "outputs": [],
   "source": [
    "function Animal() {}\n",
    "function Dog() {}\n",
    "\n",
    "Dog.prototype = Object.create(Animal.prototype);\n",
    "// Sans la ligne suivante, rex.constructor serait Animal\n",
    "Dog.prototype.constructor = Dog;\n",
    "\n",
    "// ou utilisez\n",
    "Object.setPrototypeOf(Dog.prototype, Animal.prototype);\n",
    "\n",
    "const rex = new Dog();\n",
    "console.log(rex.constructor === Dog); // true"
   ]
  },
  {
   "cell_type": "markdown",
   "metadata": {},
   "source": [
    "## Exercices"
   ]
  },
  {
   "cell_type": "markdown",
   "metadata": {},
   "source": [
    "### Exercice 1: Réparez la Chaîne de Prototypes Cassée\n",
    "\n",
    "Le code suivant a une chaîne de prototypes cassée. Réparez-le afin que `cat.purr()` et `cat.eat()` fonctionnent tous les deux."
   ]
  },
  {
   "cell_type": "code",
   "execution_count": null,
   "metadata": {},
   "outputs": [],
   "source": [
    "function Animal() { }\n",
    "Animal.prototype.munch = function() { console.log('munching...') };\n",
    "\n",
    "function Cat() { }\n",
    "// Réparez la ligne ci-dessous\n",
    "Cat.prototype = new Animal();\n",
    "\n",
    "Cat.prototype.purr = function() { console.log('purrrr') };\n",
    "\n",
    "const cat = new Cat();\n",
    "cat.purr();\n",
    "cat.munch();"
   ]
  },
  {
   "cell_type": "markdown",
   "metadata": {},
   "source": [
    "### Exercice 2: Implémentez un `SuperArray`\n",
    "\n",
    "Créez un constructeur `SuperArray` qui hérite d'`Array`. Ajoutez une méthode au prototype `SuperArray` appelée `last()` qui retourne le dernier élément du tableau."
   ]
  },
  {
   "cell_type": "code",
   "execution_count": null,
   "metadata": {},
   "outputs": [],
   "source": [
    "function SuperArray(...args) {\n",
    "  const arr = new Array(...args);\n",
    "  Object.setPrototypeOf(arr, SuperArray.prototype);\n",
    "  return arr;\n",
    "}\n",
    "\n",
    "SuperArray.prototype = Object.create(Array.prototype);\n",
    "\n",
    "// Ajoutez votre méthode ici\n",
    "\n",
    "const myArr = new SuperArray(1, 2, 3, 4, 5);\n",
    "console.log(myArr.last()); // 5"
   ]
  }
 ],
 "metadata": {
  "kernelspec": {
   "display_name": "Deno",
   "language": "typescript",
   "name": "deno"
  },
  "language_info": {
   "codemirror_mode": "typescript",
   "file_extension": ".ts",
   "mimetype": "text/typescript",
   "name": "typescript",
   "nbconvert_exporter": "script",
   "pygments_lexer": "typescript"
  }
 },
 "nbformat": 4,
 "nbformat_minor": 2
}
