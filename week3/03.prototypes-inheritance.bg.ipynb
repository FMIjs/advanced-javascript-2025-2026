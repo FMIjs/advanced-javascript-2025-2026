{
 "cells": [
  {
   "cell_type": "markdown",
   "id": "header",
   "metadata": {},
   "source": [
    "# Prototypes and Inheritance in JavaScript\n",
    "\n",
    "Разбиране на прототипно-базирания модел на наследяване в JavaScript."
   ]
  },
  {
   "cell_type": "markdown",
   "id": "proto_intro",
   "metadata": {},
   "source": [
    "## 1. What are Prototypes?\n",
    "\n",
    "В JavaScript всеки обект има скрита връзка към друг обект, наречен негов **прототип**. Когато се опитате да получите достъп до свойство на обект, JavaScript първо търси в самия обект. Ако не го намери, търси в прототипа на обекта, след това в прототипа на прототипа и така нататък - образувайки **прототипна верига**.\n",
    "\n",
    "Мислете за това като за наследяване в родословно дърво: ако нямате нещо, можете да го заемете от родителя си, а ако той го няма, от неговия родител и т.н."
   ]
  },
  {
   "cell_type": "code",
   "execution_count": null,
   "id": "proto_basic",
   "metadata": {},
   "outputs": [],
   "source": [
    "// Every object has a prototype\n",
    "const obj = { a: 1 };\n",
    "console.log(Object.getPrototypeOf(obj));  // Object.prototype\n",
    "\n",
    "// Arrays have Array.prototype\n",
    "const arr = [1, 2, 3];\n",
    "console.log(Object.getPrototypeOf(arr));  // Array.prototype\n",
    "\n",
    "// Functions have Function.prototype\n",
    "function fn() {}\n",
    "console.log(Object.getPrototypeOf(fn));   // Function.prototype"
   ]
  },
  {
   "cell_type": "markdown",
   "id": "proto_chain",
   "metadata": {},
   "source": [
    "## 2. The Prototype Chain (ELI5)\n",
    "\n",
    "Представете си, че търсите играчка:\n",
    "1. Първо, проверявате в собствената си кутия за играчки\n",
    "2. Ако я няма, питате по-големия си брат/сестра\n",
    "3. Ако и те я нямат, питат родителите ви\n",
    "4. Ако родителите я нямат, питат баба и дядо\n",
    "5. В крайна сметка стигате до края (null)\n",
    "\n",
    "Точно така работи прототипната верига на JavaScript!"
   ]
  },
  {
   "cell_type": "code",
   "execution_count": null,
   "id": "chain_example",
   "metadata": {},
   "outputs": [],
   "source": [
    "const grandparent = { surname: \"Smith\" };\n",
    "const parent = Object.create(grandparent);\n",
    "parent.job = \"Engineer\";\n",
    "const child = Object.create(parent);\n",
    "child.name = \"Alice\";\n",
    "\n",
    "console.log(child.name);     // \"Alice\" (own property)\n",
    "console.log(child.job);      // \"Engineer\" (from parent)\n",
    "console.log(child.surname);  // \"Smith\" (from grandparent)\n",
    "\n",
    "// The chain: child -> parent -> grandparent -> Object.prototype -> null"
   ]
  },
  {
   "cell_type": "markdown",
   "id": "constructor",
   "metadata": {},
   "source": [
    "## 3. Constructor Functions and Prototypes\n",
    "\n",
    "Конструкторните функции се използват за създаване на обекти. Чрез добавяне на методи към `prototype` свойството на конструктора, всички инстанции, създадени от този конструктор, могат да споделят едни и същи методи, спестявайки памет."
   ]
  },
  {
   "cell_type": "code",
   "execution_count": null,
   "id": "constructor_code",
   "metadata": {},
   "outputs": [],
   "source": [
    "function Person(name, age) {\n",
    "    this.name = name;\n",
    "    this.age = age;\n",
    "}\n",
    "\n",
    "// Add methods to prototype (shared by all instances)\n",
    "Person.prototype.greet = function() {\n",
    "    return `Hi, I'm ${this.name}`;\n",
    "};\n",
    "\n",
    "const alice = new Person(\"Alice\", 25);\n",
    "const bob = new Person(\"Bob\", 30);\n",
    "\n",
    "console.log(alice.greet());  // \"Hi, I'm Alice\"\n",
    "console.log(bob.greet());    // \"Hi, I'm Bob\"\n",
    "\n",
    "// Both share the same greet method\n",
    "console.log(alice.greet === bob.greet);  // true"
   ]
  },
  {
   "cell_type": "markdown",
   "id": "proto_vs_proto",
   "metadata": {},
   "source": [
    "## 4. Understanding `__proto__` vs `prototype`\n",
    "\n",
    "- `prototype`: Свойство на конструкторните функции, което определя какво ще наследят инстанциите\n",
    "- `__proto__`: Свойство на обектите, което сочи към действителния прототипен обект\n",
    "\n",
    "Мислете за това по следния начин:\n",
    "- `prototype` е планът\n",
    "- `__proto__` е действителната връзка"
   ]
  },
  {
   "cell_type": "code",
   "execution_count": null,
   "id": "proto_diff",
   "metadata": {},
   "outputs": [],
   "source": [
    "function Dog(name) {\n",
    "    this.name = name;\n",
    "}\n",
    "\n",
    "Dog.prototype.bark = function() {\n",
    "    return \"Woof!\";\n",
    "};\n",
    "\n",
    "const rex = new Dog(\"Rex\");\n",
    "\n",
    "// Dog.prototype is the blueprint\n",
    "console.log(Dog.prototype);\n",
    "\n",
    "// rex.__proto__ points to Dog.prototype\n",
    "console.log(rex.__proto__ === Dog.prototype);  // true\n",
    "\n",
    "// rex can use bark because of the prototype chain\n",
    "console.log(rex.bark());  // \"Woof!\""
   ]
  },
  {
   "cell_type": "markdown",
   "id": "object_create",
   "metadata": {},
   "source": [
    "## 5. Object.create() and Prototype Manipulation\n",
    "\n",
    "Методът `Object.create()` ви позволява да създадете нов обект и изрично да зададете неговия прототип. Това предоставя директен начин за контрол на прототипната верига и установяване на наследяване между обекти."
   ]
  },
  {
   "cell_type": "code",
   "execution_count": null,
   "id": "create_code",
   "metadata": {},
   "outputs": [],
   "source": [
    "// Object.create() creates object with specified prototype\n",
    "const animal = {\n",
    "    eat: function() {\n",
    "        return \"Eating...\";\n",
    "    }\n",
    "};\n",
    "\n",
    "const dog = Object.create(animal);\n",
    "dog.bark = function() {\n",
    "    return \"Woof!\";\n",
    "};\n",
    "\n",
    "console.log(dog.bark());  // \"Woof!\" (own method)\n",
    "console.log(dog.eat());   // \"Eating...\" (from prototype)\n",
    "\n",
    "// Check prototype chain\n",
    "console.log(Object.getPrototypeOf(dog) === animal);  // true"
   ]
  },
  {
   "cell_type": "markdown",
   "id": "inheritance",
   "metadata": {},
   "source": [
    "## 6. Inheritance Patterns\n",
    "\n",
    "Тази секция илюстрира класически модел на наследяване в JavaScript преди ES6 класовете. Той включва извикване на родителския конструктор с `.call()` и задаване на прототипа на детето да бъде обект, създаден от прототипа на родителя, използвайки `Object.create()`, за да се установи прототипната верига."
   ]
  },
  {
   "cell_type": "code",
   "execution_count": null,
   "id": "inherit_code",
   "metadata": {},
   "outputs": [],
   "source": [
    "// Parent constructor\n",
    "function Animal(name) {\n",
    "    this.name = name;\n",
    "}\n",
    "\n",
    "Animal.prototype.eat = function() {\n",
    "    return `${this.name} is eating`;\n",
    "};\n",
    "\n",
    "// Child constructor\n",
    "function Dog(name, breed) {\n",
    "    Animal.call(this, name);  // Call parent constructor\n",
    "    this.breed = breed;\n",
    "}\n",
    "\n",
    "// Set up inheritance\n",
    "Dog.prototype = Object.create(Animal.prototype);\n",
    "Dog.prototype.constructor = Dog;\n",
    "\n",
    "// Add child-specific method\n",
    "Dog.prototype.bark = function() {\n",
    "    return `${this.name} says Woof!`;\n",
    "};\n",
    "\n",
    "const rex = new Dog(\"Rex\", \"German Shepherd\");\n",
    "console.log(rex.eat());   // \"Rex is eating\" (inherited)\n",
    "console.log(rex.bark());  // \"Rex says Woof!\" (own method)"
   ]
  },
  {
   "cell_type": "markdown",
   "id": "es6_classes",
   "metadata": {},
   "source": [
    "## 7. ES6 Classes (Syntactic Sugar)\n",
    "\n",
    "ES6 класовете са просто синтактична захар върху прототипите - те работят по същия начин \"под капака\"!"
   ]
  },
  {
   "cell_type": "code",
   "execution_count": null,
   "id": "class_code",
   "metadata": {},
   "outputs": [],
   "source": [
    "class Animal {\n",
    "    constructor(name) {\n",
    "        this.name = name;\n",
    "    }\n",
    "    \n",
    "    eat() {\n",
    "        return `${this.name} is eating`;\n",
    "    }\n",
    "}\n",
    "\n",
    "class Dog extends Animal {\n",
    "    constructor(name, breed) {\n",
    "        super(name);  // Call parent constructor\n",
    "        this.breed = breed;\n",
    "    }\n",
    "    \n",
    "    bark() {\n",
    "        return `${this.name} says Woof!`;\n",
    "    }\n",
    "}\n",
    "\n",
    "const rex = new Dog(\"Rex\", \"German Shepherd\");\n",
    "console.log(rex.eat());   // \"Rex is eating\"\n",
    "console.log(rex.bark());  // \"Rex says Woof!\"\n",
    "\n",
    "// Still uses prototypes under the hood\n",
    "console.log(rex.__proto__ === Dog.prototype);  // true"
   ]
  },
  {
   "cell_type": "markdown",
   "id": "visual",
   "metadata": {},
   "source": [
    "## 8. Visual Prototype Chain Example\n",
    "\n",
    "```\n",
    "r+--------------------+\n",
    "|   rex (instance)   |\n",
    "|--------------------|\n",
    "|     __proto__      |\n",
    "+--------------------+\n",
    "          |\n",
    "          v\n",
    "+--------------------+\n",
    "|   Dog.prototype    |\n",
    "|--------------------|\n",
    "|     __proto__      |\n",
    "+--------------------+\n",
    "          |\n",
    "          v\n",
    "+--------------------+\n",
    "|  Animal.prototype  |\n",
    "|--------------------|\n",
    "|     __proto__      |\n",
    "+--------------------+\n",
    "          |\n",
    "          v\n",
    "+--------------------+\n",
    "|  Object.prototype  |\n",
    "|--------------------|\n",
    "|     __proto__      |\n",
    "+--------------------+\n",
    "          |\n",
    "          v\n",
    "+--------------------+\n",
    "|        null        |\n",
    "+--------------------+\n",
    "```"
   ]
  },
  {
   "cell_type": "code",
   "execution_count": null,
   "id": "visual_code",
   "metadata": {},
   "outputs": [],
   "source": [
    "// Verify the chain\n",
    "console.log(Object.getPrototypeOf(rex) === Dog.prototype);  // true\n",
    "console.log(Object.getPrototypeOf(Dog.prototype) === Animal.prototype);  // true\n",
    "console.log(Object.getPrototypeOf(Animal.prototype) === Object.prototype);  // true\n",
    "console.log(Object.getPrototypeOf(Object.prototype) === null);  // true"
   ]
  },
  {
   "cell_type": "markdown",
   "id": "summary",
   "metadata": {},
   "source": [
    "## Summary\n",
    "\n",
    "- **Прототипите** позволяват наследяване на обекти в JavaScript\n",
    "- **Прототипната верига** е начинът, по който JavaScript търси свойства\n",
    "- **Конструкторните функции** използват `prototype`, за да споделят методи\n",
    "- **`__proto__`** е действителната връзка, **`prototype`** е планът\n",
    "- **ES6 класовете** са синтактична захар върху прототипите\n",
    "- Разбирането на прототипите е ключово за овладяването на JavaScript!"
   ]
  }
 ],
 "metadata": {
  "kernelspec": {
   "display_name": "Deno",
   "language": "typescript",
   "name": "deno"
  },
  "language_info": {
   "codemirror_mode": {
    "name": "ipython",
    "version": 3
   },
   "file_extension": ".py",
   "mimetype": "text/x-python",
   "name": "typescript",
   "nbconvert_exporter": "python",
   "pygments_lexer": "ipython3",
   "version": "3.8.0"
  }
 },
 "nbformat": 4,
 "nbformat_minor": 5
}
