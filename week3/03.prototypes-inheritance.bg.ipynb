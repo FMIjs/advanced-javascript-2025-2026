{
 "cells": [
  {
   "cell_type": "markdown",
   "metadata": {},
   "source": [
    "## Какво са прототипите?\n",
    "\n",
    "В JavaScript всеки обект е допълнен с неявна препратка към друг обект, наречен негов **прототип**. Когато се опитате да достъпите някое свойство (на обект), виртуалната машина се опитва да го открие в самия обект. Ако не го намери, продължава да търси в прототипа на обекта, след това в прототипа на прототипа (тъй като и прототипа е обект) и така нататък - образувайки **прототипна верига**.\n",
    "\n",
    "Мислете за това като за наследяване в родословно дърво: ако нямате нещо, можете да го заемете от родителя си, а ако той го няма, от неговия родител и т.н.\n",
    "\n",
    "Можем да изследваме това с ```Object.getPrototypeOf(obj)```"
   ]
  },
  {
   "cell_type": "code",
   "execution_count": null,
   "metadata": {},
   "outputs": [],
   "source": [
    "// Всеки обект има прототип\n",
    "\n",
    "let obj = { a: 1 };\n",
    "console.log(Object.getPrototypeOf(obj));  // Object.prototype\n",
    "\n",
    "// Масивите имат Array.prototype\n",
    "let arrr = [1, 2, 3];\n",
    "console.log(Object.getPrototypeOf(arrr));  // Array.prototype\n",
    "\n",
    "// Функциите имат Function.prototype\n",
    "function fn() {}\n",
    "console.log(Object.getPrototypeOf(fn));   // Function.prototype"
   ]
  },
  {
   "cell_type": "markdown",
   "metadata": {},
   "source": [
    "# Наследяване с прототипи\n",
    "\n",
    "Разбиране на прототипно-базирания модел на наследяване в JavaScript."
   ]
  },
  {
   "cell_type": "markdown",
   "metadata": {},
   "source": [
    "## 1. Примери с Object.create()\n",
    "\n",
    "Преди да се потопим в прототипите, нека изследваме `Object.create()` и боравенето с прототипи - фундаментални концепции за разбиране на модела на наследяване в JavaScript."
   ]
  },
  {
   "cell_type": "markdown",
   "metadata": {},
   "source": [
    "### Основни действия при боравене с прототипи\n",
    "\n",
    "**Забележка:** В Deno (който използва този notebook), прякото присвояване към `__proto__` не работи както би се очаквало. Правилният начин да зададете прототипа на обект е с използване на `Object.setPrototypeOf()`, който работи еднозначно както в Node.js, така и в Deno."
   ]
  },
  {
   "cell_type": "code",
   "execution_count": null,
   "metadata": {},
   "outputs": [],
   "source": [
    "let obj = { cook: \"Баба\", meal: \"Салата\" };\n",
    "let othObj = { value: 10 };\n",
    "\n",
    "// Правилен начин за задаване на прототип (работи както в Node.js, така и в Deno)\n",
    "Object.setPrototypeOf(othObj, obj);\n",
    "\n",
    "console.log(othObj.value);  // 10 (собствено свойство)\n",
    "console.log(othObj.cook);   // \"Баба\" (наследено от obj)\n",
    "console.log(othObj.meal);   // \"Салата\" (наследено от obj)\n",
    "\n",
    "// Забележка: В Node.js, othObj.__proto__ = obj също работи, но е остаряло\n",
    "// и не работи в строгия режим на Deno"
   ]
  },
  {
   "cell_type": "markdown",
   "metadata": {},
   "source": [
    "### Допълване на вградени прототипи (Използвайте с внимание!)"
   ]
  },
  {
   "cell_type": "code",
   "execution_count": null,
   "metadata": {},
   "outputs": [],
   "source": [
    "// Добавяне на метод към Array.prototype\n",
    "Array.prototype.oddCnt = function () {\n",
    "    return this.filter( el => el % 2).length;\n",
    "};\n",
    "\n",
    "console.log([].oddCnt.call([1, 2, 3, 5, 6, 7]));  // 4 (четири нечетни числа)"
   ]
  },
  {
   "cell_type": "markdown",
   "metadata": {},
   "source": [
    "### Object.create() и мета-описание на свойствата"
   ]
  },
  {
   "cell_type": "code",
   "execution_count": 1,
   "metadata": {},
   "outputs": [
    {
     "name": "stdout",
     "output_type": "stream",
     "text": [
      "Котка\n",
      "105\n"
     ]
    }
   ],
   "source": [
    "let grandp = {\n",
    "    name: \"Баба\",\n",
    "    age: 105,\n",
    "};\n",
    "\n",
    "// Създаване на обект с grandp като прототип и дефиниране на свойства\n",
    "const parent = Object.create(grandp, {\n",
    "    name: {\n",
    "        writable: true,\n",
    "        configurable: true,\n",
    "        value: \"Котка\",\n",
    "    },\n",
    "});\n",
    "\n",
    "console.log(parent.name);  // \"Котка\" (собствено свойство)\n",
    "console.log(parent.age);   // 105 (наследено от дядото)"
   ]
  },
  {
   "cell_type": "markdown",
   "metadata": {},
   "source": [
    "### Object.create() с Data и свойства с контролиран достъп (getters/setters)"
   ]
  },
  {
   "cell_type": "code",
   "execution_count": null,
   "metadata": {},
   "outputs": [],
   "source": [
    "let o = Object.create(Object.prototype, {\n",
    "    \n",
    "    foo: {      // foo е обикновено data свойство\n",
    "        writable: true,\n",
    "        configurable: true,\n",
    "        value: \"здравей\",\n",
    "    },\n",
    "\n",
    "    bar: {      // bar е accessor свойство\n",
    "        configurable: false,\n",
    "        get() { // <<------  има getter\n",
    "            return 10;\n",
    "        },\n",
    "        set(value) { // ...  и setter\n",
    "            console.log(\"Задаване на `o.bar` на\", value);\n",
    "        },\n",
    "    },\n",
    "});\n",
    "\n",
    "console.log(o.foo);  // \"здравей\"\n",
    "console.log(o.bar);  // 10\n",
    "o.bar = 42;          // \"Задаване на `o.bar` на 42\""
   ]
  },
  {
   "cell_type": "markdown",
   "metadata": {},
   "source": [
    "### Преглед и промяна на поведението на собствените свойства на обекта\n",
    "\n",
    "JavaScript предоставя вградени методи за преглед и промяна на поведението на свойствата (атрибутите) на обектите."
   ]
  },
  {
   "cell_type": "code",
   "execution_count": null,
   "metadata": {},
   "outputs": [],
   "source": [
    "// Object.getOwnPropertyDescriptors() - виж ВСИЧКИ property descriptors\n",
    "let objX = { x: 10, y: 20, z: 33, value: \"да\" };\n",
    "objX.arr = [1, 23];\n",
    "\n",
    "console.log(\"Всички дескриптори:\");\n",
    "console.log(Object.getOwnPropertyDescriptors(objX));\n",
    "// {\n",
    "//   x: { value: 10, writable: true, enumerable: true, configurable: true },\n",
    "//   y: { value: 20, writable: true, enumerable: true, configurable: true },\n",
    "//   z: { value: 33, writable: true, enumerable: true, configurable: true },\n",
    "//   value: { value: \"да\", writable: true, enumerable: true, configurable: true },\n",
    "//   arr: { value: [ 1, 23 ], writable: true, enumerable: true, configurable: true }\n",
    "// }"
   ]
  },
  {
   "cell_type": "code",
   "execution_count": null,
   "metadata": {},
   "outputs": [],
   "source": [
    "// Object.getOwnPropertyDescriptor() - взима мет-описанието за ЕДНО свойство\n",
    "console.log(\"Дескриптор за 'z':\");\n",
    "console.log(Object.getOwnPropertyDescriptor(objX, \"z\"));\n",
    "// { value: 33, writable: true, enumerable: true, configurable: true }"
   ]
  },
  {
   "cell_type": "code",
   "execution_count": null,
   "metadata": {},
   "outputs": [],
   "source": [
    "// Object.getOwnPropertyNames() - връща ВСИЧКИ собствени свойства (включително неизброими)\n",
    "console.log(\"Всички имена на свойства:\", Object.getOwnPropertyNames(objX));\n",
    "// [ \"x\", \"y\", \"z\", \"value\", \"arr\" ]"
   ]
  },
  {
   "cell_type": "code",
   "execution_count": null,
   "metadata": {},
   "outputs": [],
   "source": [
    "// Object.defineProperty() - модифицирай property descriptor\n",
    "// Правене на свойство 'z' неизброимо (скрито от for...in цикли)\n",
    "Object.defineProperty(objX, \"z\", { enumerable: false, value: objX.z });\n",
    "\n",
    "console.log(\"След като направихме 'z' неизброимо:\");\n",
    "console.log(objX);  // z е скрито от нормалното изброяване\n",
    "// { x: 10, y: 20, value: \"да\", arr: [ 1, 23 ] }\n",
    "\n",
    "console.log(\"Но 'z' все още съществува:\");\n",
    "console.log(objX.z);  // 33"
   ]
  },
  {
   "cell_type": "code",
   "execution_count": null,
   "metadata": {},
   "outputs": [],
   "source": [
    "// Правене на свойство само за четене (незаписваемо)\n",
    "Object.defineProperty(objX, \"x\", { writable: false, value: objX.x });\n",
    "\n",
    "console.log(\"След като направихме 'x' само за четене:\");\n",
    "try {\n",
    "  objX.x = 499;  // хвърля грешка в строг режим\n",
    "} catch (e) {\n",
    "  console.log(\"Грешка:\", e.message);\n",
    "  // Грешка: Cannot assign to read only property 'x' of object\n",
    "}"
   ]
  },
  {
   "cell_type": "markdown",
   "metadata": {},
   "source": [
    "### Конструкторна функция, която работи със или без 'new'"
   ]
  },
  {
   "cell_type": "code",
   "execution_count": null,
   "metadata": {},
   "outputs": [],
   "source": [
    "function Cons() { // Тази функция поддържа конструиране както \n",
    "    let self;     // с нов контекст, така и без, макар и не препоръчително\n",
    "\n",
    "    if (this === global || this === undefined) {\n",
    "        self = Object.create(Cons.prototype);\n",
    "    } else {\n",
    "        self = this;\n",
    "    }\n",
    "\n",
    "    self.baba = 10;\n",
    "    return self;\n",
    "}\n",
    "\n",
    "let obj1 = new Cons();\n",
    "let obj2 = Cons();\n",
    "\n",
    "console.log(obj1.baba);  // 10\n",
    "console.log(obj2.baba);  // 10\n",
    "console.log(obj1 instanceof Cons);  // true\n",
    "console.log(obj2 instanceof Cons);  // true"
   ]
  },
  {
   "cell_type": "markdown",
   "metadata": {},
   "source": [
    "### Модел на наследяване използвайки Object.create()"
   ]
  },
  {
   "cell_type": "code",
   "execution_count": null,
   "metadata": {},
   "outputs": [],
   "source": [
    "function BaseClass() {\n",
    "    return this;\n",
    "}\n",
    "\n",
    "BaseClass.prototype.val = 10;\n",
    "\n",
    "function InheriClass() {\n",
    "    return this;\n",
    "}\n",
    "\n",
    "// Настройване на наследяване използвайки Object.create()\n",
    "// Това позволява да се следва прототипната верига\n",
    "// където това основно казва нещо като\n",
    "// InheriClass.prototype = { __proto__ : BaseClass.prototype }\n",
    "InheriClass.prototype = Object.create(BaseClass.prototype);\n",
    "\n",
    "let v = new InheriClass();\n",
    "console.log(v.val);  // 10 (наследено от BaseClass)"
   ]
  },
  {
   "cell_type": "markdown",
   "metadata": {},
   "source": [
    "## 2. Прототипната верига (обяснено просто)\n",
    "\n",
    "Представете си, че търсите играчка:\n",
    "1. Първо, проверявате в собствената си кутия за играчки\n",
    "2. Ако я няма там, питате по-големия си брат/сестра\n",
    "3. Ако те нямат, те питат родителите ви\n",
    "4. Ако родителите нямат, те питат баба и дядо\n",
    "5. В крайна сметка стигате до края (null)\n",
    "\n",
    "Точно така работи прототипната верига на JavaScript!"
   ]
  },
  {
   "cell_type": "code",
   "execution_count": null,
   "metadata": {},
   "outputs": [],
   "source": [
    "let grandparent = { surname: \"Смит\" };\n",
    "let myparent = Object.create(grandparent);\n",
    "myparent.job = \"Инженер\";\n",
    "let child = Object.create(myparent);\n",
    "child.name = \"Алиса\";\n",
    "\n",
    "console.log(child.name);     // \"Алиса\" (собствено свойство)\n",
    "console.log(child.job);      // \"Инженер\" (от myparent)\n",
    "console.log(child.surname);  // \"Смит\" (от grandparent)\n",
    "\n",
    "// Веригата: child -> parent -> grandparent -> Object.prototype -> null"
   ]
  },
  {
   "cell_type": "markdown",
   "metadata": {},
   "source": [
    "## 3. Конструкторни функции и прототипи"
   ]
  },
  {
   "cell_type": "code",
   "execution_count": null,
   "metadata": {},
   "outputs": [],
   "source": [
    "function Person(name, age) {\n",
    "    this.name = name;\n",
    "    this.age = age;\n",
    "}\n",
    "\n",
    "// Добавяне на методи към прототипа (споделени от всички инстанции)\n",
    "Person.prototype.greet = function() {\n",
    "    return `Здравей, аз съм ${this.name}`;\n",
    "};\n",
    "\n",
    "const alice = new Person(\"Лиса\", 25);\n",
    "const bob = new Person(\"Зуг\", 30);\n",
    "\n",
    "console.log(alice.greet());     // \"Здравей, аз съм Лиса\"\n",
    "console.log(bob.greet());       // \"Здравей, аз съм Зуг\"\n",
    "\n",
    "// И двамата споделят един и същи метод greet\n",
    "console.log(alice.greet === bob.greet);  // true"
   ]
  },
  {
   "cell_type": "markdown",
   "metadata": {},
   "source": [
    "## 4. Разбиране на `__proto__` срещу `prototype`\n",
    "\n",
    "- `prototype`: Свойство на конструкторните функции, дефинира какво ще наследят инстанциите\n",
    "- `__proto__`: Свойство на обектите, сочи към действителния прототипен обект\n",
    "\n",
    "Мислете за това по този начин:\n",
    "- `prototype` е проектът\n",
    "- `__proto__` е действителната връзка"
   ]
  },
  {
   "cell_type": "code",
   "execution_count": null,
   "metadata": {},
   "outputs": [],
   "source": [
    "function Dog(name) {\n",
    "    this.name = name;\n",
    "}\n",
    "\n",
    "Dog.prototype.bark = function() {\n",
    "    return \"Бау!\";\n",
    "};\n",
    "\n",
    "const rex = new Dog(\"Рекс\");\n",
    "\n",
    "console.log(Dog.prototype);     // Dog.prototype е проектът\n",
    "\n",
    "// rex.__proto__ основно сочи към Dog.prototype\n",
    "// но може да бъде достъпен директно само в NodeJS \n",
    "// докато в Deno има ограничение за докосването му\n",
    "\n",
    "console.log(Object.getPrototypeOf(rex) === Dog.prototype);  // true\n",
    "\n",
    "// rex може да използва bark заради прототипната верига\n",
    "console.log(rex.bark());  // \"Бау!\""
   ]
  },
  {
   "cell_type": "markdown",
   "metadata": {},
   "source": [
    "## 5. Object.create() и манипулиране на прототипи"
   ]
  },
  {
   "cell_type": "code",
   "execution_count": null,
   "metadata": {},
   "outputs": [],
   "source": [
    "// Object.create() създава обект с указан прототип\n",
    "const animal = {\n",
    "    eat:   function() {    return \"Ям...\";    }\n",
    "};\n",
    "\n",
    "const dog = Object.create(animal);\n",
    "dog.bark = function() {    return \"Бау!\";        };\n",
    "\n",
    "console.log(dog.bark());  // \"Бау!\" (собствен метод)\n",
    "console.log(dog.eat());   // \"Ям...\" (от прототипа)\n",
    "\n",
    "console.log(Object.getPrototypeOf(dog) === animal);  // true"
   ]
  },
  {
   "cell_type": "markdown",
   "metadata": {},
   "source": [
    "## 6. Модели на наследяване"
   ]
  },
  {
   "cell_type": "code",
   "execution_count": null,
   "metadata": {},
   "outputs": [],
   "source": [
    "// Родителски конструктор\n",
    "function Animal(name) {\n",
    "    this.name = name;\n",
    "}\n",
    "\n",
    "Animal.prototype.eat = function() {\n",
    "    return this.name + ' яде';\n",
    "};\n",
    "\n",
    "function Dog(name, breed) {   // Детски конструктор\n",
    "    Animal.call(this, name);  // Извикване на родителския конструктор\n",
    "    this.breed = breed;       // но използвайки контекста на Dog (this)\n",
    "}\n",
    "\n",
    "if ( false ) {   \n",
    "    // някои източници правят наследяването така\n",
    "    // но никога не поправят конструктора, който ще\n",
    "    // сочи към функцията Animal, ако го оставим така\n",
    "    Dog.prototype = Object.create(Animal.prototype);\n",
    "\n",
    "    // затова също трябва да поправим референцията на конструктора, тъй като\n",
    "    // новосъздаденият прототипен обект няма свойство constructor \n",
    "    // и ще се разреши към Animal.constructor свойството\n",
    "    Dog.prototype.constructor = Dog; \n",
    "} else {\n",
    "    // алтернативно можем просто да кажем, което също е по-очевидно\n",
    "    Object.setPrototypeOf(Dog.prototype, Animal.prototype);\n",
    "}\n",
    "\n",
    "Dog.prototype.bark = function() {\n",
    "    return this.name + ' казва Бау!';\n",
    "};\n",
    "\n",
    "const rex = new Dog(\"Рекс\", \"Немска овчарка\");\n",
    "console.log(rex.eat());   // \"Рекс яде\" (наследено)\n",
    "console.log(rex.bark());  // \"Рекс казва Бау!\" (собствен метод)\n",
    "console.log(Object.getPrototypeOf(rex).constructor)"
   ]
  },
  {
   "cell_type": "markdown",
   "metadata": {},
   "source": [
    "### Визуален пример на прототипна верига\n",
    "\n",
    "```\n",
    "r+--------------------+\n",
    "|   rex (инстанция)  |\n",
    "|--------------------|\n",
    "|     __proto__      |\n",
    "+--------------------+\n",
    "          |\n",
    "          v\n",
    "+--------------------+\n",
    "|   Dog.prototype    |\n",
    "|--------------------|\n",
    "|     __proto__      |\n",
    "+--------------------+\n",
    "          |\n",
    "          v\n",
    "+--------------------+\n",
    "|  Animal.prototype  |\n",
    "|--------------------|\n",
    "|     __proto__      |\n",
    "+--------------------+\n",
    "          |\n",
    "          v\n",
    "+--------------------+\n",
    "|  Object.prototype  |\n",
    "|--------------------|\n",
    "|     __proto__      |\n",
    "+--------------------+\n",
    "          |\n",
    "          v\n",
    "+--------------------+\n",
    "|        null        |\n",
    "+--------------------+\n",
    "```"
   ]
  },
  {
   "cell_type": "code",
   "execution_count": null,
   "metadata": {},
   "outputs": [],
   "source": [
    "// Проверка на веригата\n",
    "console.log(Object.getPrototypeOf(rex) === Dog.prototype);  // true\n",
    "console.log(Object.getPrototypeOf(Dog.prototype) === Animal.prototype);  // true\n",
    "console.log(Object.getPrototypeOf(Animal.prototype) === Object.prototype);  // true\n",
    "console.log(Object.getPrototypeOf(Object.prototype) === null);  // true"
   ]
  },
  {
   "cell_type": "markdown",
   "metadata": {},
   "source": [
    "### ES6 класове (синтактична захар)\n",
    "\n",
    "ES6 класовете са просто синтактична захар върху прототипите - те работят по същия начин под капака!"
   ]
  },
  {
   "cell_type": "code",
   "execution_count": null,
   "metadata": {},
   "outputs": [],
   "source": [
    "class ModernAnimal {\n",
    "    constructor(name) {\n",
    "        this.name = name;\n",
    "    }\n",
    "    \n",
    "    eat() {\n",
    "        return `${this.name} яде леко`;\n",
    "    }\n",
    "}\n",
    "\n",
    "class FancyDog extends ModernAnimal {\n",
    "    constructor(name, breed) {\n",
    "        super(name);          // Извикване на родителския конструктор\n",
    "        this.breed = breed;\n",
    "    }\n",
    "    \n",
    "    bark() {\n",
    "        return this.name + ' казва Зап Зап!';\n",
    "    }\n",
    "}\n",
    "\n",
    "const rex = new FancyDog( \"Рекс\", \"Немски киберонавт\");\n",
    "console.log(rex.eat());       // \"Рекс яде\"\n",
    "console.log(rex.bark());      // \"Рекс казва Бау!\"\n",
    "\n",
    "// Все още използва прототипи под капака\n",
    "console.log(Object.getPrototypeOf(rex) === FancyDog.prototype);  // true\n",
    "console.log(rex.constructor, Object.getPrototypeOf(rex).constructor);"
   ]
  },
  {
   "cell_type": "markdown",
   "metadata": {},
   "source": [
    "### Mixins\n",
    "\n",
    "Mixins са начин за добавяне на функционалност към обекти или класове без използване на наследяване. Mixin е обект, който съдържа методи, които да бъдат използвани от други обекти. Можете да използвате `Object.assign()`, за да копирате методите от mixin към прототипа на конструкторна функция или клас."
   ]
  },
  {
   "cell_type": "code",
   "execution_count": null,
   "metadata": {},
   "outputs": [],
   "source": [
    "const flyMixin = {\n",
    "  fly() {\n",
    "    console.log(`${this.name} лети!`);\n",
    "  }\n",
    "};\n",
    "\n",
    "function Bird(name) {\n",
    "  this.name = name;\n",
    "}\n",
    "\n",
    "Object.assign(Bird.prototype, flyMixin);\n",
    "\n",
    "const eagle = new Bird('Орел');\n",
    "eagle.fly(); // Орел лети!"
   ]
  },
  {
   "cell_type": "markdown",
   "metadata": {},
   "source": [
    "## 7. Обобщение\n",
    "\n",
    "- **Прототипите** позволяват наследяване на обекти в JavaScript\n",
    "- **Прототипната верига** е начинът, по който JavaScript търси свойства\n",
    "- **Конструкторните функции** използват `prototype`, за да споделят методи\n",
    "- **`__proto__`** е действителната връзка, **`prototype`** е проектът\n",
    "- **ES6 класовете** са синтактична захар върху прототипите\n",
    "- Разбирането на прототипите е ключово за овладяването на JavaScript!"
   ]
  },
  {
   "cell_type": "markdown",
   "metadata": {},
   "source": [
    "## 8. Капани и добри практики"
   ]
  },
  {
   "cell_type": "markdown",
   "metadata": {},
   "source": [
    "Докато прототипите са мощни, има някои чести капани и добри практики, които трябва да имате предвид."
   ]
  },
  {
   "cell_type": "markdown",
   "metadata": {},
   "source": [
    "### a) Никога не модифицирайте `Object.prototype`\n",
    "\n",
    "Модифицирането на `Object.prototype` се счита за лоша практика, защото засяга всички обекти във вашето приложение. Това може да доведе до неочаквано поведение и конфликти с други библиотеки. Това често се нарича 'замърсяване на прототипа'."
   ]
  },
  {
   "cell_type": "code",
   "execution_count": null,
   "metadata": {},
   "outputs": [],
   "source": [
    "// Лоша практика!\n",
    "Object.prototype.foo = 'bar';\n",
    "\n",
    "const myObj = {};\n",
    "console.log(myObj.foo); // 'bar'\n",
    "\n",
    "// Това може да счупи for...in цикли\n",
    "for (const key in myObj) {\n",
    "    console.log(key); // 'foo'\n",
    "}"
   ]
  },
  {
   "cell_type": "markdown",
   "metadata": {},
   "source": [
    "### b) Възстановяване на свойството `constructor`\n",
    "\n",
    "Когато ръчно задавате прототипа на конструкторна функция, презаписвате нейното свойство `constructor`. Важно е да го възстановите, за да сочи обратно към правилната конструкторна функция. Това гарантира, че `instanceof` и други механизми, които разчитат на свойството constructor, работят правилно. Или използвайте `Object.setPrototypeOf` вместо това."
   ]
  },
  {
   "cell_type": "code",
   "execution_count": null,
   "metadata": {},
   "outputs": [],
   "source": [
    "function Animal() {}\n",
    "function Dog() {}\n",
    "\n",
    "Dog.prototype = Object.create(Animal.prototype);\n",
    "// Без следващия ред, rex.constructor би бил Animal\n",
    "Dog.prototype.constructor = Dog;\n",
    "\n",
    "// или използвайте \n",
    "Object.setPrototypeOf(Dog.prototype, Animal.prototype);\n",
    "\n",
    "const rex = new Dog();\n",
    "console.log(rex.constructor === Dog); // true"
   ]
  },
  {
   "cell_type": "markdown",
   "metadata": {},
   "source": [
    "## Упражнения"
   ]
  },
  {
   "cell_type": "markdown",
   "metadata": {},
   "source": [
    "### Упражнение 1: Поправете счупената прототипна верига\n",
    "\n",
    "Следният код има счупена прототипна верига. Поправете го така, че `cat.purr()` и `cat.eat()` да работят и двете."
   ]
  },
  {
   "cell_type": "code",
   "execution_count": null,
   "metadata": {},
   "outputs": [],
   "source": [
    "function Animal() { }\n",
    "Animal.prototype.munch = function() { console.log('дъвча...') };\n",
    "\n",
    "function Cat() { }\n",
    "// Поправете реда по-долу\n",
    "Cat.prototype = new Animal();\n",
    "\n",
    "Cat.prototype.purr = function() { console.log('мърка') };\n",
    "\n",
    "const cat = new Cat();\n",
    "cat.purr();\n",
    "cat.munch();"
   ]
  },
  {
   "cell_type": "markdown",
   "metadata": {},
   "source": [
    "### Упражнение 2: Имплементирайте `SuperArray`\n",
    "\n",
    "Създайте конструктор `SuperArray`, който наследява от `Array`. Добавете метод към прототипа на `SuperArray`, наречен `last()`, който връща последния елемент на масива."
   ]
  },
  {
   "cell_type": "code",
   "execution_count": null,
   "metadata": {},
   "outputs": [],
   "source": [
    "function SuperArray(...args) {\n",
    "  const arr = new Array(...args);\n",
    "  Object.setPrototypeOf(arr, SuperArray.prototype);\n",
    "  return arr;\n",
    "}\n",
    "\n",
    "SuperArray.prototype = Object.create(Array.prototype);\n",
    "\n",
    "// Добавете вашия метод тук\n",
    "\n",
    "const myArr = new SuperArray(1, 2, 3, 4, 5);\n",
    "console.log(myArr.last()); // 5"
   ]
  }
 ],
 "metadata": {
  "kernelspec": {
   "display_name": "Deno",
   "language": "typescript",
   "name": "deno"
  },
  "language_info": {
   "codemirror_mode": "typescript",
   "file_extension": ".ts",
   "mimetype": "text/x.typescript",
   "name": "typescript",
   "nbconvert_exporter": "script",
   "pygments_lexer": "typescript",
   "version": "5.9.2"
  }
 },
 "nbformat": 4,
 "nbformat_minor": 5
}
