{
 "cells": [
  {
   "cell_type": "markdown",
   "id": "proto_intro",
   "metadata": {},
   "source": [
    "## What are Prototypes?\n",
    "\n",
    "In JavaScript, every object has a hidden link to another object called its **prototype**. When you try to access a property on an object, JavaScript first looks at the object itself. If it doesn't find it, it looks at the object's prototype, then the prototype's prototype, and so on - forming a **prototype chain**.\n",
    "\n",
    "Think of it like inheritance in a family tree: if you don't have something, you can borrow it from your parent, and if they don't have it, from their parent, etc.\n",
    "\n",
    "We can explore this with ```Object.getPrototypeOf(obj)```"
   ]
  },
  {
   "cell_type": "code",
   "execution_count": 116,
   "id": "proto_basic",
   "metadata": {},
   "outputs": [
    {
     "name": "stdout",
     "output_type": "stream",
     "text": [
      "[Object: null prototype] { foo: \"bar\" }\n",
      "Object(0) [ oddCnt: [Function (anonymous)] ]\n",
      "{}\n"
     ]
    }
   ],
   "source": [
    "// Every object has a prototype\n",
    "\n",
    "let obj = { a: 1 };\n",
    "console.log(Object.getPrototypeOf(obj));  // Object.prototype\n",
    "\n",
    "// Arrays have Array.prototype\n",
    "let arrr = [1, 2, 3];\n",
    "console.log(Object.getPrototypeOf(arrr));  // Array.prototype\n",
    "\n",
    "// Functions have Function.prototype\n",
    "function fn() {}\n",
    "console.log(Object.getPrototypeOf(fn));   // Function.prototype"
   ]
  },
  {
   "cell_type": "markdown",
   "id": "header",
   "metadata": {},
   "source": [
    "# Prototypes and Inheritance in JavaScript\n",
    "\n",
    "Understanding JavaScript's prototype-based inheritance model."
   ]
  },
  {
   "cell_type": "markdown",
   "id": "object_create_intro",
   "metadata": {},
   "source": [
    "## Object.create() Examples\n",
    "\n",
    "Before diving into prototypes, let's explore `Object.create()` and prototype manipulation - fundamental concepts for understanding JavaScript's inheritance model."
   ]
  },
  {
   "cell_type": "markdown",
   "id": "proto_manipulation",
   "metadata": {},
   "source": [
    "### Basic Prototype Manipulation\n",
    "\n",
    "**Note:** In Deno (which this notebook uses), directly assigning to `__proto__` doesn't work as expected. The proper way to set an object's prototype is using `Object.setPrototypeOf()`, which works consistently in both Node.js and Deno."
   ]
  },
  {
   "cell_type": "code",
   "execution_count": 117,
   "id": "proto_manipulation_code",
   "metadata": {},
   "outputs": [
    {
     "name": "stdout",
     "output_type": "stream",
     "text": [
      "10\n",
      "Baba\n",
      "Salad\n"
     ]
    }
   ],
   "source": [
    "let obj = { cook: \"Baba\", meal: \"Salad\" };\n",
    "let othObj = { value: 10 };\n",
    "\n",
    "// Proper way to set prototype (works in both Node.js and Deno)\n",
    "Object.setPrototypeOf(othObj, obj);\n",
    "\n",
    "console.log(othObj.value);  // 10 (own property)\n",
    "console.log(othObj.cook);   // \"Baba\" (inherited from obj)\n",
    "console.log(othObj.meal);   // \"Salad\" (inherited from obj)\n",
    "\n",
    "// Note: In Node.js, othObj.__proto__ = obj also works, but it's deprecated\n",
    "// and doesn't work in Deno's strict mode"
   ]
  },
  {
   "cell_type": "markdown",
   "id": "array_prototype",
   "metadata": {},
   "source": [
    "### Extending Built-in Prototypes (Use with Caution!)"
   ]
  },
  {
   "cell_type": "code",
   "execution_count": 118,
   "id": "array_prototype_code",
   "metadata": {},
   "outputs": [
    {
     "name": "stdout",
     "output_type": "stream",
     "text": [
      "4\n"
     ]
    }
   ],
   "source": [
    "// Adding a method to Array.prototype\n",
    "Array.prototype.oddCnt = function () {\n",
    "    return this.filter( el => el % 2).length;\n",
    "};\n",
    "\n",
    "console.log([].oddCnt.call([1, 2, 3, 5, 6, 7]));  // 4 (four odd numbers)"
   ]
  },
  {
   "cell_type": "markdown",
   "id": "object_create_basic",
   "metadata": {},
   "source": [
    "### Object.create() with Property Descriptors"
   ]
  },
  {
   "cell_type": "code",
   "execution_count": 119,
   "id": "object_create_basic_code",
   "metadata": {},
   "outputs": [
    {
     "name": "stdout",
     "output_type": "stream",
     "text": [
      "Kitty\n",
      "105\n"
     ]
    }
   ],
   "source": [
    "let grandp = {\n",
    "    name: \"Baba\",\n",
    "    age: 105,\n",
    "};\n",
    "\n",
    "// Create an object with grandp as prototype and define properties\n",
    "const parent = Object.create(grandp, {\n",
    "    name: {\n",
    "        writable: true,\n",
    "        configurable: true,\n",
    "        value: \"Kitty\",\n",
    "    },\n",
    "});\n",
    "\n",
    "console.log(parent.name);  // \"Kitty\" (own property)\n",
    "console.log(parent.age);   // 105 (inherited from grandparent)"
   ]
  },
  {
   "cell_type": "markdown",
   "id": "object_create_descriptors",
   "metadata": {},
   "source": [
    "### Object.create() with Data and Accessor Properties"
   ]
  },
  {
   "cell_type": "code",
   "execution_count": 120,
   "id": "object_create_descriptors_code",
   "metadata": {},
   "outputs": [
    {
     "name": "stdout",
     "output_type": "stream",
     "text": [
      "hello\n",
      "10\n",
      "Setting `o.bar` to 42\n"
     ]
    },
    {
     "data": {
      "text/plain": [
       "\u001b[33m42\u001b[39m"
      ]
     },
     "execution_count": 120,
     "metadata": {},
     "output_type": "execute_result"
    }
   ],
   "source": [
    "let o = Object.create(Object.prototype, {\n",
    "    \n",
    "    foo: {      // foo is a regular data property\n",
    "        writable: true,\n",
    "        configurable: true,\n",
    "        value: \"hello\",\n",
    "    },\n",
    "\n",
    "    bar: {      // bar is an accessor property\n",
    "        configurable: false,\n",
    "        get() { // <<------  it has getter\n",
    "            return 10;\n",
    "        },\n",
    "        set(value) { // ...  and setter\n",
    "            console.log(\"Setting `o.bar` to\", value);\n",
    "        },\n",
    "    },\n",
    "});\n",
    "\n",
    "console.log(o.foo);  // \"hello\"\n",
    "console.log(o.bar);  // 10\n",
    "o.bar = 42;          // \"Setting `o.bar` to 42\""
   ]
  },
  {
   "cell_type": "markdown",
   "id": "property_descriptors_header",
   "metadata": {},
   "source": [
    "### Inspecting and Modifying Property Descriptors\n",
    "\n",
    "JavaScript provides methods to inspect and modify property characteristics (descriptors) of objects."
   ]
  },
  {
   "cell_type": "code",
   "execution_count": null,
   "id": "property_descriptors_getall",
   "metadata": {},
   "outputs": [],
   "source": [
    "// Object.getOwnPropertyDescriptors() - see ALL property descriptors\n",
    "let objX = { x: 10, y: 20, z: 33, value: \"yes\" };\n",
    "objX.arr = [1, 23];\n",
    "\n",
    "console.log(\"All descriptors:\");\n",
    "console.log(Object.getOwnPropertyDescriptors(objX));\n",
    "// {\n",
    "//   x: { value: 10, writable: true, enumerable: true, configurable: true },\n",
    "//   y: { value: 20, writable: true, enumerable: true, configurable: true },\n",
    "//   z: { value: 33, writable: true, enumerable: true, configurable: true },\n",
    "//   value: { value: \"yes\", writable: true, enumerable: true, configurable: true },\n",
    "//   arr: { value: [ 1, 23 ], writable: true, enumerable: true, configurable: true }\n",
    "// }"
   ]
  },
  {
   "cell_type": "code",
   "execution_count": null,
   "id": "property_descriptors_getone",
   "metadata": {},
   "outputs": [],
   "source": [
    "// Object.getOwnPropertyDescriptor() - get descriptor for ONE property\n",
    "console.log(\"Descriptor for 'z':\");\n",
    "console.log(Object.getOwnPropertyDescriptor(objX, \"z\"));\n",
    "// { value: 33, writable: true, enumerable: true, configurable: true }"
   ]
  },
  {
   "cell_type": "code",
   "execution_count": null,
   "id": "property_descriptors_names",
   "metadata": {},
   "outputs": [],
   "source": [
    "// Object.getOwnPropertyNames() - returns ALL own properties (including non-enumerable)\n",
    "console.log(\"All property names:\", Object.getOwnPropertyNames(objX));\n",
    "// [ \"x\", \"y\", \"z\", \"value\", \"arr\" ]"
   ]
  },
  {
   "cell_type": "code",
   "execution_count": null,
   "id": "property_descriptors_modify",
   "metadata": {},
   "outputs": [],
   "source": [
    "// Object.defineProperty() - modify property descriptor\n",
    "// Making property 'z' non-enumerable (hidden from for...in loops)\n",
    "Object.defineProperty(objX, \"z\", { enumerable: false, value: objX.z });\n",
    "\n",
    "console.log(\"After making 'z' non-enumerable:\");\n",
    "console.log(objX);  // z is hidden from normal listing\n",
    "// { x: 10, y: 20, value: \"yes\", arr: [ 1, 23 ] }\n",
    "\n",
    "console.log(\"But 'z' still exists:\");\n",
    "console.log(objX.z);  // 33"
   ]
  },
  {
   "cell_type": "code",
   "execution_count": null,
   "id": "property_descriptors_writable",
   "metadata": {},
   "outputs": [],
   "source": [
    "// Making property read-only (non-writable)\n",
    "Object.defineProperty(objX, \"x\", { writable: false, value: objX.x });\n",
    "\n",
    "console.log(\"After making 'x' read-only:\");\n",
    "try {\n",
    "  objX.x = 499;  // throws error in strict mode\n",
    "} catch (e) {\n",
    "  console.log(\"Error:\", e.message);\n",
    "  // Error: Cannot assign to read only property 'x' of object\n",
    "}"
   ]
  },
  {
   "cell_type": "markdown",
   "id": "constructor_new_optional",
   "metadata": {},
   "source": [
    "### Constructor Function that Works With or Without 'new'"
   ]
  },
  {
   "cell_type": "code",
   "execution_count": 121,
   "id": "constructor_new_optional_code",
   "metadata": {},
   "outputs": [
    {
     "name": "stdout",
     "output_type": "stream",
     "text": [
      "10\n",
      "10\n",
      "true\n",
      "true\n"
     ]
    }
   ],
   "source": [
    "\n",
    "function Cons() { // This function supports constructing both \n",
    "    let self;     // with new context and without, though not recommended\n",
    "\n",
    "    if (this === global || this === undefined) {\n",
    "        self = Object.create(Cons.prototype);\n",
    "    } else {\n",
    "        self = this;\n",
    "    }\n",
    "\n",
    "    self.baba = 10;\n",
    "    return self;\n",
    "}\n",
    "\n",
    "let obj1 = new Cons();\n",
    "let obj2 = Cons();\n",
    "\n",
    "console.log(obj1.baba);  // 10\n",
    "console.log(obj2.baba);  // 10\n",
    "console.log(obj1 instanceof Cons);  // true\n",
    "console.log(obj2 instanceof Cons);  // true"
   ]
  },
  {
   "cell_type": "markdown",
   "id": "inheritance_with_create",
   "metadata": {},
   "source": [
    "### Inheritance Pattern using Object.create()"
   ]
  },
  {
   "cell_type": "code",
   "execution_count": 122,
   "id": "inheritance_with_create_code",
   "metadata": {},
   "outputs": [
    {
     "name": "stdout",
     "output_type": "stream",
     "text": [
      "10\n"
     ]
    }
   ],
   "source": [
    "function BaseClass() {\n",
    "    return this;\n",
    "}\n",
    "\n",
    "BaseClass.prototype.val = 10;\n",
    "\n",
    "function InheriClass() {\n",
    "    return this;\n",
    "}\n",
    "\n",
    "// Set up inheritance using Object.create()\n",
    "// This allows the prototype chain to be followed up\n",
    "// where this basically says something along the line\n",
    "// InheriClass.prototype = { __proto__ : BaseClass.prototype }\n",
    "InheriClass.prototype = Object.create(BaseClass.prototype);\n",
    "\n",
    "let v = new InheriClass();\n",
    "console.log(v.val);  // 10 (inherited from BaseClass)"
   ]
  },
  {
   "cell_type": "markdown",
   "id": "proto_chain",
   "metadata": {},
   "source": [
    "## The Prototype Chain (ELI5)\n",
    "\n",
    "Imagine you're looking for a toy:\n",
    "1. First, you check your own toy box\n",
    "2. If not there, you ask your older sibling\n",
    "3. If they don't have it, they ask your parents\n",
    "4. If parents don't have it, they ask grandparents\n",
    "5. Eventually, you reach the end (null)\n",
    "\n",
    "This is exactly how JavaScript's prototype chain works!"
   ]
  },
  {
   "cell_type": "code",
   "execution_count": 123,
   "id": "chain_example",
   "metadata": {},
   "outputs": [
    {
     "name": "stdout",
     "output_type": "stream",
     "text": [
      "Alice\n",
      "Engineer\n",
      "Smith\n"
     ]
    }
   ],
   "source": [
    "let grandparent = { surname: \"Smith\" };\n",
    "let myparent = Object.create(grandparent);\n",
    "myparent.job = \"Engineer\";\n",
    "let child = Object.create(myparent);\n",
    "child.name = \"Alice\";\n",
    "\n",
    "console.log(child.name);     // \"Alice\" (own property)\n",
    "console.log(child.job);      // \"Engineer\" (from myparent)\n",
    "console.log(child.surname);  // \"Smith\" (from grandparent)\n",
    "\n",
    "// The chain: child -> parent -> grandparent -> Object.prototype -> null"
   ]
  },
  {
   "cell_type": "markdown",
   "id": "constructor",
   "metadata": {},
   "source": [
    "## 3. Constructor Functions and Prototypes"
   ]
  },
  {
   "cell_type": "code",
   "execution_count": 124,
   "id": "constructor_code",
   "metadata": {},
   "outputs": [
    {
     "name": "stdout",
     "output_type": "stream",
     "text": [
      "Hi, I'm Lisa\n",
      "Hi, I'm Zugg\n",
      "true\n"
     ]
    }
   ],
   "source": [
    "function Person(name, age) {\n",
    "    this.name = name;\n",
    "    this.age = age;\n",
    "}\n",
    "\n",
    "// Add methods to prototype (shared by all instances)\n",
    "Person.prototype.greet = function() {\n",
    "    return `Hi, I'm ${this.name}`;\n",
    "};\n",
    "\n",
    "const alice = new Person(\"Lisa\", 25);\n",
    "const bob = new Person(\"Zugg\", 30);\n",
    "\n",
    "console.log(alice.greet());     // \"Hi, I'm Lisa\"\n",
    "console.log(bob.greet());       // \"Hi, I'm Zugg\"\n",
    "\n",
    "// Both share the same greet method\n",
    "console.log(alice.greet === bob.greet);  // true"
   ]
  },
  {
   "cell_type": "markdown",
   "id": "proto_vs_proto",
   "metadata": {},
   "source": [
    "## 4. Understanding `__proto__` vs `prototype`\n",
    "\n",
    "- `prototype`: Property on constructor functions, defines what instances will inherit\n",
    "- `__proto__`: Property on objects, points to the actual prototype object\n",
    "\n",
    "Think of it this way:\n",
    "- `prototype` is the blueprint\n",
    "- `__proto__` is the actual connection"
   ]
  },
  {
   "cell_type": "code",
   "execution_count": 125,
   "id": "proto_diff",
   "metadata": {},
   "outputs": [
    {
     "name": "stdout",
     "output_type": "stream",
     "text": [
      "{ bark: [Function (anonymous)] }\n",
      "true\n",
      "Woof!\n"
     ]
    }
   ],
   "source": [
    "function Dog(name) {\n",
    "    this.name = name;\n",
    "}\n",
    "\n",
    "Dog.prototype.bark = function() {\n",
    "    return \"Woof!\";\n",
    "};\n",
    "\n",
    "const rex = new Dog(\"Rex\");\n",
    "\n",
    "console.log(Dog.prototype);     // Dog.prototype is the blueprint\n",
    "\n",
    "// rex.__proto__ basically points to Dog.prototype\n",
    "// but can only be accessible diretly in NodeJS \n",
    "// where in Deno there is a restriction to touch it\n",
    "\n",
    "console.log(Object.getPrototypeOf(rex) === Dog.prototype);  // true\n",
    "\n",
    "// rex can use bark because of the prototype chain\n",
    "console.log(rex.bark());  // \"Woof!\""
   ]
  },
  {
   "cell_type": "markdown",
   "id": "object_create",
   "metadata": {},
   "source": [
    "## 5. Object.create() and Prototype Manipulation"
   ]
  },
  {
   "cell_type": "code",
   "execution_count": 126,
   "id": "create_code",
   "metadata": {},
   "outputs": [
    {
     "name": "stdout",
     "output_type": "stream",
     "text": [
      "Woof!\n",
      "Eating...\n",
      "true\n"
     ]
    }
   ],
   "source": [
    "// Object.create() creates object with specified prototype\n",
    "const animal = {\n",
    "    eat:   function() {    return \"Eating...\";    }\n",
    "};\n",
    "\n",
    "const dog = Object.create(animal);\n",
    "dog.bark = function() {    return \"Woof!\";        };\n",
    "\n",
    "console.log(dog.bark());  // \"Woof!\" (own method)\n",
    "console.log(dog.eat());   // \"Eating...\" (from prototype)\n",
    "\n",
    "console.log(Object.getPrototypeOf(dog) === animal);  // true"
   ]
  },
  {
   "cell_type": "markdown",
   "id": "inheritance",
   "metadata": {},
   "source": [
    "## 6. Inheritance Patterns"
   ]
  },
  {
   "cell_type": "code",
   "execution_count": 127,
   "id": "inherit_code",
   "metadata": {},
   "outputs": [
    {
     "name": "stdout",
     "output_type": "stream",
     "text": [
      "Rex is eating\n",
      "Rex says Woof!\n",
      "[Function: Dog]\n"
     ]
    }
   ],
   "source": [
    "// Parent constructor\n",
    "function Animal(name) {\n",
    "    this.name = name;\n",
    "}\n",
    "\n",
    "Animal.prototype.eat = function() {\n",
    "    return this.name + ' is eating';\n",
    "};\n",
    "\n",
    "function Dog(name, breed) {   // Child constructor\n",
    "    Animal.call(this, name);  // Call parent constructor\n",
    "    this.breed = breed;       // but using Dog's context (this)\n",
    "}\n",
    "\n",
    "if ( false ) {   \n",
    "    // some sources do inheritence like this\n",
    "    // but neve fix the constructor which is going to\n",
    "    // refer to the Animal function if we leave it as is\n",
    "    Dog.prototype = Object.create(Animal.prototype);\n",
    "\n",
    "    // tus we also need to fix the constructor reference, as\n",
    "    // the newly created prototype object has no constructor prop \n",
    "    // and will resolve to the Animal.constructor prop\n",
    "    Dog.prototype.constructor = Dog; \n",
    "} else {\n",
    "    // alternatively we can just say which is also more apparent\n",
    "    Object.setPrototypeOf(Dog.prototype, Animal.prototype);\n",
    "}\n",
    "\n",
    "Dog.prototype.bark = function() {\n",
    "    return this.name + ' says Woof!';\n",
    "};\n",
    "\n",
    "const rex = new Dog(\"Rex\", \"German Shepherd\");\n",
    "console.log(rex.eat());   // \"Rex is eating\" (inherited)\n",
    "console.log(rex.bark());  // \"Rex says Woof!\" (own method)\n",
    "console.log(Object.getPrototypeOf(rex).constructor)"
   ]
  },
  {
   "cell_type": "markdown",
   "id": "visual",
   "metadata": {},
   "source": [
    "## Visual Prototype Chain Example\n",
    "\n",
    "```\n",
    "r+--------------------+\n",
    "|   rex (instance)   |\n",
    "|--------------------|\n",
    "|     __proto__      |\n",
    "+--------------------+\n",
    "          |\n",
    "          v\n",
    "+--------------------+\n",
    "|   Dog.prototype    |\n",
    "|--------------------|\n",
    "|     __proto__      |\n",
    "+--------------------+\n",
    "          |\n",
    "          v\n",
    "+--------------------+\n",
    "|  Animal.prototype  |\n",
    "|--------------------|\n",
    "|     __proto__      |\n",
    "+--------------------+\n",
    "          |\n",
    "          v\n",
    "+--------------------+\n",
    "|  Object.prototype  |\n",
    "|--------------------|\n",
    "|     __proto__      |\n",
    "+--------------------+\n",
    "          |\n",
    "          v\n",
    "+--------------------+\n",
    "|        null        |\n",
    "+--------------------+\n",
    "```"
   ]
  },
  {
   "cell_type": "code",
   "execution_count": 133,
   "id": "visual_code",
   "metadata": {},
   "outputs": [
    {
     "name": "stdout",
     "output_type": "stream",
     "text": [
      "true\n",
      "true\n",
      "true\n",
      "true\n"
     ]
    }
   ],
   "source": [
    "// Verify the chain\n",
    "console.log(Object.getPrototypeOf(rex) === Dog.prototype);  // true\n",
    "console.log(Object.getPrototypeOf(Dog.prototype) === Animal.prototype);  // true\n",
    "console.log(Object.getPrototypeOf(Animal.prototype) === Object.prototype);  // true\n",
    "console.log(Object.getPrototypeOf(Object.prototype) === null);  // true"
   ]
  },
  {
   "cell_type": "markdown",
   "id": "89b62e62",
   "metadata": {},
   "source": [
    "## ES6 Classes (Syntactic Sugar)\n",
    "\n",
    "ES6 classes are just syntactic sugar over prototypes - they work the same way under the hood!"
   ]
  },
  {
   "cell_type": "code",
   "execution_count": 134,
   "id": "b81beac7",
   "metadata": {},
   "outputs": [
    {
     "name": "stdout",
     "output_type": "stream",
     "text": [
      "Rex is eating light\n",
      "Rexsays Zap Zap!\n",
      "true\n",
      "[class FancyDog extends ModernAnimal] [class FancyDog extends ModernAnimal]\n"
     ]
    }
   ],
   "source": [
    "class ModernAnimal {\n",
    "    constructor(name) {\n",
    "        this.name = name;\n",
    "    }\n",
    "    \n",
    "    eat() {\n",
    "        return `${this.name} is eating light`;\n",
    "    }\n",
    "}\n",
    "\n",
    "class FancyDog extends ModernAnimal {\n",
    "    constructor(name, breed) {\n",
    "        super(name);          // Call parent constructor\n",
    "        this.breed = breed;\n",
    "    }\n",
    "    \n",
    "    bark() {\n",
    "        return this.name + 'says Zap Zap!';\n",
    "    }\n",
    "}\n",
    "\n",
    "const rex = new FancyDog( \"Rex\", \"German Cybernaut\");\n",
    "console.log(rex.eat());       // \"Rex is eating\"\n",
    "console.log(rex.bark());      // \"Rex says Woof!\"\n",
    "\n",
    "// Still uses prototypes under the hood\n",
    "console.log(Object.getPrototypeOf(rex) === FancyDog.prototype);  // true\n",
    "console.log(rex.constructor, Object.getPrototypeOf(rex).constructor);"
   ]
  },
  {
   "cell_type": "markdown",
   "id": "summary",
   "metadata": {},
   "source": [
    "## Summary\n",
    "\n",
    "- **Prototypes** enable object inheritance in JavaScript\n",
    "- **Prototype chain** is how JavaScript looks up properties\n",
    "- **Constructor functions** use `prototype` to share methods\n",
    "- **`__proto__`** is the actual link, **`prototype`** is the blueprint\n",
    "- **ES6 classes** are syntactic sugar over prototypes\n",
    "- Understanding prototypes is key to mastering JavaScript!"
   ]
  },
  {
   "cell_type": "markdown",
   "id": "gotchas_header",
   "metadata": {},
   "source": [
    "## Gotchas & Best Practices"
   ]
  },
  {
   "cell_type": "markdown",
   "id": "gotchas_content",
   "metadata": {},
   "source": [
    "While prototypes are powerful, there are some common pitfalls and best practices to keep in mind."
   ]
  },
  {
   "cell_type": "markdown",
   "id": "gotcha_object_prototype",
   "metadata": {},
   "source": [
    "### a) Never Modify `Object.prototype`\n",
    "\n",
    "Modifying `Object.prototype` is considered bad practice because it affects all objects in your application. This can lead to unexpected behavior and conflicts with other libraries. This is often called 'prototype pollution'."
   ]
  },
  {
   "cell_type": "code",
   "execution_count": 130,
   "id": "gotcha_object_prototype_code",
   "metadata": {},
   "outputs": [
    {
     "name": "stdout",
     "output_type": "stream",
     "text": [
      "bar\n",
      "foo\n"
     ]
    }
   ],
   "source": [
    "// Bad practice!\n",
    "Object.prototype.foo = 'bar';\n",
    "\n",
    "const myObj = {};\n",
    "console.log(myObj.foo); // 'bar'\n",
    "\n",
    "// This can break for...in loops\n",
    "for (const key in myObj) {\n",
    "    console.log(key); // 'foo'\n",
    "}"
   ]
  },
  {
   "cell_type": "markdown",
   "id": "gotcha_constructor",
   "metadata": {},
   "source": [
    "### b) Resetting the `constructor` Property\n",
    "\n",
    "When you manually set the prototype of a constructor function, you overwrite its `constructor` property. It's important to reset it to point back to the correct constructor function. This ensures that `instanceof` and other mechanisms that rely on the constructor property work correctly. Or use `Object.setPrototypeOf` instead."
   ]
  },
  {
   "cell_type": "code",
   "execution_count": 131,
   "id": "gotcha_constructor_code",
   "metadata": {},
   "outputs": [
    {
     "name": "stdout",
     "output_type": "stream",
     "text": [
      "true\n"
     ]
    }
   ],
   "source": [
    "function Animal() {}\n",
    "function Dog() {}\n",
    "\n",
    "Dog.prototype = Object.create(Animal.prototype);\n",
    "// Without this next line, rex.constructor would be Animal\n",
    "Dog.prototype.constructor = Dog;\n",
    "\n",
    "// or use \n",
    "Object.setPrototypeOf(Dog.prototype, Animal.prototype);\n",
    "\n",
    "const rex = new Dog();\n",
    "console.log(rex.constructor === Dog); // true"
   ]
  },
  {
   "cell_type": "markdown",
   "id": "mixins_header",
   "metadata": {},
   "source": [
    "##  Mixins\n",
    "\n",
    "Mixins are a way to add functionality to objects or classes without using inheritance. A mixin is an object that contains methods to be used by other objects. You can use `Object.assign()` to copy the methods from the mixin to the prototype of a constructor function or class."
   ]
  },
  {
   "cell_type": "code",
   "execution_count": 132,
   "id": "mixins_code",
   "metadata": {},
   "outputs": [
    {
     "name": "stdout",
     "output_type": "stream",
     "text": [
      "Eagle is flying!\n"
     ]
    }
   ],
   "source": [
    "const flyMixin = {\n",
    "  fly() {\n",
    "    console.log(`${this.name} is flying!`);\n",
    "  }\n",
    "};\n",
    "\n",
    "function Bird(name) {\n",
    "  this.name = name;\n",
    "}\n",
    "\n",
    "Object.assign(Bird.prototype, flyMixin);\n",
    "\n",
    "const eagle = new Bird('Eagle');\n",
    "eagle.fly(); // Eagle is flying!"
   ]
  },
  {
   "cell_type": "markdown",
   "id": "exercises_header",
   "metadata": {},
   "source": [
    "## Exercises"
   ]
  },
  {
   "cell_type": "markdown",
   "id": "exercise_1_description",
   "metadata": {},
   "source": [
    "### Exercise 1: Fix the Broken Prototype Chain\n",
    "\n",
    "The following code has a broken prototype chain. Fix it so that `cat.purr()` and `cat.eat()` both work."
   ]
  },
  {
   "cell_type": "code",
   "execution_count": null,
   "id": "exercise_1_code",
   "metadata": {},
   "outputs": [
    {
     "name": "stdout",
     "output_type": "stream",
     "text": [
      "purrrr\n"
     ]
    },
    {
     "ename": "TypeError",
     "evalue": "cat.eat is not a function",
     "output_type": "error",
     "traceback": [
      "Stack trace:",
      "TypeError: cat.eat is not a function",
      "    at <anonymous>:13:5"
     ]
    }
   ],
   "source": [
    "function Animal() { }\n",
    "Animal.prototype.munch = function() { console.log('munching...') };\n",
    "\n",
    "function Cat() { }\n",
    "// Fix the line below\n",
    "Cat.prototype = new Animal();\n",
    "\n",
    "Cat.prototype.purr = function() { console.log('purrrr') };\n",
    "\n",
    "const cat = new Cat();\n",
    "cat.purr();\n",
    "cat.munch();"
   ]
  },
  {
   "cell_type": "markdown",
   "id": "exercise_2_description",
   "metadata": {},
   "source": [
    "### Exercise 2: Implement a `SuperArray`\n",
    "\n",
    "Create a `SuperArray` constructor that inherits from `Array`. Add a method to the `SuperArray` prototype called `last()` that returns the last element of the array."
   ]
  },
  {
   "cell_type": "code",
   "execution_count": null,
   "id": "exercise_2_code",
   "metadata": {},
   "outputs": [
    {
     "ename": "TypeError",
     "evalue": "myArr.last is not a function",
     "output_type": "error",
     "traceback": [
      "Stack trace:",
      "TypeError: myArr.last is not a function",
      "    at <anonymous>:9:19"
     ]
    }
   ],
   "source": [
    "function SuperArray(...args) {\n",
    "  const arr = new Array(...args);\n",
    "  Object.setPrototypeOf(arr, SuperArray.prototype);\n",
    "  return arr;\n",
    "}\n",
    "\n",
    "SuperArray.prototype = Object.create(Array.prototype);\n",
    "\n",
    "// Add your method here\n",
    "\n",
    "const myArr = new SuperArray(1, 2, 3, 4, 5);\n",
    "console.log(myArr.last()); // 5"
   ]
  }
 ],
 "metadata": {
  "kernelspec": {
   "display_name": "Deno",
   "language": "typescript",
   "name": "deno"
  },
  "language_info": {
   "codemirror_mode": "typescript",
   "file_extension": ".ts",
   "mimetype": "text/x.typescript",
   "name": "typescript",
   "nbconvert_exporter": "script",
   "pygments_lexer": "typescript",
   "version": "5.8.3"
  }
 },
 "nbformat": 4,
 "nbformat_minor": 5
}
