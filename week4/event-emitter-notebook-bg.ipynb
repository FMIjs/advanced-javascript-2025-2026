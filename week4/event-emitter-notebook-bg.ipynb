{
 "cells": [
  {
   "cell_type": "markdown",
   "id": "678444dc",
   "metadata": {},
   "source": [
    "// TODO\n",
    "// примери за falsy и truthy стойности\n",
    "// примери за ??\n",
    "// примери за !!\n",
    "\n",
    "Този бележник демонстрира прости асинхронни шаблони в JavaScript и малка имплементация на EventEmitter (ES5). Той отразява примерите от файловете в репото и ги групира в обяснителни секции.\n",
    "Следвайте съдържанието: falsy/truthy, ??, !!, var срещу let hoisting, бележки за event loop, EventEmitter (ES5), използване на Node EventEmitter, promises."
   ]
  },
  {
   "cell_type": "markdown",
   "id": "b4f96ea8",
   "metadata": {},
   "source": [
    "## Съдържание\n",
    "1. Falsy и Truthy стойности\n",
    "2. Nullish coalescing `??`\n",
    "3. Двойно отрицание `!!`\n",
    "4. Hoisting на променливи: `var` срещу `let` в цикли с асинхронни callback-и\n",
    "5. Бележки за event loop (`setTimeout`, `setImmediate`)\n",
    "6. Изграждане на EventEmitter от нулата (ES5)\n",
    "7. Използване на Node `EventEmitter` (пример от репото)\n",
    "8. Пример с Promises\n",
    "9. Обобщение и следващи стъпки"
   ]
  },
  {
   "cell_type": "markdown",
   "id": "318fab92",
   "metadata": {},
   "source": [
    "### 1 — Falsy и Truthy стойности\n",
    "Често срещаните falsy стойности в JS: `false`, `0`, `''` (празен низ), `null`, `undefined`, `NaN`. Всичко останало е truthy.\n",
    "Малките примери по-долу показват как стойностите се държат в условни изрази и при преобразуване към булев тип."
   ]
  },
  {
   "cell_type": "code",
   "execution_count": null,
   "id": "77218552",
   "metadata": {
    "vscode": {
     "languageId": "javascript"
    }
   },
   "outputs": [],
   "source": []
  },
  {
   "cell_type": "code",
   "execution_count": null,
   "id": "32775c1b",
   "metadata": {
    "vscode": {
     "languageId": "javascript"
    }
   },
   "outputs": [],
   "source": [
    "// Примери за falsy и truthy\n",
    "const vals = [false, 0, '', null, undefined, NaN, '0', 'hello', 1, {}];\n",
    "vals.forEach(v => console.log(JSON.stringify(v), '->', Boolean(v)));\n",
    "\n",
    "// Пример: поведение в условен израз\n",
    "if (0) { console.log('0 is truthy'); } else { console.log('0 is falsy'); }\n",
    "if ('hello') { console.log('is truthy'); } else { console.log('is falsy'); }"
   ]
  },
  {
   "cell_type": "markdown",
   "id": "b6d4b402",
   "metadata": {},
   "source": [
    "### 2 — Nullish coalescing (`??`)\n",
    "Операторът `??` връща дясната страна, когато лявата страна е `null` или `undefined` (но не и други falsy стойности като `0` или `''`)."
   ]
  },
  {
   "cell_type": "code",
   "execution_count": null,
   "id": "c10bd1d5",
   "metadata": {
    "vscode": {
     "languageId": "javascript"
    }
   },
   "outputs": [],
   "source": [
    "console.log(null ?? 'по подразбиране'); // 'по подразбиране'\n",
    "console.log(undefined ?? 'по подразбиране'); // 'по подразбиране'\n",
    "console.log(0 ?? 'по подразбиране'); // 0 (не е nullish)\n",
    "console.log('' ?? 'по подразбиране'); // '' (не е nullish)\n",
    "// Сравнение с ||\n",
    "console.log(0 || 'fallback'); // 'fallback' защото 0 е falsy\n",
    "console.log(null || 'fallback'); // 'fallback'"
   ]
  },
  {
   "cell_type": "markdown",
   "id": "25de0576",
   "metadata": {},
   "source": [
    "### 3 — Двойно отрицание (`!!`)\n",
    "`!!value` преобразува стойност към нейния булев еквивалент. Полезно за явни проверки за truthiness."
   ]
  },
  {
   "cell_type": "code",
   "execution_count": null,
   "id": "d098922c",
   "metadata": {
    "vscode": {
     "languageId": "javascript"
    }
   },
   "outputs": [],
   "source": [
    "console.log(!!0); // false\n",
    "console.log(!!''); // false\n",
    "console.log(!!'hello'); // true\n",
    "console.log(!!{}); // true"
   ]
  },
  {
   "cell_type": "markdown",
   "id": "28648c40",
   "metadata": {},
   "source": [
    "### 4 — Hoisting на променливи: `var` срещу `let` в цикли\n",
    "Този класически пример показва как `var` е function-scoped и създава проблеми със замиканията вътре в асинхронни callback-и, докато `let` е block-scoped и ги избягва."
   ]
  },
  {
   "cell_type": "code",
   "execution_count": null,
   "id": "56e2401a",
   "metadata": {
    "vscode": {
     "languageId": "javascript"
    }
   },
   "outputs": [],
   "source": [
    "console.log('var цикъл:');\n",
    "for (var i = 0; i < 3; i++) {\n",
    "  setTimeout(() => {\n",
    "    console.log('var i ->', i);\n",
    "  }, 50);\n",
    "}\n",
    "\n",
    "console.log('let цикъл:');\n",
    "for (let j = 0; j < 3; j++) {\n",
    "  setTimeout(() => {\n",
    "    console.log('let j ->', j);\n",
    "  }, 100);\n",
    "}"
   ]
  },
  {
   "cell_type": "markdown",
   "id": "dbfcb5f9",
   "metadata": {},
   "source": [
    "### 5 — Бележки за event loop (`setTimeout` vs `setImmediate`)\n",
    "- `setTimeout(fn, 0)` планира макротаск след текущия call stack и всички микротаскове.\n",
    "- `setImmediate` (в Node) планира callback за check фазата — обикновено се изпълнява след I/O събития и в много случаи има сходен ред с `setTimeout(fn, 0)`, но редът може да се различава.\n",
    "Малки демонстрации по-долу използват и двата шаблона."
   ]
  },
  {
   "cell_type": "code",
   "execution_count": null,
   "id": "e15794e5",
   "metadata": {
    "vscode": {
     "languageId": "javascript"
    }
   },
   "outputs": [],
   "source": [
    "console.log('start');\n",
    "setTimeout(() => console.log('timeout 0'), 0);\n",
    "if (typeof setImmediate === 'function') {\n",
    "  setImmediate(() => console.log('setImmediate'));\n",
    "} else {\n",
    "  console.log('setImmediate не е наличен в тази среда');\n",
    "}\n",
    "Promise.resolve().then(() => console.log('microtask (promise)'));\n",
    "console.log('end');"
   ]
  },
  {
   "cell_type": "markdown",
   "id": "2503e985",
   "metadata": {},
   "source": [
    "### 6 — Изграждане на EventEmitter от нулата (ES5)\n",
    "По-долу е простата ES5 имплементация на EventEmitter от `event.emit.test.js`. Тя демонстрира `on()` и `emit()` и използва `setTimeout` вътре в `emit()` за асинхронно извикване на слушателите.\n",
    "(Това е с учебна цел — не е заместител за продукционен код.)"
   ]
  },
  {
   "cell_type": "code",
   "execution_count": null,
   "id": "1e4d429e",
   "metadata": {
    "vscode": {
     "languageId": "javascript"
    }
   },
   "outputs": [],
   "source": [
    "function EventEmitter() {\n",
    "  this.events = {};\n",
    "}\n",
    "\n",
    "EventEmitter.prototype.on = function(eventName, fn) {\n",
    "  if (!this.events[eventName]) {\n",
    "    this.events[eventName] = [];\n",
    "  }\n",
    "  this.events[eventName].push(fn);\n",
    "};\n",
    "\n",
    "EventEmitter.prototype.off = function(eventName, fn) {\n",
    "  var listeners = this.events[eventName];\n",
    "  if (!listeners) return;\n",
    "  for (var i = listeners.length - 1; i >= 0; i--) {\n",
    "    if (listeners[i] === fn) {\n",
    "      listeners.splice(i, 1);\n",
    "    }\n",
    "  }\n",
    "};\n",
    "\n",
    "EventEmitter.prototype.once = function(eventName, fn) {\n",
    "  var self = this;\n",
    "  function wrapper() {\n",
    "    // извикваме оригиналния слушател с подадените аргументи\n",
    "    fn.apply(null, arguments);\n",
    "    // премахваме wrapper-а след първото извикване\n",
    "    self.off(eventName, wrapper);\n",
    "  }\n",
    "  this.on(eventName, wrapper);\n",
    "};\n",
    "\n",
    "EventEmitter.prototype.emit = function(eventName) {\n",
    "  var args = Array.prototype.slice.call(arguments, 1);\n",
    "  var event = this.events[eventName];\n",
    "  if (event) {\n",
    "    event.forEach(function(fn) {\n",
    "      setTimeout(function() {\n",
    "        fn.apply(null, args);\n",
    "      }, 0);\n",
    "    });\n",
    "  }\n",
    "};\n",
    "\n",
    "// Демонстрация на използване\n",
    "var emitter = new EventEmitter();\n",
    "console.log('настройка на събитията');\n",
    "\n",
    "function listenerA() { console.log('listenerA извикан'); }\n",
    "function listenerB() { console.log('listenerB извикан'); }\n",
    "\n",
    "// добавяме два слушателя и после премахваме единия\n",
    "emitter.on('test', listenerA);\n",
    "emitter.on('test', listenerB);\n",
    "console.log('emit 1 (трябва да се изпълнят и двата):');\n",
    "emitter.emit('test');\n",
    "\n",
    "// премахваме listenerA преди следващото emit\n",
    "emitter.off('test', listenerA);\n",
    "console.log('emit 2 (трябва да се изпълни само listenerB):');\n",
    "emitter.emit('test');\n",
    "\n",
    "// пример за once\n",
    "emitter.once('onceEvent', function() { console.log('onceEvent задействано'); });\n",
    "console.log('emit onceEvent първи път:');\n",
    "emitter.emit('onceEvent');\n",
    "console.log('emit onceEvent втори път (не трябва да се изпълни):');\n",
    "emitter.emit('onceEvent');\n",
    "\n",
    "// Използваме setImmediate ако е налично (в Node). В противен случай, emit вече е планирано с setTimeout вътре в emit().\n",
    "if (typeof setImmediate === 'function') {\n",
    "  setImmediate(function() { /* вече emit-нахме по-горе */ });\n",
    "} else {\n",
    "  // няма допълнително необходимо; emit-овете бяха планирани с setTimeout вътре в emit()\n",
    "}\n",
    "\n",
    "console.log('след демонстрационните emit-ове');"
   ]
  },
  {
   "cell_type": "markdown",
   "id": "9818ba54",
   "metadata": {},
   "source": [
    "### 7 — Node `EventEmitter` (пример от `event.emit.js`)\n",
    "Пример показва използване на вградения модул `events` в Node и изпращане на събития с аргументи. Ако стартирате този бележник в Node-базиран JS kernel, можете да `require('events')`. В противен случай, разгледайте го като демонстрация."
   ]
  },
  {
   "cell_type": "code",
   "execution_count": null,
   "id": "64e4a982",
   "metadata": {
    "vscode": {
     "languageId": "javascript"
    }
   },
   "outputs": [],
   "source": [
    "// Пример за Node (изисква Node kernel).\n",
    "try {\n",
    "  const EventEmitter = require('events');\n",
    "  const em = new EventEmitter();\n",
    "  em.on('greet', function(name) {\n",
    "    console.log(`Здравей, ${name}!`);\n",
    "  });\n",
    "  em.on('user', function(id, name, age) {\n",
    "    console.log(`Потребител ${id}: ${name}, ${age} години`);\n",
    "  });\n",
    "  // изпращаме няколко събития след закъснение\n",
    "  setTimeout(() => {\n",
    "    em.emit('greet', 'Алиса');\n",
    "    em.emit('user', 123, 'Боб', 25);\n",
    "  }, 500);\n",
    "} catch (err) {\n",
    "  console.log('Примерът с вградения EventEmitter на Node е прескочен (не е наличен в този kernel).');\n",
    "}"
   ]
  },
  {
   "cell_type": "markdown",
   "id": "20841193",
   "metadata": {},
   "source": [
    "### 8 — Пример с Promises\n",
    "Малък демо-пример с promise, копиран от `event.emit.test.js`. В оригиналния файл той се разрешава след 5 секунди; тук съкращаваме закъснението за интерактивна демонстрация."
   ]
  },
  {
   "cell_type": "code",
   "execution_count": null,
   "id": "a48a1100",
   "metadata": {
    "vscode": {
     "languageId": "javascript"
    }
   },
   "outputs": [],
   "source": [
    "let p = new Promise((resolve, reject) => {\n",
    "  setTimeout(() => {\n",
    "    if (false) {\n",
    "      reject('Promise отхвърлен!');\n",
    "      return;\n",
    "    }\n",
    "    resolve('Promise разрешен!');\n",
    "  }, 200); // скъсяваме за демото\n",
    "});\n",
    "\n",
    "p.then(message => console.log(message));\n",
    "p.then(message => console.log('Втори then: ' + message));"
   ]
  },
  {
   "cell_type": "markdown",
   "id": "c44eae98",
   "metadata": {},
   "source": [
    "### 9 — Обобщение и следващи стъпки\n",
    "- Видяхте falsy/truthy, `??`, `!!`, var срещу let hoisting, реда на event loop, малък ES5 EventEmitter, използване на Node EventEmitter и пример с Promise.\n",
    "- Следващи стъпки (опционално): добавяне на `off()` към ES5 emitter (вече е включено), демонстриране на обработка на грешки при emit, добавяне на кратки упражнения или конвертиране на ES5 класа в ES6 `class` синтаксис."
   ]
  }
 ],
 "metadata": {
  "language_info": {
   "name": "python"
  }
 },
 "nbformat": 4,
 "nbformat_minor": 5
}
