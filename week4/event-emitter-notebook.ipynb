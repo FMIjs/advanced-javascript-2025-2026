{
 "cells": [
  {
   "cell_type": "markdown",
   "id": "d87cbf3e",
   "metadata": {},
   "source": [
    "// todo \n",
    "// examples for falsy and truthy values\n",
    "// examples for ?? \n",
    "// examples for !!\n",
    "\n",
    "This notebook demonstrates simple asynchronous patterns in JavaScript and a tiny EventEmitter implementation (ES5). It mirrors the examples from the repository files and groups them into explanatory sections.\n",
    "Follow the Table of Contents: falsy/truthy, ??, !!, var vs let hoisting, event loop notes, EventEmitter (ES5), Node EventEmitter usage, promises."
   ]
  },
  {
   "cell_type": "markdown",
   "id": "df6be82f",
   "metadata": {},
   "source": [
    "## Table of Contents\n",
    "1. Falsy and Truthy Values\n",
    "2. Nullish coalescing `??`\n",
    "3. Double negation `!!`\n",
    "4. Variable hoisting: `var` vs `let` in setTimeout loops\n",
    "5. Event loop notes (`setTimeout`, `setImmediate`)\n",
    "6. Building EventEmitter from scratch (ES5)\n",
    "7. Node's `EventEmitter` usage (example from repository)\n",
    "8. Promises example\n",
    "9. Summary & next steps"
   ]
  },
  {
   "cell_type": "markdown",
   "id": "03bf462e",
   "metadata": {},
   "source": [
    "### 1 — Falsy and Truthy Values\n",
    "Common falsy values in JS: `false`, `0`, `''` (empty string), `null`, `undefined`, `NaN`. Everything else is truthy.\n",
    "Small examples below show how values behave in conditionals and when coerced to boolean."
   ]
  },
  {
   "cell_type": "code",
   "execution_count": null,
   "id": "924d41da",
   "metadata": {
    "vscode": {
     "languageId": "javascript"
    }
   },
   "outputs": [],
   "source": [
    "// Falsy and truthy examples\n",
    "const vals = [false, 0, '', null, undefined, NaN, '0', 'hello', 1, {}];\n",
    "vals.forEach(v => console.log(JSON.stringify(v), '->', Boolean(v)));\n",
    "\n",
    "// Example: conditional behavior\n",
    "if (0) { console.log('0 is truthy'); } else { console.log('0 is falsy'); }\n",
    "if ('hello') { console.log('hello is truthy'); } else { console.log('hello is falsy'); }"
   ]
  },
  {
   "cell_type": "markdown",
   "id": "135f54a3",
   "metadata": {},
   "source": [
    "### 2 — Nullish coalescing (`??`)\n",
    "The `??` operator returns the right-hand side when the left-hand side is `null` or `undefined` (but not other falsy values like `0` or `''`)."
   ]
  },
  {
   "cell_type": "code",
   "execution_count": null,
   "id": "ca48d7ad",
   "metadata": {
    "vscode": {
     "languageId": "javascript"
    }
   },
   "outputs": [],
   "source": [
    "console.log(null ?? 'default'); // 'default'\n",
    "console.log(undefined ?? 'default'); // 'default'\n",
    "console.log(0 ?? 'default'); // 0 (not nullish)\n",
    "console.log('' ?? 'default'); // '' (not nullish)\n",
    "// Compare with ||\n",
    "console.log(0 || 'fallback'); // 'fallback' because 0 is falsy\n",
    "console.log(null || 'fallback'); // 'fallback'"
   ]
  },
  {
   "cell_type": "markdown",
   "id": "85142194",
   "metadata": {},
   "source": [
    "### 3 — Double negation (`!!`)\n",
    "`!!value` converts a value to its boolean equivalent. Useful for explicit truthiness checks."
   ]
  },
  {
   "cell_type": "code",
   "execution_count": null,
   "id": "432b2ac4",
   "metadata": {
    "vscode": {
     "languageId": "javascript"
    }
   },
   "outputs": [],
   "source": [
    "console.log(!!0); // false\n",
    "console.log(!!''); // false\n",
    "console.log(!!'hello'); // true\n",
    "console.log(!!{}); // true"
   ]
  },
  {
   "cell_type": "markdown",
   "id": "6dcccf41",
   "metadata": {},
   "source": [
    "### 4 — Variable hoisting: `var` vs `let` in loops\n",
    "This classic example shows how `var` is function-scoped and causes closure issues inside asynchronous callbacks, while `let` is block-scoped and avoids the problem."
   ]
  },
  {
   "cell_type": "code",
   "execution_count": null,
   "id": "a0c4ad28",
   "metadata": {
    "vscode": {
     "languageId": "javascript"
    }
   },
   "outputs": [],
   "source": [
    "console.log('var loop:');\n",
    "for (var i = 0; i < 3; i++) {\n",
    "  setTimeout(() => {\n",
    "    console.log('var i ->', i);\n",
    "  }, 50);\n",
    "}\n",
    "\n",
    "console.log('let loop:');\n",
    "for (let j = 0; j < 3; j++) {\n",
    "  setTimeout(() => {\n",
    "    console.log('let j ->', j);\n",
    "  }, 100);\n",
    "}"
   ]
  },
  {
   "cell_type": "markdown",
   "id": "e594bbfa",
   "metadata": {},
   "source": [
    "### 5 — Event loop notes (`setTimeout` vs `setImmediate`)\n",
    "- `setTimeout(fn, 0)` schedules a macrotask after the current call stack and any microtasks.\n",
    "- `setImmediate` (Node) schedules a callback to run on the check phase — typically runs after I/O events, and in many cases appears similar to `setTimeout(fn, 0)`, but ordering can differ.\n",
    "Small demos below use both patterns."
   ]
  },
  {
   "cell_type": "code",
   "execution_count": null,
   "id": "db1a9d36",
   "metadata": {
    "vscode": {
     "languageId": "javascript"
    }
   },
   "outputs": [],
   "source": [
    "console.log('start');\n",
    "setTimeout(() => console.log('timeout 0'), 0);\n",
    "if (typeof setImmediate === 'function') {\n",
    "  setImmediate(() => console.log('setImmediate'));\n",
    "} else {\n",
    "  console.log('setImmediate not available in this environment');\n",
    "}\n",
    "Promise.resolve().then(() => console.log('microtask (promise)'));\n",
    "console.log('end');"
   ]
  },
  {
   "cell_type": "markdown",
   "id": "40e6782b",
   "metadata": {},
   "source": [
    "### 6 — Building EventEmitter from scratch (ES5)\n",
    "Below is the simple ES5 EventEmitter implementation from `event.emit.test.js`. It demonstrates `on()` and `emit()` and uses `setTimeout` inside `emit()` to invoke listeners asynchronously.\n",
    "(This is kept small and educational — not a production replacement.)"
   ]
  },
  {
   "cell_type": "code",
   "execution_count": null,
   "id": "bebddc8d",
   "metadata": {
    "vscode": {
     "languageId": "javascript"
    }
   },
   "outputs": [],
   "source": [
    "function EventEmitter() {\n",
    "  this.events = {};\n",
    "}\n",
    "\n",
    "EventEmitter.prototype.on = function(eventName, fn) {\n",
    "  if (!this.events[eventName]) {\n",
    "    this.events[eventName] = [];\n",
    "  }\n",
    "  this.events[eventName].push(fn);\n",
    "};\n",
    "\n",
    "EventEmitter.prototype.off = function(eventName, fn) {\n",
    "  var listeners = this.events[eventName];\n",
    "  if (!listeners) return;\n",
    "  for (var i = listeners.length - 1; i >= 0; i--) {\n",
    "    if (listeners[i] === fn) {\n",
    "      listeners.splice(i, 1);\n",
    "    }\n",
    "  }\n",
    "};\n",
    "\n",
    "EventEmitter.prototype.once = function(eventName, fn) {\n",
    "  var self = this;\n",
    "  function wrapper() {\n",
    "    // call the original listener with the provided args\n",
    "    fn.apply(null, arguments);\n",
    "    // remove the wrapper after first invocation\n",
    "    self.off(eventName, wrapper);\n",
    "  }\n",
    "  this.on(eventName, wrapper);\n",
    "};\n",
    "\n",
    "EventEmitter.prototype.emit = function(eventName) {\n",
    "  var args = Array.prototype.slice.call(arguments, 1);\n",
    "  var event = this.events[eventName];\n",
    "  if (event) {\n",
    "    event.forEach(function(fn) {\n",
    "      setTimeout(function() {\n",
    "        fn.apply(null, args);\n",
    "      }, 0);\n",
    "    });\n",
    "  }\n",
    "};\n",
    "\n",
    "// Usage demo\n",
    "var emitter = new EventEmitter();\n",
    "console.log('setup the events');\n",
    "\n",
    "function listenerA() { console.log('listenerA called'); }\n",
    "function listenerB() { console.log('listenerB called'); }\n",
    "\n",
    "// add two listeners and then remove one\n",
    "emitter.on('test', listenerA);\n",
    "emitter.on('test', listenerB);\n",
    "console.log('emit 1 (both should run):');\n",
    "emitter.emit('test');\n",
    "\n",
    "// remove listenerA before next emit\n",
    "emitter.off('test', listenerA);\n",
    "console.log('emit 2 (only listenerB should run):');\n",
    "emitter.emit('test');\n",
    "\n",
    "// once demo\n",
    "emitter.once('onceEvent', function() { console.log('onceEvent fired'); });\n",
    "console.log('emit onceEvent first time:');\n",
    "emitter.emit('onceEvent');\n",
    "console.log('emit onceEvent second time (should not fire):');\n",
    "emitter.emit('onceEvent');\n",
    "\n",
    "// Use setImmediate if available (Node). Otherwise, emit after a short timeout for initial demo scheduling.\n",
    "if (typeof setImmediate === 'function') {\n",
    "  setImmediate(function() { /* already emitted above */ });\n",
    "} else {\n",
    "  // nothing extra needed; emits were scheduled with setTimeout inside emit()\n",
    "}\n",
    "\n",
    "console.log('after demo emits');"
   ]
  },
  {
   "cell_type": "markdown",
   "id": "64ea8d65",
   "metadata": {},
   "source": [
    "### 7 — Node's `EventEmitter` usage (from repository `event.emit.js`)\n",
    "Example shows using Node's built-in `events` module and emitting events with arguments. If running this notebook in a Node-backed JS kernel, you can `require('events')`. Otherwise, read as demonstration."
   ]
  },
  {
   "cell_type": "code",
   "execution_count": null,
   "id": "856006db",
   "metadata": {
    "vscode": {
     "languageId": "javascript"
    }
   },
   "outputs": [],
   "source": [
    "// Node example (requires a Node-backed kernel).\n",
    "try {\n",
    "  const EventEmitter = require('events');\n",
    "  const em = new EventEmitter();\n",
    "  em.on('greet', function(name) {\n",
    "    console.log(`Hello, ${name}!`);\n",
    "  });\n",
    "  em.on('user', function(id, name, age) {\n",
    "    console.log(`User ${id}: ${name}, ${age} years old`);\n",
    "  });\n",
    "  // emit some events after a delay\n",
    "  setTimeout(() => {\n",
    "    em.emit('greet', 'Alice');\n",
    "    em.emit('user', 123, 'Bob', 25);\n",
    "  }, 500);\n",
    "} catch (err) {\n",
    "  console.log('Node built-in EventEmitter example skipped (not available in this kernel).');\n",
    "}"
   ]
  },
  {
   "cell_type": "markdown",
   "id": "3fbd5ec0",
   "metadata": {},
   "source": [
    "### 8 — Promises example\n",
    "A small promise demo copied from `event.emit.test.js`. It resolves after 5 seconds in the original file; here we shorten the delay for an interactive notebook."
   ]
  },
  {
   "cell_type": "code",
   "execution_count": null,
   "id": "4ba32d90",
   "metadata": {
    "vscode": {
     "languageId": "javascript"
    }
   },
   "outputs": [],
   "source": [
    "let p = new Promise((resolve, reject) => {\n",
    "  setTimeout(() => {\n",
    "    if (false) {\n",
    "      reject('Promise rejected!');\n",
    "      return;\n",
    "    }\n",
    "    resolve('Promise resolved!');\n",
    "  }, 200); // shortened for demo\n",
    "});\n",
    "\n",
    "p.then(message => console.log(message));\n",
    "p.then(message => console.log('Second then: ' + message));"
   ]
  },
  {
   "cell_type": "markdown",
   "id": "13ba5995",
   "metadata": {},
   "source": [
    "### 9 — Summary & Next Steps\n",
    "- You saw falsy/truthy, `??`, `!!`, var vs let hoisting, event loop ordering, a small ES5 EventEmitter, Node EventEmitter usage, and a Promise example.\n",
    "- Next steps (optional): add `off()` to the ES5 emitter, demonstrate error handling in emit, add short exercises, or convert the ES5 class to ES6 `class` syntax."
   ]
  }
 ],
 "metadata": {
  "language_info": {
   "name": "python"
  }
 },
 "nbformat": 4,
 "nbformat_minor": 5
}
